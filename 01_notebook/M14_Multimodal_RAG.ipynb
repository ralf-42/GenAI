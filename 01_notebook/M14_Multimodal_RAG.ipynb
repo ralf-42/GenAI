{
 "cells": [
  {
   "cell_type": "markdown",
   "source": [
    "![My Image](https://raw.githubusercontent.com/ralf-42/Image/main/genai-banner-2.jpg)"
   ],
   "metadata": {
    "id": "Ih2CTVBnArVZ"
   },
   "id": "Ih2CTVBnArVZ"
  },
  {
   "cell_type": "markdown",
   "source": [
    "<p><font size=\"5\" color='grey'> <b>\n",
    "Multimodales RAG\n",
    "</b></font> </br></p>\n",
    "\n",
    "\n",
    "---"
   ],
   "metadata": {
    "id": "6jJZ7wbdArVc"
   },
   "id": "6jJZ7wbdArVc"
  },
  {
   "cell_type": "code",
   "execution_count": 1,
   "metadata": {
    "id": "9c8df5ef",
    "colab": {
     "base_uri": "https://localhost:8080/"
    },
    "executionInfo": {
     "status": "ok",
     "timestamp": 1761918938966,
     "user_tz": -60,
     "elapsed": 7715,
     "user": {
      "displayName": "Ralf Bendig",
      "userId": "13914949880386033641"
     }
    },
    "outputId": "8ff87c64-259c-4b2f-ff6c-687dd19bd212"
   },
   "outputs": [
    {
     "output_type": "stream",
     "name": "stdout",
     "text": [
      "✓ OPENAI_API_KEY erfolgreich gesetzt\n",
      "✓ HF_TOKEN erfolgreich gesetzt\n",
      "\n",
      "Python Version: 3.12.12 (main, Oct 10 2025, 08:52:57) [GCC 11.4.0]\n",
      "\n",
      "Installierte LangChain-Bibliotheken:\n",
      "langchain                                1.0.3\n",
      "langchain-classic                        1.0.0\n",
      "langchain-community                      0.4.1\n",
      "langchain-core                           1.0.2\n",
      "langchain-experimental                   0.0.42\n",
      "langchain-ollama                         1.0.0\n",
      "langchain-openai                         1.0.1\n",
      "langchain-text-splitters                 1.0.0\n",
      "\n",
      "IP-Adresse: 35.238.84.201\n",
      "Hostname: 201.84.238.35.bc.googleusercontent.com\n",
      "Stadt: Council Bluffs\n",
      "Region: Iowa\n",
      "Land: US\n",
      "Koordinaten: 41.2619,-95.8608\n",
      "Provider: AS396982 Google LLC\n",
      "Postleitzahl: 51502\n",
      "Zeitzone: America/Chicago\n"
     ]
    }
   ],
   "source": [
    "#@title 🔧 Umgebung einrichten{ display-mode: \"form\" }\n!uv pip install --system -q git+https://github.com/ralf-42/GenAI.git#subdirectory=04_modul\nfrom genai_lib.utilities import check_environment, get_ipinfo, setup_api_keys, mprint, install_packages\nsetup_api_keys(['OPENAI_API_KEY', 'HF_TOKEN'], create_globals=False)\nprint()\ncheck_environment()\nprint()\nget_ipinfo()"
   ],
   "id": "9c8df5ef"
  },
  {
   "cell_type": "code",
   "execution_count": 2,
   "metadata": {
    "id": "4d2e699d",
    "colab": {
     "base_uri": "https://localhost:8080/"
    },
    "executionInfo": {
     "status": "ok",
     "timestamp": 1761918945655,
     "user_tz": -60,
     "elapsed": 6659,
     "user": {
      "displayName": "Ralf Bendig",
      "userId": "13914949880386033641"
     }
    },
    "outputId": "fa82cec6-862a-4cf4-c197-7befc81848e6"
   },
   "outputs": [
    {
     "output_type": "stream",
     "name": "stdout",
     "text": [
      "🔄 Installiere markitdown[all]...\n",
      "✅ markitdown[all] erfolgreich installiert und importiert\n",
      "🔄 Installiere langchain_chroma...\n",
      "✅ langchain_chroma erfolgreich installiert und importiert\n"
     ]
    }
   ],
   "source": [
    "#@title 🛠️ Installationen { display-mode: \"form\" }\n",
    "install_packages([\n",
    "    ('markitdown[all]', 'markitdown'),\n",
    "    'langchain_chroma',\n",
    "])"
   ],
   "id": "4d2e699d"
  },
  {
   "cell_type": "code",
   "execution_count": 3,
   "metadata": {
    "id": "da4cf78d",
    "colab": {
     "base_uri": "https://localhost:8080/"
    },
    "executionInfo": {
     "status": "ok",
     "timestamp": 1761918949482,
     "user_tz": -60,
     "elapsed": 3799,
     "user": {
      "displayName": "Ralf Bendig",
      "userId": "13914949880386033641"
     }
    },
    "outputId": "e85e3b58-83c0-4586-cb10-c5e5359d32be"
   },
   "outputs": [
    {
     "output_type": "stream",
     "name": "stdout",
     "text": [
      "  % Total    % Received % Xferd  Average Speed   Time    Time     Time  Current\n",
      "                                 Dload  Upload   Total   Spent    Left  Speed\n",
      "100  5324  100  5324    0     0  25602      0 --:--:-- --:--:-- --:--:-- 25719\n",
      "  % Total    % Received % Xferd  Average Speed   Time    Time     Time  Current\n",
      "                                 Dload  Upload   Total   Spent    Left  Speed\n",
      "100  7868  100  7868    0     0  56752      0 --:--:-- --:--:-- --:--:-- 57014\n",
      "  % Total    % Received % Xferd  Average Speed   Time    Time     Time  Current\n",
      "                                 Dload  Upload   Total   Spent    Left  Speed\n",
      "100 68184  100 68184    0     0   304k      0 --:--:-- --:--:-- --:--:--  305k\n",
      "  % Total    % Received % Xferd  Average Speed   Time    Time     Time  Current\n",
      "                                 Dload  Upload   Total   Spent    Left  Speed\n",
      "100 18743  100 18743    0     0   105k      0 --:--:-- --:--:-- --:--:--  105k\n",
      "  % Total    % Received % Xferd  Average Speed   Time    Time     Time  Current\n",
      "                                 Dload  Upload   Total   Spent    Left  Speed\n",
      "100  1841  100  1841    0     0  10760      0 --:--:-- --:--:-- --:--:-- 10829\n",
      "  % Total    % Received % Xferd  Average Speed   Time    Time     Time  Current\n",
      "                                 Dload  Upload   Total   Spent    Left  Speed\n",
      "100  338k  100  338k    0     0  1162k      0 --:--:-- --:--:-- --:--:-- 1165k\n",
      "  % Total    % Received % Xferd  Average Speed   Time    Time     Time  Current\n",
      "                                 Dload  Upload   Total   Spent    Left  Speed\n",
      "100 2995k  100 2995k    0     0  4812k      0 --:--:-- --:--:-- --:--:-- 4808k\n",
      "  % Total    % Received % Xferd  Average Speed   Time    Time     Time  Current\n",
      "                                 Dload  Upload   Total   Spent    Left  Speed\n",
      "100 1378k  100 1378k    0     0  3242k      0 --:--:-- --:--:-- --:--:-- 3244k\n",
      "  % Total    % Received % Xferd  Average Speed   Time    Time     Time  Current\n",
      "                                 Dload  Upload   Total   Spent    Left  Speed\n",
      "100 1440k  100 1440k    0     0  2998k      0 --:--:-- --:--:-- --:--:-- 3000k\n",
      "  % Total    % Received % Xferd  Average Speed   Time    Time     Time  Current\n",
      "                                 Dload  Upload   Total   Spent    Left  Speed\n",
      "100 33808  100 33808    0     0   203k      0 --:--:-- --:--:-- --:--:--  203k\n"
     ]
    }
   ],
   "source": [
    "#@title 📂 Dokumente, Bilder, Modul { display-mode: \"form\" }\n",
    "!rm -rf files\n",
    "!mkdir files\n",
    "\n",
    "# --- Texte\n",
    "!curl -L https://raw.githubusercontent.com/ralf-42/GenAI/main/02%20data/biografien_1.txt -o files/biografien_1.txt\n",
    "!curl -L https://raw.githubusercontent.com/ralf-42/GenAI/main/02%20data/biografien_2.md -o files/biografien_2.md\n",
    "!curl -L https://raw.githubusercontent.com/ralf-42/GenAI/main/02%20data/biografien_3.pdf -o files/biografien_3.pdf\n",
    "!curl -L https://raw.githubusercontent.com/ralf-42/GenAI/main/02%20data/biografien_4.docx -o files/biografien_4.docx\n",
    "!curl -L https://raw.githubusercontent.com/ralf-42/GenAI/main/02%20data/roboter.txt -o files/roboter.txt\n",
    "\n",
    "# --- Bilder\n",
    "!curl -L https://raw.githubusercontent.com/ralf-42/GenAI/main/02%20data/retro_robot.jpg -o files/retro_robot.jpg\n",
    "!curl -L https://raw.githubusercontent.com/ralf-42/GenAI/main/02%20data/hedra_cyborg.png -o files/hedra_cyborg.png\n",
    "!curl -L https://raw.githubusercontent.com/ralf-42/GenAI/main/02%20data/apfel.png -o files/apfel.png\n",
    "!curl -L https://raw.githubusercontent.com/ralf-42/GenAI/main/02%20data/zwei_roboter.png -o zwei_roboter.png\n",
    "\n",
    "# --- Python-Modul\n",
    "!curl -L https://raw.githubusercontent.com/ralf-42/GenAI/main/01%20ipynb/multimodal_rag_modul.py -o multimodal_rag_modul.py"
   ],
   "id": "da4cf78d"
  },
  {
   "cell_type": "markdown",
   "source": [
    "# 1 | RAG-Prozess\n",
    "---"
   ],
   "metadata": {
    "id": "B41ZbXwBQ2eW"
   },
   "id": "B41ZbXwBQ2eW"
  },
  {
   "cell_type": "markdown",
   "source": [
    "In dem entwickelten **multimodalen Retrieval-Augmented-Generation (RAG)**-System werden sowohl Text- als auch Bilddaten verarbeitet.\n",
    "Für die **Bildverarbeitung** kommt ein zweistufiger Ansatz zum Einsatz:\n",
    "\n",
    "1. **Image-Embedding:**\n",
    "   Das Bild wird in einen hochdimensionalen Vektorraum eingebettet, um visuelle Merkmale wie Formen, Farben und Strukturen numerisch zu repräsentieren.\n",
    "\n",
    "2. **Textbeschreibung und Text-Embedding:**\n",
    "   Zusätzlich wird mit *gpt-4o-mini* eine sprachliche Beschreibung des Bildes erzeugt. Diese Beschreibung wird anschließend in ein Text-Embedding überführt, um semantische Informationen textbasiert nutzbar zu machen.\n",
    "\n",
    "---\n",
    "\n",
    "**Vorteile des Ansatzes:**\n",
    "\n",
    "* **Erweiterte semantische Repräsentation:**\n",
    "  Durch die Kombination von visuellen und sprachlichen Embeddings werden sowohl konkrete als auch konzeptuelle Eigenschaften eines Bildes abgebildet.\n",
    "\n",
    "* **Verbesserte Retrieval-Qualität:**\n",
    "  Textbasierte Suchanfragen können nicht nur über visuelle Ähnlichkeiten, sondern auch über die semantisch beschriebene Bedeutung der Bilder beantwortet werden.\n",
    "\n",
    "* **Höhere Interpretierbarkeit:**\n",
    "  Die generierte Bildbeschreibung ermöglicht eine transparente Nachvollziehbarkeit der zugrunde liegenden Repräsentationen und unterstützt bei der Evaluierung der Ergebnisse.\n",
    "\n",
    "* **Gute Erweiterbarkeit:**\n",
    "  Das Verfahren ist modular aufgebaut und lässt sich leicht um weitere Modalitäten wie Audio oder Video ergänzen.\n"
   ],
   "metadata": {
    "id": "w8JVLgSaEljT"
   },
   "id": "w8JVLgSaEljT"
  },
  {
   "cell_type": "markdown",
   "source": [
    "<p><font color='black' size=\"5\">\n",
    "RAG-Prozess für Texte\n",
    "</font></p>"
   ],
   "metadata": {
    "id": "RQ6sRV_FCboz"
   },
   "id": "RQ6sRV_FCboz"
  },
  {
   "cell_type": "markdown",
   "source": [
    "<img src=\"https://raw.githubusercontent.com/ralf-42/Image/main/rag_process.png\" width=\"600\" alt=\"Avatar\">"
   ],
   "metadata": {
    "id": "bC_Exz8iWjIN"
   },
   "id": "bC_Exz8iWjIN"
  },
  {
   "cell_type": "markdown",
   "source": [
    "<p><font color='black' size=\"5\">\n",
    "RAG-Prozess für Bilder\n",
    "</font></p>"
   ],
   "metadata": {
    "id": "a2aUO4bhCgtv"
   },
   "id": "a2aUO4bhCgtv"
  },
  {
   "cell_type": "markdown",
   "source": [
    "<img src=\"https://raw.githubusercontent.com/ralf-42/Image/main/rag_process_03.png\" width=\"600\" alt=\"Avatar\">"
   ],
   "metadata": {
    "id": "Uubxl-tr_1I_"
   },
   "id": "Uubxl-tr_1I_"
  },
  {
   "cell_type": "markdown",
   "id": "ce95c6f6",
   "metadata": {
    "id": "ce95c6f6"
   },
   "source": [
    "# 2 | Modul `multimodal_rag`\n",
    "---"
   ]
  },
  {
   "cell_type": "markdown",
   "source": [
    "Python-Modul für ein **funktionales multimodales RAG-System**, das Text- und Bilddokumente in einer einheitlichen Vektordatenbank verwaltet und durchsucht.\n",
    "\n",
    "**Modalitätsrichtungen**\n",
    "\n",
    "| Eingabe (Query) | Ausgabe (Antwort) | Beispiel / Beschreibung | Status |\n",
    "|-----------------|-------------------|-------------------------|--------|\n",
    "| **Text → Text** | Textbasierte Frage führt zu Textantwort | Klassisches RAG-System (z.B. Chatbot, Q&A) | ✅ |\n",
    "| **Text → Bild** | Textanfrage findet relevante Bilder | \"Zeige mir Roboter-Bilder\" | ✅ |\n",
    "| **Bild → Text** | Bildanalyse oder Captioning | \"Was ist auf diesem Foto zu sehen?\" | ✅ |\n",
    "| **Bild → Bild** | Bildretrieval oder visuelle Transformation | \"Finde ähnliche Bilder\" | ✅ |\n",
    "| **Text + Bild → Text** | Kombination zur Textgenerierung | \"Welche Informationen enthält dieses Diagramm?\" | ❌ |\n",
    "| **Text + Bild → Bild** | Bedingte Bildgenerierung | \"Mach aus diesem Bild eine Winterversion\" | ❌ |\n",
    "\n",
    "**Hauptvorteile**\n",
    "\n",
    "1. **Funktionale Architektur**: Klare Trennung von Konfiguration, Komponenten und Funktionen\n",
    "2. **Einheitliche Datenbank**: ChromaDB mit separaten Collections für Text und Bilder\n",
    "3. **Hybride Suche**: Text-Embeddings (OpenAI) + Bild-Embeddings (CLIP)\n",
    "4. **Flexible Konfiguration**: Alle Parameter über RAGConfig anpassbar\n",
    "5. **Bildbeschreibung**: Zu jedem Bild wird zusätzlich eine Bildbeschreibung erstellt."
   ],
   "metadata": {
    "id": "goAFmj5RYrAK"
   },
   "id": "goAFmj5RYrAK"
  },
  {
   "cell_type": "markdown",
   "source": [
    "<p><font color='black' size=\"5\">\n",
    "Aufbau\n",
    "</font></p>\n",
    "\n",
    "**RAGConfig**\n",
    "- Zentrale Konfigurationsklasse\n",
    "- Anpassbare Parameter (chunk_size, models, thresholds)\n",
    "\n",
    "**RAGComponents**\n",
    "- Container für alle System-Komponenten\n",
    "- Text-Embeddings, CLIP-Model, LLMs, Collections\n",
    "\n",
    "**Hauptfunktionen**\n",
    "- Datensammlung\n",
    "    - `init_rag_system()`: System-Initialisierung\n",
    "    - `process_directory()`: Bulk-Import von Dateien\n",
    "    - `add_text_document()`: Einzelnes Dokument hinzufügen\n",
    "    - `add_image_with_description()`: Bild mit Auto-Beschreibung\n",
    "- Abruf & Erweiterung\n",
    "    - `search_texts()`: Text-Suche inkl. Bildbeschreibungen\n",
    "    - `search_images()`: CLIP-basierte Bildsuche\n",
    "    - `search_similar_images()`: Bild→Bild Ähnlichkeitssuche\n",
    "    - `search_text_by_image()`: Bild→Text Suche\n",
    "    - `multimodal_search()`: Erweiterte multimodale Suche"
   ],
   "metadata": {
    "id": "ce_ZmxwJMiNd"
   },
   "id": "ce_ZmxwJMiNd"
  },
  {
   "cell_type": "markdown",
   "source": [
    "<img src=\"https://raw.githubusercontent.com/ralf-42/Image/main/multimodal_rag_function_call.png\" width=\"1100\" alt=\"Avatar\">\n",
    "\n",
    "\n"
   ],
   "metadata": {
    "id": "5kK-F9_0ugNW"
   },
   "id": "5kK-F9_0ugNW"
  },
  {
   "cell_type": "code",
   "source": [
    "# Import des Moduls\n",
    "from multimodal_rag_modul import (\n",
    "    init_rag_system,\n",
    "    process_directory,\n",
    "    multimodal_search,\n",
    "    search_texts,\n",
    "    search_images,\n",
    "    search_text_by_image,\n",
    "    search_similar_images,\n",
    "    add_text_document,\n",
    "    add_image_with_description,\n",
    "    get_system_status\n",
    ")"
   ],
   "metadata": {
    "id": "JkDO4IE9T7fl",
    "executionInfo": {
     "status": "ok",
     "timestamp": 1761919033178,
     "user_tz": -60,
     "elapsed": 36316,
     "user": {
      "displayName": "Ralf Bendig",
      "userId": "13914949880386033641"
     }
    }
   },
   "id": "JkDO4IE9T7fl",
   "execution_count": 4,
   "outputs": []
  },
  {
   "cell_type": "markdown",
   "source": [
    "# 3 | RAG initialisieren\n",
    "---"
   ],
   "metadata": {
    "id": "Szr8GWgQHRaY"
   },
   "id": "Szr8GWgQHRaY"
  },
  {
   "cell_type": "code",
   "source": [
    "# Initialisierung\n",
    "rag = init_rag_system()"
   ],
   "metadata": {
    "id": "pLf6ZW9b7N2r",
    "colab": {
     "base_uri": "https://localhost:8080/",
     "height": 0,
     "referenced_widgets": [
      "b447871dc7d643019075d74452902c97",
      "40e9e875d44642aaa885187c78c8bfd6",
      "4d1a4d506bf745c19416e9497dc12932",
      "70c649c530784c69ae656b776b473c12",
      "88a3aac0a65d425b986fd09243ba66b0",
      "e01d5c2e3aad423490bb506996a08949",
      "dd7dc58b553f48d4ba13e6a8e5458fe6",
      "8411003a0c834362956370c4e046fe65",
      "67468b2b773940d9b8a8280044a2b111",
      "67b7ed2a43bf48f698c67835f9bd6e5e",
      "aa91b192a5764c658f445a9c36f84f54",
      "c624d95f9e9a495189891f2175a4a275",
      "32b493e4b8eb4d2cb97f18562355cd14",
      "1d27d419fdce4bd6a112f3d1de91900d",
      "1ed023e1b48f4bb0a6ddde9db671b723",
      "e4c04f38d41e464d8ff8f5f836b96c4e",
      "fb823915c2af415c876e13b873d3f2ba",
      "a57be0834b7d4a65ba2404cb8c336144",
      "16388c5df506416b975120399da3b9e4",
      "6677fa00b0e441c59ed94eade5becd86",
      "b28c8bf6af574e99b15d5b0df34c2921",
      "3d0875da77fb4524a459346b2ee82767",
      "b8231093d4d441509337b8957585a092",
      "4b199bb9f3954451a11fcee1adcd89d1",
      "d1b2cefff9f34e3d8351ac2315ec1aa1",
      "ef966899f7644647960004e25478356a",
      "428b4da1b7d04de6b3f278bcd83386e8",
      "2a5008b87d124bfca6ce6a299314ec2e",
      "7e3a3d719ff1467d93a01c42c46a6489",
      "562ca57506434d8d86a78ad027bb0fbb",
      "ea013516ada64ea395344f0364c24e46",
      "9b2c31b383ad47ab84c33d770f335910",
      "633ada25610449cd81c24b792f2f1042",
      "3fd931f69f8c4f9e92e50b6743b2e271",
      "7fa73d46d61644fb8939a203f28d4497",
      "5c497f8939eb4c75bbc48ed9b699a44f",
      "7856eb463d6b40b8aac6a118c2f158d8",
      "51e82993a333423db9b7007a5191f661",
      "51a01aff8a6c47b2b1933bac417cd170",
      "d0464d78c08941d7bf8ac889f3bf7efe",
      "fb90aed56f164f3583b41326c692a046",
      "065bd9bf65c64933b2642d6d45394ddd",
      "721d606aa2f64b1db93c21f72e6acdf9",
      "6f0baabad77e45daa1ad3afbe912dce9",
      "5a2e87ac06494e0086d68d766ca58c6c",
      "809955ef601b48f59e2ad7da0280bd90",
      "682a33df26a84ed5a1e0d42d5d47e968",
      "108f4bc941fa432b92bfa8cf28b587c6",
      "c8c42e884cfe48258d4aa3168e65cf02",
      "23301b63040844a7a930512af53f1552",
      "af078843054c4488b41deeb80ac43697",
      "02a157bbd2d8403a94236b6c36b3b019",
      "cae0f3b0e44b4367875c8cb9df49d366",
      "b19d38f6097547899d802fae7b717695",
      "e1e800eb824e4526860d28a7ab1603ba",
      "e8979619218945d4bff7424127abef81",
      "fc0723a64ed34669aec796aa113c6779",
      "4553e10f08994ec49fbb47776f4b73ec",
      "0e25f1311ed3421d8e3390ed5e84b17a",
      "a9d8872acf20412b9d8fad08fd96dc9f",
      "7680cb7b7eff4b96beceb804f5184670",
      "ac4a304a0fc94350a5243e0b518358d8",
      "85439dcafa7b4defa32c751b3d46106d",
      "99207ce4fe614f1fb9b910c576f3bb3b",
      "16fbce49cb9448818879f3a583668c4b",
      "07c58cd1129c48588df22abf30ac96f5",
      "4758a3b19bd142fba173e286fe1567e8",
      "7e7b869ffb054a82b7dee0b67031f5c4",
      "46518c3ecac746929dd8c7743e87e997",
      "64cd770f159f4e5d8b130d55bd70b5fc",
      "79baa924329b45559019ab31d57dfdb8",
      "dfe72ce65012414b94aac506d5f31d49",
      "6d646078c450488da75986a5693f8a55",
      "1b81259b6da04b0dbcf311a23f3b4e6a",
      "c3a37aaf6b05490ca44ccaaa9f5f15e9",
      "e74c98bc6dbc4ce8831a2910e8f7ac19",
      "ffeea66de46845ae8546acd3e2911643",
      "a237a4b35d174a54b2ccd583d117375d",
      "75d85c5fafc54acfa8986fa02a761925",
      "fcd485a0a3a543a981743721f9c7fc77",
      "070ba15f178d406aae370a8e1f22ef48",
      "d385765f90164e8c9fe19426f0dafc58",
      "f3089c9603ea45ad896c5012bb6802b4",
      "0c9d15f115bc48ed8197537beefadd3a",
      "210dcde2589a48d4a3a8803465be61fd",
      "3b182ad1552d477cb79fa14750e3a143",
      "dc34b3928dcf42cf844f16aa77bc93fb",
      "39aff3e3120a451cb12ae6aba4cbd80c",
      "babdb09da83847bca1858d69f81d60cb",
      "bc73b08122d84e25aa6c63b3b633d48a",
      "e42a5397c8a244edba0ecde9e28f66af",
      "3dac8700fef141268cb97ea3b8a134d4",
      "e667ac2f19454afdbd014faf2faaac38",
      "ab09ce6fa3c44002a0f470f67ef0e98c",
      "59bc8e5311b04346bde0577659f9d830",
      "f23a0141deb144e6bace4a754f327a4b",
      "6b34ffe05f1349bbb3784bb648f0ce7c",
      "eff3c71ae67c46f99a9aa2b9c8f736ad",
      "a1df458986444e40aac8d47b26b72981",
      "90874d70553a428985bffd7014023fdb",
      "ebdcc2ea74624330b6992bde05d720d3",
      "68d1e2cd83fa4930a9931c8975d8df66",
      "3b1b5d338c3e4b69b44723a73273773a",
      "bd7d6d5448ca452babdc41f34493d75a",
      "40175b1d28e546ae9bb9374c791e60f5",
      "4c958d1ab99b4b509a232e6e8f08525f",
      "ccc3759529804b0ab5ff2ad69199d876",
      "6890c513b04d4b40b673ca35a9f40f52",
      "f447bcf3bb25424ebb37ee9c717765d4",
      "0afa4bcfffea4e32ba3db48aee91a68a",
      "c37cf75cd2a548baab5f500313b7ca5b",
      "428e6ced80704832982da082abb84c1b",
      "a1f995d01b1a4e9486752b21288b9ab3",
      "7b7c8ad527d442cca9354d8cd394bcdc",
      "0b077816e3834f869a32d0192447fd81",
      "b415703d81634631899e5f838fbe28e0",
      "c1bf1a9586714e9c96c8c473ddd7db41",
      "9aa55dc643024d6bb371db472585e61c",
      "ba2003cac861479f87718ee0e9271eed",
      "04b9615031f5436687d547c9de254f72",
      "dc060f0baa4a4edeb6d1855918c24e3b"
     ]
    },
    "executionInfo": {
     "status": "ok",
     "timestamp": 1761919048398,
     "user_tz": -60,
     "elapsed": 15228,
     "user": {
      "displayName": "Ralf Bendig",
      "userId": "13914949880386033641"
     }
    },
    "outputId": "125275a4-7934-4e11-9b6f-2808715d8d57"
   },
   "id": "pLf6ZW9b7N2r",
   "execution_count": 5,
   "outputs": [
    {
     "output_type": "stream",
     "name": "stdout",
     "text": [
      "🚀 Initialisiere Enhanced RAG-System in ./multimodal_rag_db\n",
      "✅ OpenAI Text-Embeddings initialisiert\n",
      "🖼️ Lade CLIP-Modell...\n"
     ]
    },
    {
     "output_type": "display_data",
     "data": {
      "text/plain": [
       "modules.json:   0%|          | 0.00/122 [00:00<?, ?B/s]"
      ],
      "application/vnd.jupyter.widget-view+json": {
       "version_major": 2,
       "version_minor": 0,
       "model_id": "b447871dc7d643019075d74452902c97"
      }
     },
     "metadata": {}
    },
    {
     "output_type": "display_data",
     "data": {
      "text/plain": [
       "config_sentence_transformers.json:   0%|          | 0.00/116 [00:00<?, ?B/s]"
      ],
      "application/vnd.jupyter.widget-view+json": {
       "version_major": 2,
       "version_minor": 0,
       "model_id": "c624d95f9e9a495189891f2175a4a275"
      }
     },
     "metadata": {}
    },
    {
     "output_type": "display_data",
     "data": {
      "text/plain": [
       "README.md: 0.00B [00:00, ?B/s]"
      ],
      "application/vnd.jupyter.widget-view+json": {
       "version_major": 2,
       "version_minor": 0,
       "model_id": "b8231093d4d441509337b8957585a092"
      }
     },
     "metadata": {}
    },
    {
     "output_type": "display_data",
     "data": {
      "text/plain": [
       "merges.txt: 0.00B [00:00, ?B/s]"
      ],
      "application/vnd.jupyter.widget-view+json": {
       "version_major": 2,
       "version_minor": 0,
       "model_id": "3fd931f69f8c4f9e92e50b6743b2e271"
      }
     },
     "metadata": {}
    },
    {
     "output_type": "display_data",
     "data": {
      "text/plain": [
       "config.json: 0.00B [00:00, ?B/s]"
      ],
      "application/vnd.jupyter.widget-view+json": {
       "version_major": 2,
       "version_minor": 0,
       "model_id": "5a2e87ac06494e0086d68d766ca58c6c"
      }
     },
     "metadata": {}
    },
    {
     "output_type": "display_data",
     "data": {
      "text/plain": [
       "vocab.json: 0.00B [00:00, ?B/s]"
      ],
      "application/vnd.jupyter.widget-view+json": {
       "version_major": 2,
       "version_minor": 0,
       "model_id": "e8979619218945d4bff7424127abef81"
      }
     },
     "metadata": {}
    },
    {
     "output_type": "display_data",
     "data": {
      "text/plain": [
       "tokenizer_config.json:   0%|          | 0.00/604 [00:00<?, ?B/s]"
      ],
      "application/vnd.jupyter.widget-view+json": {
       "version_major": 2,
       "version_minor": 0,
       "model_id": "4758a3b19bd142fba173e286fe1567e8"
      }
     },
     "metadata": {}
    },
    {
     "output_type": "display_data",
     "data": {
      "text/plain": [
       "special_tokens_map.json:   0%|          | 0.00/389 [00:00<?, ?B/s]"
      ],
      "application/vnd.jupyter.widget-view+json": {
       "version_major": 2,
       "version_minor": 0,
       "model_id": "a237a4b35d174a54b2ccd583d117375d"
      }
     },
     "metadata": {}
    },
    {
     "output_type": "display_data",
     "data": {
      "text/plain": [
       "0_CLIPModel/model.safetensors:   0%|          | 0.00/605M [00:00<?, ?B/s]"
      ],
      "application/vnd.jupyter.widget-view+json": {
       "version_major": 2,
       "version_minor": 0,
       "model_id": "babdb09da83847bca1858d69f81d60cb"
      }
     },
     "metadata": {}
    },
    {
     "output_type": "display_data",
     "data": {
      "text/plain": [
       "preprocessor_config.json:   0%|          | 0.00/316 [00:00<?, ?B/s]"
      ],
      "application/vnd.jupyter.widget-view+json": {
       "version_major": 2,
       "version_minor": 0,
       "model_id": "90874d70553a428985bffd7014023fdb"
      }
     },
     "metadata": {}
    },
    {
     "output_type": "display_data",
     "data": {
      "text/plain": [
       "0_CLIPModel/pytorch_model.bin:   0%|          | 0.00/605M [00:00<?, ?B/s]"
      ],
      "application/vnd.jupyter.widget-view+json": {
       "version_major": 2,
       "version_minor": 0,
       "model_id": "c37cf75cd2a548baab5f500313b7ca5b"
      }
     },
     "metadata": {}
    },
    {
     "output_type": "stream",
     "name": "stderr",
     "text": [
      "Using a slow image processor as `use_fast` is unset and a slow processor was saved with this model. `use_fast=True` will be the default behavior in v4.52, even if the model was saved with a slow processor. This will result in minor differences in outputs. You'll still be able to use a slow processor with `use_fast=False`.\n"
     ]
    },
    {
     "output_type": "stream",
     "name": "stdout",
     "text": [
      "✅ CLIP-Modell geladen\n",
      "✅ LLMs initialisiert (Text + Vision)\n",
      "✅ Collections initialisiert\n",
      "\n"
     ]
    }
   ]
  },
  {
   "cell_type": "code",
   "source": [
    "# Konfiguration abfragen\n",
    "print(rag.config)\n",
    "\n",
    "# Konfiguration ändern (Beispiel: chunk_size ändern)\n",
    "# rag.config.chunk_size = 300"
   ],
   "metadata": {
    "id": "jHAP9o6hXJHs",
    "colab": {
     "base_uri": "https://localhost:8080/"
    },
    "executionInfo": {
     "status": "ok",
     "timestamp": 1761919048430,
     "user_tz": -60,
     "elapsed": 29,
     "user": {
      "displayName": "Ralf Bendig",
      "userId": "13914949880386033641"
     }
    },
    "outputId": "ab2588ad-839e-4e35-d4c8-a4e5d9c302e7"
   },
   "id": "jHAP9o6hXJHs",
   "execution_count": 6,
   "outputs": [
    {
     "output_type": "stream",
     "name": "stdout",
     "text": [
      "RAGConfig(chunk_size=200, chunk_overlap=20, text_threshold=1.2, image_threshold=0.8, clip_model='clip-ViT-B-32', text_model='text-embedding-3-small', llm_model='gpt-4o-mini', vision_model='gpt-4o-mini', db_path='./multimodal_rag_db')\n"
     ]
    }
   ]
  },
  {
   "cell_type": "markdown",
   "source": [
    "# 4 | Bilder/Texte in RAG übernehmen\n",
    "---"
   ],
   "metadata": {
    "id": "BMa1SMEvU5GO"
   },
   "id": "BMa1SMEvU5GO"
  },
  {
   "cell_type": "code",
   "source": [
    "# Dokumente/Bilder laden & verarbeiten\n",
    "process_directory(rag, './files', auto_describe_images=True)"
   ],
   "metadata": {
    "id": "ADyLHzEPKBqE",
    "colab": {
     "base_uri": "https://localhost:8080/"
    },
    "executionInfo": {
     "status": "ok",
     "timestamp": 1761919073317,
     "user_tz": -60,
     "elapsed": 24882,
     "user": {
      "displayName": "Ralf Bendig",
      "userId": "13914949880386033641"
     }
    },
    "outputId": "0d6dd041-531a-4eae-b1f8-8ee6ccbe0aa0"
   },
   "id": "ADyLHzEPKBqE",
   "execution_count": 7,
   "outputs": [
    {
     "output_type": "stream",
     "name": "stdout",
     "text": [
      "📊 Gefunden: 5 Text-Dateien, 3 Bilder\n",
      "\n",
      "📄 biografien_3.pdf\n",
      "✅ 68 Chunks von 'biografien_3.pdf' hinzugefügt\n",
      "📄 roboter.txt\n",
      "✅ 11 Chunks von 'roboter.txt' hinzugefügt\n",
      "📄 biografien_2.md\n",
      "✅ 44 Chunks von 'biografien_2.md' hinzugefügt\n",
      "📄 biografien_1.txt\n",
      "✅ 32 Chunks von 'biografien_1.txt' hinzugefügt\n",
      "📄 biografien_4.docx\n",
      "✅ 63 Chunks von 'biografien_4.docx' hinzugefügt\n",
      "\n",
      "🖼️ hedra_cyborg.png\n",
      "🖼️ Bild-Embedding erstellt für hedra_cyborg.png\n",
      "📝 Bildbeschreibung generiert: Das Bild zeigt einen männlichen Charakter in einem futuristischen, eng anliegenden Anzug, der metall...\n",
      "✅ Bildbeschreibung in Text-Collection gespeichert\n",
      "✅ Bild 'hedra_cyborg.png' mit Cross-References hinzugefügt\n",
      "\n",
      "🖼️ apfel.png\n",
      "🖼️ Bild-Embedding erstellt für apfel.png\n",
      "📝 Bildbeschreibung generiert: Das Bild zeigt einen glänzenden roten Apfel, der auf einer Holzoberfläche platziert ist. Der Apfel h...\n",
      "✅ Bildbeschreibung in Text-Collection gespeichert\n",
      "✅ Bild 'apfel.png' mit Cross-References hinzugefügt\n",
      "\n",
      "🖼️ retro_robot.jpg\n",
      "🖼️ Bild-Embedding erstellt für retro_robot.jpg\n",
      "📝 Bildbeschreibung generiert: Das Bild zeigt einen freundlichen, silbernen Roboter, der vor einem Gebäude steht, das mit einem Sch...\n",
      "✅ Bildbeschreibung in Text-Collection gespeichert\n",
      "✅ Bild 'retro_robot.jpg' mit Cross-References hinzugefügt\n",
      "\n"
     ]
    },
    {
     "output_type": "execute_result",
     "data": {
      "text/plain": [
       "{'texts': 5, 'images': 3, 'image_descriptions': 3}"
      ]
     },
     "metadata": {},
     "execution_count": 7
    }
   ]
  },
  {
   "cell_type": "markdown",
   "source": [
    "# 5 | Suche mit Text\n",
    "---"
   ],
   "metadata": {
    "id": "P3qn5ylkQM43"
   },
   "id": "P3qn5ylkQM43"
  },
  {
   "cell_type": "markdown",
   "source": [
    "<p><font color='black' size=\"5\">\n",
    "Text → Text\n",
    "</font></p>"
   ],
   "metadata": {
    "id": "x8cIHLcuZjGx"
   },
   "id": "x8cIHLcuZjGx"
  },
  {
   "cell_type": "code",
   "source": [
    "result = search_texts(rag, \"Was weisst Du über Cyborgs?\")\n",
    "mprint(result)"
   ],
   "metadata": {
    "colab": {
     "base_uri": "https://localhost:8080/",
     "height": 232
    },
    "id": "_4QC-Rp3ZyYL",
    "executionInfo": {
     "status": "ok",
     "timestamp": 1761919076898,
     "user_tz": -60,
     "elapsed": 3552,
     "user": {
      "displayName": "Ralf Bendig",
      "userId": "13914949880386033641"
     }
    },
    "outputId": "1bea0efe-5889-4522-f879-4e38ab286120"
   },
   "id": "_4QC-Rp3ZyYL",
   "execution_count": 8,
   "outputs": [
    {
     "output_type": "display_data",
     "data": {
      "text/plain": [
       "<IPython.core.display.Markdown object>"
      ],
      "text/markdown": "[search_texts] 🤖 LLM-ANTWORT:\n----------------------------------------------------------------------\nCyborgs sind hybride Wesen, die sowohl biologische als auch technologische Komponenten vereinen. Sie können Menschen sein, die durch mechanische oder elektronische Teile ergänzt wurden, um ihre Fähigkeiten zu erweitern oder zu verbessern. In der Science-Fiction werden Cyborgs oft als Charaktere dargestellt, die übermenschliche Fähigkeiten besitzen oder in der Lage sind, mit Maschinen zu interagieren. Ethische Fragen, die mit Cyborgs verbunden sind, betreffen unter anderem Identität, Verantwortung und die Auswirkungen der Technologie auf das menschliche Leben.\n\n[search_texts] 📚 VERWENDETE QUELLEN:\n----------------------------------------------------------------------\n\n   📄 Text-Dokumente (2):\n      1. roboter.txt (Ähnlichkeit: 0.444)\n      2. roboter.txt (Ähnlichkeit: 0.431)\n\n   🖼️ Bildbeschreibungen (1):\n      1. hedra_cyborg.png (Ähnlichkeit: 0.529)\n"
     },
     "metadata": {}
    }
   ]
  },
  {
   "cell_type": "markdown",
   "source": [
    "<p><font color='black' size=\"5\">\n",
    "Text → Bild\n",
    "</font></p>"
   ],
   "metadata": {
    "id": "KTjhySRZZqvQ"
   },
   "id": "KTjhySRZZqvQ"
  },
  {
   "cell_type": "code",
   "source": [
    "result = search_images(rag, \"Was weisst Du über Cyborgs?\")\n",
    "for img in result:\n",
    "    mprint(f\"**🖼️ {img['filename']}**\")\n",
    "    mprint(img['description'])"
   ],
   "metadata": {
    "colab": {
     "base_uri": "https://localhost:8080/",
     "height": 221
    },
    "id": "EC4mMFYXZqa8",
    "executionInfo": {
     "status": "ok",
     "timestamp": 1761919077031,
     "user_tz": -60,
     "elapsed": 128,
     "user": {
      "displayName": "Ralf Bendig",
      "userId": "13914949880386033641"
     }
    },
    "outputId": "91bf4c46-ab6c-49a1-8100-f55feb4e3c50"
   },
   "id": "EC4mMFYXZqa8",
   "execution_count": 9,
   "outputs": [
    {
     "output_type": "display_data",
     "data": {
      "text/plain": [
       "<IPython.core.display.Markdown object>"
      ],
      "text/markdown": "**🖼️ hedra_cyborg.png**"
     },
     "metadata": {}
    },
    {
     "output_type": "display_data",
     "data": {
      "text/plain": [
       "<IPython.core.display.Markdown object>"
      ],
      "text/markdown": "Das Bild zeigt einen männlichen Charakter in einem futuristischen, eng anliegenden Anzug, der metallische und strukturierte Elemente aufweist. Die dominierenden Farben sind dunkles Blau und Schwarz, was eine ernste und kraftvolle Stimmung vermittelt. Die Komposition ist fokussiert auf das Gesicht und den Oberkörper des Charakters, während der Hintergrund unscharf bleibt und eine moderne Umgebung andeutet. Besondere Merkmale sind die detaillierte Textur des Anzugs und der entschlossene Ausdruck d"
     },
     "metadata": {}
    },
    {
     "output_type": "display_data",
     "data": {
      "text/plain": [
       "<IPython.core.display.Markdown object>"
      ],
      "text/markdown": "**🖼️ retro_robot.jpg**"
     },
     "metadata": {}
    },
    {
     "output_type": "display_data",
     "data": {
      "text/plain": [
       "<IPython.core.display.Markdown object>"
      ],
      "text/markdown": "Das Bild zeigt einen freundlichen, silbernen Roboter, der vor einem Gebäude steht, das mit einem Schild \"WELCOME ROBOTS WELCOME\" geschmückt ist. Die Farben sind hell und einladend, mit warmen Tönen, die eine positive und futuristische Stimmung erzeugen. Die Komposition zeigt den Roboter im Vordergrund, während im Hintergrund weitere Roboter sichtbar sind, was auf eine belebte Umgebung hinweist. Besondere Merkmale sind die glänzende Oberfläche des Roboters und die retro-futuristische Gestaltung d"
     },
     "metadata": {}
    }
   ]
  },
  {
   "cell_type": "markdown",
   "source": [
    "<p><font color='black' size=\"5\">\n",
    "Text → Text/Bild\n",
    "</font></p>"
   ],
   "metadata": {
    "id": "bO9ANZ84Z0VL"
   },
   "id": "bO9ANZ84Z0VL"
  },
  {
   "cell_type": "code",
   "source": [
    "result = multimodal_search(rag, \"Was weisst Du über Cyborgs?\")\n",
    "mprint(result)"
   ],
   "metadata": {
    "id": "wNUlfGbzJ_mx",
    "colab": {
     "base_uri": "https://localhost:8080/",
     "height": 638
    },
    "executionInfo": {
     "status": "ok",
     "timestamp": 1761919079115,
     "user_tz": -60,
     "elapsed": 2080,
     "user": {
      "displayName": "Ralf Bendig",
      "userId": "13914949880386033641"
     }
    },
    "outputId": "8db34604-d149-4aef-de39-4e52f169a49e"
   },
   "id": "wNUlfGbzJ_mx",
   "execution_count": 10,
   "outputs": [
    {
     "output_type": "stream",
     "name": "stdout",
     "text": [
      "\n",
      "[multimodal_search] ======================================================================\n",
      "[multimodal_search] 🔍 Multimodale Suche: Was weisst Du über Cyborgs?\n",
      "[multimodal_search] ======================================================================\n",
      "\n"
     ]
    },
    {
     "output_type": "display_data",
     "data": {
      "text/plain": [
       "<IPython.core.display.Markdown object>"
      ],
      "text/markdown": "🤖 LLM-ZUSAMMENFASSUNG:\n======================================================================\nCyborgs sind hybride Wesen, die sowohl biologische als auch technologische Komponenten vereinen. Sie können Menschen sein, die durch mechanische oder elektronische Teile ergänzt oder verbessert wurden, um ihre Fähigkeiten zu erweitern oder bestimmte Funktionen zu erfüllen. In der Science-Fiction werden Cyborgs oft als Charaktere dargestellt, die übermenschliche Fähigkeiten besitzen oder in der Lage sind, mit Maschinen zu interagieren. Ethische Fragen, die mit Cyborgs verbunden sind, betreffen unter anderem Identität, Verantwortung und die Auswirkungen der Technologie auf das menschliche Leben.\n\n📚 VERWENDETE QUELLEN (via semantische Textsuche):\n======================================================================\n\n   📄 Text-Dokumente (2):\n      1. roboter.txt (Ähnlichkeit: 0.444)\n      2. roboter.txt (Ähnlichkeit: 0.43)\n\n   🖼️ Bildbeschreibungen (1):\n      1. hedra_cyborg.png (Ähnlichkeit: 0.529)\n\n🔍 BILDER VIA CLIP (direkte visuelle Ähnlichkeitssuche):\n======================================================================\n   1. hedra_cyborg.png (Ähnlichkeit: 0.239)\n      📝 Das Bild zeigt einen männlichen Charakter in einem futuristischen, eng anliegenden Anzug, der metallische und strukturierte Elemente aufweist. Die dominierenden Farben sind dunkles Blau und Schwarz, was eine ernste und kraftvolle Stimmung vermittelt. Die Komposition ist fokussiert auf das Gesicht un...\n   2. retro_robot.jpg (Ähnlichkeit: 0.22)\n      📝 Das Bild zeigt einen freundlichen, silbernen Roboter, der vor einem Gebäude steht, das mit einem Schild \"WELCOME ROBOTS WELCOME\" geschmückt ist. Die Farben sind hell und einladend, mit warmen Tönen, die eine positive und futuristische Stimmung erzeugen. Die Komposition zeigt den Roboter im Vordergru...\n\n🔗 BILDER VIA CROSS-MODAL RETRIEVAL (Text → Bild Verknüpfung):\n======================================================================\n   1. hedra_cyborg.png\n      📝 Das Bild zeigt einen männlichen Charakter in einem futuristischen, eng anliegenden Anzug, der metallische und strukturierte Elemente aufweist. Die dominierenden Farben sind dunkles Blau und Schwarz, was eine ernste und kraftvolle Stimmung vermittelt. Die Komposition ist fokussiert auf das Gesicht un...\n"
     },
     "metadata": {}
    }
   ]
  },
  {
   "cell_type": "markdown",
   "source": [
    "# 6 | Suche mit Bild\n",
    "---"
   ],
   "metadata": {
    "id": "MKp-dUs0d5lS"
   },
   "id": "MKp-dUs0d5lS"
  },
  {
   "cell_type": "markdown",
   "source": [
    "<p><font color='black' size=\"5\">\n",
    "Bild → Bild\n",
    "</font></p>"
   ],
   "metadata": {
    "id": "luEyYK_3aDZa"
   },
   "id": "luEyYK_3aDZa"
  },
  {
   "cell_type": "code",
   "source": [
    "# Bild → Bild: Finde visuell ähnliche Bilder\n",
    "result = search_similar_images(rag, \"./zwei_roboter.png\", k=5)\n",
    "mprint(\"## 🖼️ Suche Bild → Bild\")\n",
    "mprint(\"---\")\n",
    "for img in result:\n",
    "    mprint(f\"{img['filename']}: Ähnlichkeit: {img['similarity']}\")"
   ],
   "metadata": {
    "id": "dMaVQXrwd96e",
    "colab": {
     "base_uri": "https://localhost:8080/",
     "height": 198
    },
    "executionInfo": {
     "status": "ok",
     "timestamp": 1761919079377,
     "user_tz": -60,
     "elapsed": 225,
     "user": {
      "displayName": "Ralf Bendig",
      "userId": "13914949880386033641"
     }
    },
    "outputId": "57fce56a-4a4e-4cb7-c589-9744e09ee084"
   },
   "id": "dMaVQXrwd96e",
   "execution_count": 11,
   "outputs": [
    {
     "output_type": "stream",
     "name": "stdout",
     "text": [
      "[search_similar_images] 🔍 CLIP-Embedding erstellt für Query-Bild: zwei_roboter.png\n",
      "[search_similar_images] ✅ 3 ähnliche Bilder gefunden\n",
      "\n"
     ]
    },
    {
     "output_type": "display_data",
     "data": {
      "text/plain": [
       "<IPython.core.display.Markdown object>"
      ],
      "text/markdown": "## 🖼️ Suche Bild → Bild"
     },
     "metadata": {}
    },
    {
     "output_type": "display_data",
     "data": {
      "text/plain": [
       "<IPython.core.display.Markdown object>"
      ],
      "text/markdown": "---"
     },
     "metadata": {}
    },
    {
     "output_type": "display_data",
     "data": {
      "text/plain": [
       "<IPython.core.display.Markdown object>"
      ],
      "text/markdown": "retro_robot.jpg: Ähnlichkeit: 0.829"
     },
     "metadata": {}
    },
    {
     "output_type": "display_data",
     "data": {
      "text/plain": [
       "<IPython.core.display.Markdown object>"
      ],
      "text/markdown": "apfel.png: Ähnlichkeit: 0.677"
     },
     "metadata": {}
    },
    {
     "output_type": "display_data",
     "data": {
      "text/plain": [
       "<IPython.core.display.Markdown object>"
      ],
      "text/markdown": "hedra_cyborg.png: Ähnlichkeit: 0.469"
     },
     "metadata": {}
    }
   ]
  },
  {
   "cell_type": "markdown",
   "source": [
    "<p><font color='black' size=\"5\">\n",
    "Bild → Text\n",
    "</font></p>"
   ],
   "metadata": {
    "id": "QTalbIXZaJQY"
   },
   "id": "QTalbIXZaJQY"
  },
  {
   "cell_type": "code",
   "source": [
    "# Bild → Text: Finde Textinformationen zu dem Bild\n",
    "result = search_text_by_image(rag, \"./zwei_roboter.png\", k=5)\n",
    "mprint(result)"
   ],
   "metadata": {
    "id": "5GBaaj6QUIq_",
    "colab": {
     "base_uri": "https://localhost:8080/",
     "height": 1000
    },
    "executionInfo": {
     "status": "ok",
     "timestamp": 1761919089292,
     "user_tz": -60,
     "elapsed": 9912,
     "user": {
      "displayName": "Ralf Bendig",
      "userId": "13914949880386033641"
     }
    },
    "outputId": "f417a725-6594-4deb-af5c-fe8a08406c22"
   },
   "id": "5GBaaj6QUIq_",
   "execution_count": 12,
   "outputs": [
    {
     "output_type": "stream",
     "name": "stdout",
     "text": [
      "\n",
      "[search_text_by_image] ======================================================================\n",
      "[search_text_by_image] 🔍 Bild → Text Suche für: zwei_roboter.png\n",
      "[search_text_by_image] ======================================================================\n",
      "\n",
      "[search_similar_images] 🔍 CLIP-Embedding erstellt für Query-Bild: zwei_roboter.png\n",
      "[search_similar_images] ✅ 3 ähnliche Bilder gefunden\n",
      "\n",
      "[search_text_by_image] 🔍 Suche nach relevanten Text-Dokumenten basierend auf Bildbeschreibungen...\n",
      "[search_text_by_image] ✅ 3 relevante Text-Dokumente gefunden\n",
      "\n"
     ]
    },
    {
     "output_type": "display_data",
     "data": {
      "text/plain": [
       "<IPython.core.display.Markdown object>"
      ],
      "text/markdown": "[search_text_by_image] 🤖 LLM-ZUSAMMENFASSUNG:\n======================================================================\nDie Analyse des Query-Bildes zeigt eine starke visuelle und semantische Verbindung zu Robotern und futuristischen Themen. \n\n**Visuelle Ähnlichkeiten:**\n1. **Retro-Roboter**: Das Bild eines freundlichen, silbernen Roboters vor einem einladenden Gebäude mit dem Schild \"WELCOME ROBOTS WELCOME\" hebt die positive und futuristische Stimmung hervor. Die glänzende Oberfläche und die retro-futuristische Gestaltung deuten auf eine Umgebung hin, in der Roboter akzeptiert und integriert sind.\n2. **Cyborg-Charakter**: Der männliche Charakter in einem futuristischen Anzug vermittelt eine ernste und kraftvolle Atmosphäre, die oft in Science-Fiction-Settings zu finden ist. Die detaillierte Textur und der entschlossene Ausdruck des Charakters betonen die Verbindung zu technologischen und futuristischen Themen.\n\n**Relevante Textdokumente:**\nDie Dokumente über Roboter verdeutlichen, dass Roboter nicht nur technische Werkzeuge sind, sondern auch Ausdruck menschlicher Kreativität und Ambitionen. Sie sind mittlerweile ein fester Bestandteil des Alltags und der industriellen Produktion, wobei sie Aufgaben übernehmen, die für Menschen gefährlich oder monoton sind. Die Entwicklung von Servicerobotern und kollaborativen Robotern zeigt, dass sich das Bild des Roboters weiterentwickelt und sie zunehmend in verschiedenen Lebensbereichen integriert werden.\n\n**Gemeinsamkeiten und wichtige Merkmale:**\n- **Technologische Integration**: Sowohl die Bilder als auch die Texte thematisieren die Integration von Robotern in die Gesellschaft und deren Rolle in der Zukunft.\n- **Futuristische Ästhetik**: Die visuelle Darstellung der Roboter und Cyborgs spiegelt eine futuristische Ästhetik wider, die in den Texten als Teil der menschlichen Ambitionen beschrieben wird.\n- **Positive Wahrnehmung**: Die freundliche Darstellung des Roboters und die einladende Umgebung deuten auf eine positive Wahrnehmung von Robotern hin, die in den Texten als zunehmend akzeptierte und nützliche Begleiter beschrieben werden.\n\nInsgesamt zeigen die Informationen, dass Roboter und futuristische Technologien nicht nur technische Innovationen sind, sondern auch kulturelle Symbole für Fortschritt und menschliche Kreativität darstellen.\n\n[search_text_by_image] 🔍 VERWENDETE QUELLEN (visuell ähnliche Bilder via CLIP):\n======================================================================\n   1. retro_robot.jpg (Ähnlichkeit: 0.829)\n      📝 Das Bild zeigt einen freundlichen, silbernen Roboter, der vor einem Gebäude steht, das mit einem Schild \"WELCOME ROBOTS WELCOME\" geschmückt ist. Die Farben sind hell und einladend, mit warmen Tönen, die eine positive und futuristische Stimmung erzeugen. Die Komposition zeigt den Roboter im Vordergru...\n   2. apfel.png (Ähnlichkeit: 0.677)\n      📝 Das Bild zeigt einen glänzenden roten Apfel, der auf einer Holzoberfläche platziert ist. Der Apfel hat eine frische, lebendige Farbe und wird durch ein grünes Blatt ergänzt, das ihm eine natürliche Note verleiht. Die Komposition ist einfach und fokussiert, mit einem neutralen, hellen Hintergrund, de...\n   3. hedra_cyborg.png (Ähnlichkeit: 0.469)\n      📝 Das Bild zeigt einen männlichen Charakter in einem futuristischen, eng anliegenden Anzug, der metallische und strukturierte Elemente aufweist. Die dominierenden Farben sind dunkles Blau und Schwarz, was eine ernste und kraftvolle Stimmung vermittelt. Die Komposition ist fokussiert auf das Gesicht un...\n\n[search_text_by_image] 📚 RELEVANTE TEXT-DOKUMENTE (via semantische Suche):\n======================================================================\n   1. roboter.txt (Ähnlichkeit: 0.521)\n      📄 Roboter sind damit nicht nur technische Werkzeuge, sondern Ausdruck menschlicher Kreativität und Ambition – sie spiegeln wider, wie wir uns selbst, unsere Arbeit und unsere Zukunft verstehen. Der...\n   2. roboter.txt (Ähnlichkeit: 0.482)\n      📄 kann. Gleichzeitig verändert sich das Bild des Roboters zunehmend: Neben den klassischen Industrierobotern treten heute Serviceroboter, autonome Fahrzeuge und kollaborative Roboter („Cobots“) auf,...\n   3. roboter.txt (Ähnlichkeit: 0.426)\n      📄 Roboter sind längst keine Zukunftsvision mehr, sondern fester Bestandteil unseres Alltags und der industriellen Produktion. Sie übernehmen Aufgaben, die für Menschen zu gefährlich, monoton oder...\n"
     },
     "metadata": {}
    }
   ]
  },
  {
   "cell_type": "markdown",
   "id": "v1pnxcg3exq",
   "source": [
    "# 7 | Aufgabe\n",
    "---"
   ],
   "metadata": {
    "id": "v1pnxcg3exq"
   }
  },
  {
   "cell_type": "markdown",
   "id": "vfr2jthhvw8",
   "source": [
    "<p><font color='black' size=\"5\">\n",
    "Teste das Multimodale RAG-System mit eigenen Queries\n",
    "</font></p>\n",
    "\n",
    "**Ziel**: Nutze das fertige multimodale RAG-System, um verschiedene Such-Operationen durchzuführen.\n",
    "\n"
   ],
   "metadata": {
    "id": "vfr2jthhvw8"
   }
  },
  {
   "cell_type": "markdown",
   "source": [
    "**Schritt 1: Einfache Queries testen**\n",
    "\n",
    "Führe die folgenden Queries mit dem RAG-System aus und beobachte, welche Ergebnisse zurückgeliefert werden:\n",
    "\n",
    "```python\n",
    "# Query 1: Text → Text (Klassisches RAG)\n",
    "result = multimodal_search(rag, \"Wer war Alan Turing?\")\n",
    "mprint(result)\n",
    "\n",
    "# Query 2: Text → Bild (Textanfrage findet Bilder)\n",
    "result = multimodal_search(rag, \"Zeige mir Bilder von Robotern\")\n",
    "mprint(result)\n",
    "\n",
    "# Query 3: Bild → Bild (Finde ähnliche Bilder)\n",
    "similar_images = search_similar_images(rag, \"./files/apfel.jpg\", k=3)\n",
    "mprint(\"## 🖼️ Ähnliche Bilder:\")\n",
    "for img in similar_images:\n",
    "    mprint(f\"  • {img['filename']}: Ähnlichkeit {img['similarity']:.2f}\")\n",
    "\n",
    "# Query 4: Bild → Text (Finde Textinformationen zu einem Bild)\n",
    "text_result = search_text_by_image(rag, \"./files/hedra_cyborg.png\", k=3)\n",
    "mprint(text_result)\n",
    "```\n",
    "\n"
   ],
   "metadata": {
    "id": "a9_HhGimXnlO"
   },
   "id": "a9_HhGimXnlO"
  },
  {
   "cell_type": "markdown",
   "source": [
    "**Schritt 2: Eigene Queries erstellen**\n",
    "\n",
    "Entwickle mindestens **3 eigene Queries**, die verschiedene Modalitäten nutzen:\n",
    "\n",
    "**Beispiele für kreative Queries:**\n",
    "\n",
    "- **Text→Text**: \"Was ist der Unterschied zwischen Robotern und Cyborgs?\"\n",
    "- **Text→Bild**: \"Finde alle futuristischen Bilder\"\n",
    "- **Bild→Bild**: Suche ähnliche Bilder zu `a_retro-futuristic_robot_dall_e.jpg`\n",
    "- **Bild→Text**: Finde Textinformationen, die zum Apfel-Bild passen\n",
    "\n"
   ],
   "metadata": {
    "id": "jGDaXV7rXqSO"
   },
   "id": "jGDaXV7rXqSO"
  },
  {
   "cell_type": "markdown",
   "source": [
    "**Schritt 3: Bonus-Challenge (Optional)**\n",
    "\n",
    "Experimentiere mit den Suchparametern:\n",
    "\n",
    "```python\n",
    "# Ändere die Anzahl der Ergebnisse (k)\n",
    "result = multimodal_search(rag, \"Roboter\", k=5)\n",
    "\n",
    "# Vergleiche verschiedene Bilder für die Bild→Bild Suche\n",
    "similar_1 = search_similar_images(rag, \"./files/apfel.jpg\", k=3)\n",
    "similar_2 = search_similar_images(rag, \"./files/hedra_cyborg.png\", k=3)\n",
    "\n",
    "# Finde heraus, welche Bilder am ähnlichsten zueinander sind\n",
    "```"
   ],
   "metadata": {
    "id": "v_WzXtmKXsGa"
   },
   "id": "v_WzXtmKXsGa"
  },
  {
   "cell_type": "markdown",
   "source": [
    "# A | Ähnlichkeitsmessung\n",
    "---"
   ],
   "metadata": {
    "id": "knkBxX2Two-i"
   },
   "id": "knkBxX2Two-i"
  },
  {
   "cell_type": "markdown",
   "source": [
    "\n",
    "<p><font color='black' size=\"5\">\n",
    "1. Text-Ähnlichkeit (semantisch)\n",
    "</font></p>\n",
    "\n",
    "  Embedding-Modell: OpenAI text-embedding-3-small\n",
    "\n",
    "  Messmethode:\n",
    "  - ChromaDB nutzt L2-Distanz (Euklidische Distanz) für Text-Embeddings\n",
    "  - Werte: 0 = identisch, 2 = maximal entfernt\n",
    "  - Konvertierung Distanz zu Ähnlichkeit: similarity = max(0, 1 - (score / 2))\n",
    "  - Threshold: text_threshold: 1.2 (Zeile 51), Mindest-Ähnlichkeit: 0.3\n",
    "\n",
    "  Verwendung in:\n",
    "  - search_texts() - Text-Dokumente und Bildbeschreibungen durchsuchen\n",
    "  - multimodal_search() - Kombinierte Suche\n",
    "\n",
    "  ---"
   ],
   "metadata": {
    "id": "U0zYvcUGwtel"
   },
   "id": "U0zYvcUGwtel"
  },
  {
   "cell_type": "markdown",
   "source": [
    "<p><font color='black' size=\"5\">\n",
    "2. Bild-Ähnlichkeit (visuell)\n",
    "</font></p>\n",
    "\n",
    "  Embedding-Modell: CLIP clip-ViT-B-32\n",
    "\n",
    "  Messmethode:\n",
    "  - ChromaDB nutzt Cosine-Distanz für Bild-Embeddings (Zeile 131: \"hnsw:space\": \"cosine\")\n",
    "  - Werte: 0 = identisch, 2 = maximal entfernt\n",
    "  - Konvertierung zu Ähnlichkeit:\n",
    "  similarity = round(max(0, 1 - distance), 3)\n",
    "  - Threshold: image_threshold: 0.8\n",
    "\n",
    "  Verwendung in:\n",
    "  - search_images() - Text → Bild Suche über CLIP   \n",
    "  - search_similar_images() - Bild → Bild Suche  \n",
    "\n",
    "  ---\n",
    "  "
   ],
   "metadata": {
    "id": "JHroT_lGw4YI"
   },
   "id": "JHroT_lGw4YI"
  },
  {
   "cell_type": "markdown",
   "source": [
    "<p><font color='black' size=\"5\">\n",
    "3. Cross-Modal-Retrieval (Text ↔ Bild)\n",
    "</font></p>\n",
    "\n",
    "\n",
    "  Methode: Indirekte Ähnlichkeit über Bildbeschreibungen\n",
    "\n",
    "  Ablauf:\n",
    "  1. Text → Bild: Text-Suche findet Bildbeschreibungen → verknüpfte Bilder werden abgerufen  \n",
    "  2. Bild → Text: Bild-Suche findet ähnliche Bilder → deren Beschreibungen werden für semantische Textsuche verwendet\n",
    "\n",
    "  Verknüpfung: Beide Collections sind über text_doc_id ↔ image_doc_id referenziert\n",
    "\n",
    "  ---\n",
    "  "
   ],
   "metadata": {
    "id": "n-wEhLp4w9Vs"
   },
   "id": "n-wEhLp4w9Vs"
  },
  {
   "cell_type": "markdown",
   "source": [
    "<p><font color='black' size=\"5\">\n",
    "Zusammenfassung der Metriken:\n",
    "</font></p>\n",
    "\n",
    "  | Modalität | Embedding-Modell              | Distanzmetrik  | Threshold | Ähnlichkeitsbereich |\n",
    "  |-----------|-------------------------------|----------------|-----------|---------------------|\n",
    "  | Text      | OpenAI text-embedding-3-small | L2-Distanz     | 1.2       | 0.3 - 1.0           |\n",
    "  | Bild      | CLIP ViT-B-32                 | Cosine-Distanz | 0.8       | 0.0 - 1.0           |\n",
    "\n",
    "  Die Konvertierung 1 - (distance / 2) normalisiert beide Distanzmaße auf einen Ähnlichkeitswert von 0 bis 1, wobei 1 = maximale Ähnlichkeit bedeutet."
   ],
   "metadata": {
    "id": "hYXY40XQxHDo"
   },
   "id": "hYXY40XQxHDo"
  }
 ],
 "metadata": {
  "kernelspec": {
   "display_name": "Python 3",
   "language": "python",
   "name": "python3"
  },
  "language_info": {
   "name": "python",
   "version": "3.10.0"
  },
  "colab": {
   "provenance": [],
   "collapsed_sections": [
    "B41ZbXwBQ2eW",
    "Szr8GWgQHRaY",
    "v1pnxcg3exq",
    "knkBxX2Two-i"
   ]
  },
  "widgets": {
   "application/vnd.jupyter.widget-state+json": {
    "b447871dc7d643019075d74452902c97": {
     "model_module": "@jupyter-widgets/controls",
     "model_name": "HBoxModel",
     "model_module_version": "1.5.0",
     "state": {
      "_dom_classes": [],
      "_model_module": "@jupyter-widgets/controls",
      "_model_module_version": "1.5.0",
      "_model_name": "HBoxModel",
      "_view_count": null,
      "_view_module": "@jupyter-widgets/controls",
      "_view_module_version": "1.5.0",
      "_view_name": "HBoxView",
      "box_style": "",
      "children": [
       "IPY_MODEL_40e9e875d44642aaa885187c78c8bfd6",
       "IPY_MODEL_4d1a4d506bf745c19416e9497dc12932",
       "IPY_MODEL_70c649c530784c69ae656b776b473c12"
      ],
      "layout": "IPY_MODEL_88a3aac0a65d425b986fd09243ba66b0"
     }
    },
    "40e9e875d44642aaa885187c78c8bfd6": {
     "model_module": "@jupyter-widgets/controls",
     "model_name": "HTMLModel",
     "model_module_version": "1.5.0",
     "state": {
      "_dom_classes": [],
      "_model_module": "@jupyter-widgets/controls",
      "_model_module_version": "1.5.0",
      "_model_name": "HTMLModel",
      "_view_count": null,
      "_view_module": "@jupyter-widgets/controls",
      "_view_module_version": "1.5.0",
      "_view_name": "HTMLView",
      "description": "",
      "description_tooltip": null,
      "layout": "IPY_MODEL_e01d5c2e3aad423490bb506996a08949",
      "placeholder": "​",
      "style": "IPY_MODEL_dd7dc58b553f48d4ba13e6a8e5458fe6",
      "value": "modules.json: 100%"
     }
    },
    "4d1a4d506bf745c19416e9497dc12932": {
     "model_module": "@jupyter-widgets/controls",
     "model_name": "FloatProgressModel",
     "model_module_version": "1.5.0",
     "state": {
      "_dom_classes": [],
      "_model_module": "@jupyter-widgets/controls",
      "_model_module_version": "1.5.0",
      "_model_name": "FloatProgressModel",
      "_view_count": null,
      "_view_module": "@jupyter-widgets/controls",
      "_view_module_version": "1.5.0",
      "_view_name": "ProgressView",
      "bar_style": "success",
      "description": "",
      "description_tooltip": null,
      "layout": "IPY_MODEL_8411003a0c834362956370c4e046fe65",
      "max": 122,
      "min": 0,
      "orientation": "horizontal",
      "style": "IPY_MODEL_67468b2b773940d9b8a8280044a2b111",
      "value": 122
     }
    },
    "70c649c530784c69ae656b776b473c12": {
     "model_module": "@jupyter-widgets/controls",
     "model_name": "HTMLModel",
     "model_module_version": "1.5.0",
     "state": {
      "_dom_classes": [],
      "_model_module": "@jupyter-widgets/controls",
      "_model_module_version": "1.5.0",
      "_model_name": "HTMLModel",
      "_view_count": null,
      "_view_module": "@jupyter-widgets/controls",
      "_view_module_version": "1.5.0",
      "_view_name": "HTMLView",
      "description": "",
      "description_tooltip": null,
      "layout": "IPY_MODEL_67b7ed2a43bf48f698c67835f9bd6e5e",
      "placeholder": "​",
      "style": "IPY_MODEL_aa91b192a5764c658f445a9c36f84f54",
      "value": " 122/122 [00:00&lt;00:00, 12.8kB/s]"
     }
    },
    "88a3aac0a65d425b986fd09243ba66b0": {
     "model_module": "@jupyter-widgets/base",
     "model_name": "LayoutModel",
     "model_module_version": "1.2.0",
     "state": {
      "_model_module": "@jupyter-widgets/base",
      "_model_module_version": "1.2.0",
      "_model_name": "LayoutModel",
      "_view_count": null,
      "_view_module": "@jupyter-widgets/base",
      "_view_module_version": "1.2.0",
      "_view_name": "LayoutView",
      "align_content": null,
      "align_items": null,
      "align_self": null,
      "border": null,
      "bottom": null,
      "display": null,
      "flex": null,
      "flex_flow": null,
      "grid_area": null,
      "grid_auto_columns": null,
      "grid_auto_flow": null,
      "grid_auto_rows": null,
      "grid_column": null,
      "grid_gap": null,
      "grid_row": null,
      "grid_template_areas": null,
      "grid_template_columns": null,
      "grid_template_rows": null,
      "height": null,
      "justify_content": null,
      "justify_items": null,
      "left": null,
      "margin": null,
      "max_height": null,
      "max_width": null,
      "min_height": null,
      "min_width": null,
      "object_fit": null,
      "object_position": null,
      "order": null,
      "overflow": null,
      "overflow_x": null,
      "overflow_y": null,
      "padding": null,
      "right": null,
      "top": null,
      "visibility": null,
      "width": null
     }
    },
    "e01d5c2e3aad423490bb506996a08949": {
     "model_module": "@jupyter-widgets/base",
     "model_name": "LayoutModel",
     "model_module_version": "1.2.0",
     "state": {
      "_model_module": "@jupyter-widgets/base",
      "_model_module_version": "1.2.0",
      "_model_name": "LayoutModel",
      "_view_count": null,
      "_view_module": "@jupyter-widgets/base",
      "_view_module_version": "1.2.0",
      "_view_name": "LayoutView",
      "align_content": null,
      "align_items": null,
      "align_self": null,
      "border": null,
      "bottom": null,
      "display": null,
      "flex": null,
      "flex_flow": null,
      "grid_area": null,
      "grid_auto_columns": null,
      "grid_auto_flow": null,
      "grid_auto_rows": null,
      "grid_column": null,
      "grid_gap": null,
      "grid_row": null,
      "grid_template_areas": null,
      "grid_template_columns": null,
      "grid_template_rows": null,
      "height": null,
      "justify_content": null,
      "justify_items": null,
      "left": null,
      "margin": null,
      "max_height": null,
      "max_width": null,
      "min_height": null,
      "min_width": null,
      "object_fit": null,
      "object_position": null,
      "order": null,
      "overflow": null,
      "overflow_x": null,
      "overflow_y": null,
      "padding": null,
      "right": null,
      "top": null,
      "visibility": null,
      "width": null
     }
    },
    "dd7dc58b553f48d4ba13e6a8e5458fe6": {
     "model_module": "@jupyter-widgets/controls",
     "model_name": "DescriptionStyleModel",
     "model_module_version": "1.5.0",
     "state": {
      "_model_module": "@jupyter-widgets/controls",
      "_model_module_version": "1.5.0",
      "_model_name": "DescriptionStyleModel",
      "_view_count": null,
      "_view_module": "@jupyter-widgets/base",
      "_view_module_version": "1.2.0",
      "_view_name": "StyleView",
      "description_width": ""
     }
    },
    "8411003a0c834362956370c4e046fe65": {
     "model_module": "@jupyter-widgets/base",
     "model_name": "LayoutModel",
     "model_module_version": "1.2.0",
     "state": {
      "_model_module": "@jupyter-widgets/base",
      "_model_module_version": "1.2.0",
      "_model_name": "LayoutModel",
      "_view_count": null,
      "_view_module": "@jupyter-widgets/base",
      "_view_module_version": "1.2.0",
      "_view_name": "LayoutView",
      "align_content": null,
      "align_items": null,
      "align_self": null,
      "border": null,
      "bottom": null,
      "display": null,
      "flex": null,
      "flex_flow": null,
      "grid_area": null,
      "grid_auto_columns": null,
      "grid_auto_flow": null,
      "grid_auto_rows": null,
      "grid_column": null,
      "grid_gap": null,
      "grid_row": null,
      "grid_template_areas": null,
      "grid_template_columns": null,
      "grid_template_rows": null,
      "height": null,
      "justify_content": null,
      "justify_items": null,
      "left": null,
      "margin": null,
      "max_height": null,
      "max_width": null,
      "min_height": null,
      "min_width": null,
      "object_fit": null,
      "object_position": null,
      "order": null,
      "overflow": null,
      "overflow_x": null,
      "overflow_y": null,
      "padding": null,
      "right": null,
      "top": null,
      "visibility": null,
      "width": null
     }
    },
    "67468b2b773940d9b8a8280044a2b111": {
     "model_module": "@jupyter-widgets/controls",
     "model_name": "ProgressStyleModel",
     "model_module_version": "1.5.0",
     "state": {
      "_model_module": "@jupyter-widgets/controls",
      "_model_module_version": "1.5.0",
      "_model_name": "ProgressStyleModel",
      "_view_count": null,
      "_view_module": "@jupyter-widgets/base",
      "_view_module_version": "1.2.0",
      "_view_name": "StyleView",
      "bar_color": null,
      "description_width": ""
     }
    },
    "67b7ed2a43bf48f698c67835f9bd6e5e": {
     "model_module": "@jupyter-widgets/base",
     "model_name": "LayoutModel",
     "model_module_version": "1.2.0",
     "state": {
      "_model_module": "@jupyter-widgets/base",
      "_model_module_version": "1.2.0",
      "_model_name": "LayoutModel",
      "_view_count": null,
      "_view_module": "@jupyter-widgets/base",
      "_view_module_version": "1.2.0",
      "_view_name": "LayoutView",
      "align_content": null,
      "align_items": null,
      "align_self": null,
      "border": null,
      "bottom": null,
      "display": null,
      "flex": null,
      "flex_flow": null,
      "grid_area": null,
      "grid_auto_columns": null,
      "grid_auto_flow": null,
      "grid_auto_rows": null,
      "grid_column": null,
      "grid_gap": null,
      "grid_row": null,
      "grid_template_areas": null,
      "grid_template_columns": null,
      "grid_template_rows": null,
      "height": null,
      "justify_content": null,
      "justify_items": null,
      "left": null,
      "margin": null,
      "max_height": null,
      "max_width": null,
      "min_height": null,
      "min_width": null,
      "object_fit": null,
      "object_position": null,
      "order": null,
      "overflow": null,
      "overflow_x": null,
      "overflow_y": null,
      "padding": null,
      "right": null,
      "top": null,
      "visibility": null,
      "width": null
     }
    },
    "aa91b192a5764c658f445a9c36f84f54": {
     "model_module": "@jupyter-widgets/controls",
     "model_name": "DescriptionStyleModel",
     "model_module_version": "1.5.0",
     "state": {
      "_model_module": "@jupyter-widgets/controls",
      "_model_module_version": "1.5.0",
      "_model_name": "DescriptionStyleModel",
      "_view_count": null,
      "_view_module": "@jupyter-widgets/base",
      "_view_module_version": "1.2.0",
      "_view_name": "StyleView",
      "description_width": ""
     }
    },
    "c624d95f9e9a495189891f2175a4a275": {
     "model_module": "@jupyter-widgets/controls",
     "model_name": "HBoxModel",
     "model_module_version": "1.5.0",
     "state": {
      "_dom_classes": [],
      "_model_module": "@jupyter-widgets/controls",
      "_model_module_version": "1.5.0",
      "_model_name": "HBoxModel",
      "_view_count": null,
      "_view_module": "@jupyter-widgets/controls",
      "_view_module_version": "1.5.0",
      "_view_name": "HBoxView",
      "box_style": "",
      "children": [
       "IPY_MODEL_32b493e4b8eb4d2cb97f18562355cd14",
       "IPY_MODEL_1d27d419fdce4bd6a112f3d1de91900d",
       "IPY_MODEL_1ed023e1b48f4bb0a6ddde9db671b723"
      ],
      "layout": "IPY_MODEL_e4c04f38d41e464d8ff8f5f836b96c4e"
     }
    },
    "32b493e4b8eb4d2cb97f18562355cd14": {
     "model_module": "@jupyter-widgets/controls",
     "model_name": "HTMLModel",
     "model_module_version": "1.5.0",
     "state": {
      "_dom_classes": [],
      "_model_module": "@jupyter-widgets/controls",
      "_model_module_version": "1.5.0",
      "_model_name": "HTMLModel",
      "_view_count": null,
      "_view_module": "@jupyter-widgets/controls",
      "_view_module_version": "1.5.0",
      "_view_name": "HTMLView",
      "description": "",
      "description_tooltip": null,
      "layout": "IPY_MODEL_fb823915c2af415c876e13b873d3f2ba",
      "placeholder": "​",
      "style": "IPY_MODEL_a57be0834b7d4a65ba2404cb8c336144",
      "value": "config_sentence_transformers.json: 100%"
     }
    },
    "1d27d419fdce4bd6a112f3d1de91900d": {
     "model_module": "@jupyter-widgets/controls",
     "model_name": "FloatProgressModel",
     "model_module_version": "1.5.0",
     "state": {
      "_dom_classes": [],
      "_model_module": "@jupyter-widgets/controls",
      "_model_module_version": "1.5.0",
      "_model_name": "FloatProgressModel",
      "_view_count": null,
      "_view_module": "@jupyter-widgets/controls",
      "_view_module_version": "1.5.0",
      "_view_name": "ProgressView",
      "bar_style": "success",
      "description": "",
      "description_tooltip": null,
      "layout": "IPY_MODEL_16388c5df506416b975120399da3b9e4",
      "max": 116,
      "min": 0,
      "orientation": "horizontal",
      "style": "IPY_MODEL_6677fa00b0e441c59ed94eade5becd86",
      "value": 116
     }
    },
    "1ed023e1b48f4bb0a6ddde9db671b723": {
     "model_module": "@jupyter-widgets/controls",
     "model_name": "HTMLModel",
     "model_module_version": "1.5.0",
     "state": {
      "_dom_classes": [],
      "_model_module": "@jupyter-widgets/controls",
      "_model_module_version": "1.5.0",
      "_model_name": "HTMLModel",
      "_view_count": null,
      "_view_module": "@jupyter-widgets/controls",
      "_view_module_version": "1.5.0",
      "_view_name": "HTMLView",
      "description": "",
      "description_tooltip": null,
      "layout": "IPY_MODEL_b28c8bf6af574e99b15d5b0df34c2921",
      "placeholder": "​",
      "style": "IPY_MODEL_3d0875da77fb4524a459346b2ee82767",
      "value": " 116/116 [00:00&lt;00:00, 11.6kB/s]"
     }
    },
    "e4c04f38d41e464d8ff8f5f836b96c4e": {
     "model_module": "@jupyter-widgets/base",
     "model_name": "LayoutModel",
     "model_module_version": "1.2.0",
     "state": {
      "_model_module": "@jupyter-widgets/base",
      "_model_module_version": "1.2.0",
      "_model_name": "LayoutModel",
      "_view_count": null,
      "_view_module": "@jupyter-widgets/base",
      "_view_module_version": "1.2.0",
      "_view_name": "LayoutView",
      "align_content": null,
      "align_items": null,
      "align_self": null,
      "border": null,
      "bottom": null,
      "display": null,
      "flex": null,
      "flex_flow": null,
      "grid_area": null,
      "grid_auto_columns": null,
      "grid_auto_flow": null,
      "grid_auto_rows": null,
      "grid_column": null,
      "grid_gap": null,
      "grid_row": null,
      "grid_template_areas": null,
      "grid_template_columns": null,
      "grid_template_rows": null,
      "height": null,
      "justify_content": null,
      "justify_items": null,
      "left": null,
      "margin": null,
      "max_height": null,
      "max_width": null,
      "min_height": null,
      "min_width": null,
      "object_fit": null,
      "object_position": null,
      "order": null,
      "overflow": null,
      "overflow_x": null,
      "overflow_y": null,
      "padding": null,
      "right": null,
      "top": null,
      "visibility": null,
      "width": null
     }
    },
    "fb823915c2af415c876e13b873d3f2ba": {
     "model_module": "@jupyter-widgets/base",
     "model_name": "LayoutModel",
     "model_module_version": "1.2.0",
     "state": {
      "_model_module": "@jupyter-widgets/base",
      "_model_module_version": "1.2.0",
      "_model_name": "LayoutModel",
      "_view_count": null,
      "_view_module": "@jupyter-widgets/base",
      "_view_module_version": "1.2.0",
      "_view_name": "LayoutView",
      "align_content": null,
      "align_items": null,
      "align_self": null,
      "border": null,
      "bottom": null,
      "display": null,
      "flex": null,
      "flex_flow": null,
      "grid_area": null,
      "grid_auto_columns": null,
      "grid_auto_flow": null,
      "grid_auto_rows": null,
      "grid_column": null,
      "grid_gap": null,
      "grid_row": null,
      "grid_template_areas": null,
      "grid_template_columns": null,
      "grid_template_rows": null,
      "height": null,
      "justify_content": null,
      "justify_items": null,
      "left": null,
      "margin": null,
      "max_height": null,
      "max_width": null,
      "min_height": null,
      "min_width": null,
      "object_fit": null,
      "object_position": null,
      "order": null,
      "overflow": null,
      "overflow_x": null,
      "overflow_y": null,
      "padding": null,
      "right": null,
      "top": null,
      "visibility": null,
      "width": null
     }
    },
    "a57be0834b7d4a65ba2404cb8c336144": {
     "model_module": "@jupyter-widgets/controls",
     "model_name": "DescriptionStyleModel",
     "model_module_version": "1.5.0",
     "state": {
      "_model_module": "@jupyter-widgets/controls",
      "_model_module_version": "1.5.0",
      "_model_name": "DescriptionStyleModel",
      "_view_count": null,
      "_view_module": "@jupyter-widgets/base",
      "_view_module_version": "1.2.0",
      "_view_name": "StyleView",
      "description_width": ""
     }
    },
    "16388c5df506416b975120399da3b9e4": {
     "model_module": "@jupyter-widgets/base",
     "model_name": "LayoutModel",
     "model_module_version": "1.2.0",
     "state": {
      "_model_module": "@jupyter-widgets/base",
      "_model_module_version": "1.2.0",
      "_model_name": "LayoutModel",
      "_view_count": null,
      "_view_module": "@jupyter-widgets/base",
      "_view_module_version": "1.2.0",
      "_view_name": "LayoutView",
      "align_content": null,
      "align_items": null,
      "align_self": null,
      "border": null,
      "bottom": null,
      "display": null,
      "flex": null,
      "flex_flow": null,
      "grid_area": null,
      "grid_auto_columns": null,
      "grid_auto_flow": null,
      "grid_auto_rows": null,
      "grid_column": null,
      "grid_gap": null,
      "grid_row": null,
      "grid_template_areas": null,
      "grid_template_columns": null,
      "grid_template_rows": null,
      "height": null,
      "justify_content": null,
      "justify_items": null,
      "left": null,
      "margin": null,
      "max_height": null,
      "max_width": null,
      "min_height": null,
      "min_width": null,
      "object_fit": null,
      "object_position": null,
      "order": null,
      "overflow": null,
      "overflow_x": null,
      "overflow_y": null,
      "padding": null,
      "right": null,
      "top": null,
      "visibility": null,
      "width": null
     }
    },
    "6677fa00b0e441c59ed94eade5becd86": {
     "model_module": "@jupyter-widgets/controls",
     "model_name": "ProgressStyleModel",
     "model_module_version": "1.5.0",
     "state": {
      "_model_module": "@jupyter-widgets/controls",
      "_model_module_version": "1.5.0",
      "_model_name": "ProgressStyleModel",
      "_view_count": null,
      "_view_module": "@jupyter-widgets/base",
      "_view_module_version": "1.2.0",
      "_view_name": "StyleView",
      "bar_color": null,
      "description_width": ""
     }
    },
    "b28c8bf6af574e99b15d5b0df34c2921": {
     "model_module": "@jupyter-widgets/base",
     "model_name": "LayoutModel",
     "model_module_version": "1.2.0",
     "state": {
      "_model_module": "@jupyter-widgets/base",
      "_model_module_version": "1.2.0",
      "_model_name": "LayoutModel",
      "_view_count": null,
      "_view_module": "@jupyter-widgets/base",
      "_view_module_version": "1.2.0",
      "_view_name": "LayoutView",
      "align_content": null,
      "align_items": null,
      "align_self": null,
      "border": null,
      "bottom": null,
      "display": null,
      "flex": null,
      "flex_flow": null,
      "grid_area": null,
      "grid_auto_columns": null,
      "grid_auto_flow": null,
      "grid_auto_rows": null,
      "grid_column": null,
      "grid_gap": null,
      "grid_row": null,
      "grid_template_areas": null,
      "grid_template_columns": null,
      "grid_template_rows": null,
      "height": null,
      "justify_content": null,
      "justify_items": null,
      "left": null,
      "margin": null,
      "max_height": null,
      "max_width": null,
      "min_height": null,
      "min_width": null,
      "object_fit": null,
      "object_position": null,
      "order": null,
      "overflow": null,
      "overflow_x": null,
      "overflow_y": null,
      "padding": null,
      "right": null,
      "top": null,
      "visibility": null,
      "width": null
     }
    },
    "3d0875da77fb4524a459346b2ee82767": {
     "model_module": "@jupyter-widgets/controls",
     "model_name": "DescriptionStyleModel",
     "model_module_version": "1.5.0",
     "state": {
      "_model_module": "@jupyter-widgets/controls",
      "_model_module_version": "1.5.0",
      "_model_name": "DescriptionStyleModel",
      "_view_count": null,
      "_view_module": "@jupyter-widgets/base",
      "_view_module_version": "1.2.0",
      "_view_name": "StyleView",
      "description_width": ""
     }
    },
    "b8231093d4d441509337b8957585a092": {
     "model_module": "@jupyter-widgets/controls",
     "model_name": "HBoxModel",
     "model_module_version": "1.5.0",
     "state": {
      "_dom_classes": [],
      "_model_module": "@jupyter-widgets/controls",
      "_model_module_version": "1.5.0",
      "_model_name": "HBoxModel",
      "_view_count": null,
      "_view_module": "@jupyter-widgets/controls",
      "_view_module_version": "1.5.0",
      "_view_name": "HBoxView",
      "box_style": "",
      "children": [
       "IPY_MODEL_4b199bb9f3954451a11fcee1adcd89d1",
       "IPY_MODEL_d1b2cefff9f34e3d8351ac2315ec1aa1",
       "IPY_MODEL_ef966899f7644647960004e25478356a"
      ],
      "layout": "IPY_MODEL_428b4da1b7d04de6b3f278bcd83386e8"
     }
    },
    "4b199bb9f3954451a11fcee1adcd89d1": {
     "model_module": "@jupyter-widgets/controls",
     "model_name": "HTMLModel",
     "model_module_version": "1.5.0",
     "state": {
      "_dom_classes": [],
      "_model_module": "@jupyter-widgets/controls",
      "_model_module_version": "1.5.0",
      "_model_name": "HTMLModel",
      "_view_count": null,
      "_view_module": "@jupyter-widgets/controls",
      "_view_module_version": "1.5.0",
      "_view_name": "HTMLView",
      "description": "",
      "description_tooltip": null,
      "layout": "IPY_MODEL_2a5008b87d124bfca6ce6a299314ec2e",
      "placeholder": "​",
      "style": "IPY_MODEL_7e3a3d719ff1467d93a01c42c46a6489",
      "value": "README.md: "
     }
    },
    "d1b2cefff9f34e3d8351ac2315ec1aa1": {
     "model_module": "@jupyter-widgets/controls",
     "model_name": "FloatProgressModel",
     "model_module_version": "1.5.0",
     "state": {
      "_dom_classes": [],
      "_model_module": "@jupyter-widgets/controls",
      "_model_module_version": "1.5.0",
      "_model_name": "FloatProgressModel",
      "_view_count": null,
      "_view_module": "@jupyter-widgets/controls",
      "_view_module_version": "1.5.0",
      "_view_name": "ProgressView",
      "bar_style": "success",
      "description": "",
      "description_tooltip": null,
      "layout": "IPY_MODEL_562ca57506434d8d86a78ad027bb0fbb",
      "max": 1,
      "min": 0,
      "orientation": "horizontal",
      "style": "IPY_MODEL_ea013516ada64ea395344f0364c24e46",
      "value": 1
     }
    },
    "ef966899f7644647960004e25478356a": {
     "model_module": "@jupyter-widgets/controls",
     "model_name": "HTMLModel",
     "model_module_version": "1.5.0",
     "state": {
      "_dom_classes": [],
      "_model_module": "@jupyter-widgets/controls",
      "_model_module_version": "1.5.0",
      "_model_name": "HTMLModel",
      "_view_count": null,
      "_view_module": "@jupyter-widgets/controls",
      "_view_module_version": "1.5.0",
      "_view_name": "HTMLView",
      "description": "",
      "description_tooltip": null,
      "layout": "IPY_MODEL_9b2c31b383ad47ab84c33d770f335910",
      "placeholder": "​",
      "style": "IPY_MODEL_633ada25610449cd81c24b792f2f1042",
      "value": " 1.91k/? [00:00&lt;00:00, 156kB/s]"
     }
    },
    "428b4da1b7d04de6b3f278bcd83386e8": {
     "model_module": "@jupyter-widgets/base",
     "model_name": "LayoutModel",
     "model_module_version": "1.2.0",
     "state": {
      "_model_module": "@jupyter-widgets/base",
      "_model_module_version": "1.2.0",
      "_model_name": "LayoutModel",
      "_view_count": null,
      "_view_module": "@jupyter-widgets/base",
      "_view_module_version": "1.2.0",
      "_view_name": "LayoutView",
      "align_content": null,
      "align_items": null,
      "align_self": null,
      "border": null,
      "bottom": null,
      "display": null,
      "flex": null,
      "flex_flow": null,
      "grid_area": null,
      "grid_auto_columns": null,
      "grid_auto_flow": null,
      "grid_auto_rows": null,
      "grid_column": null,
      "grid_gap": null,
      "grid_row": null,
      "grid_template_areas": null,
      "grid_template_columns": null,
      "grid_template_rows": null,
      "height": null,
      "justify_content": null,
      "justify_items": null,
      "left": null,
      "margin": null,
      "max_height": null,
      "max_width": null,
      "min_height": null,
      "min_width": null,
      "object_fit": null,
      "object_position": null,
      "order": null,
      "overflow": null,
      "overflow_x": null,
      "overflow_y": null,
      "padding": null,
      "right": null,
      "top": null,
      "visibility": null,
      "width": null
     }
    },
    "2a5008b87d124bfca6ce6a299314ec2e": {
     "model_module": "@jupyter-widgets/base",
     "model_name": "LayoutModel",
     "model_module_version": "1.2.0",
     "state": {
      "_model_module": "@jupyter-widgets/base",
      "_model_module_version": "1.2.0",
      "_model_name": "LayoutModel",
      "_view_count": null,
      "_view_module": "@jupyter-widgets/base",
      "_view_module_version": "1.2.0",
      "_view_name": "LayoutView",
      "align_content": null,
      "align_items": null,
      "align_self": null,
      "border": null,
      "bottom": null,
      "display": null,
      "flex": null,
      "flex_flow": null,
      "grid_area": null,
      "grid_auto_columns": null,
      "grid_auto_flow": null,
      "grid_auto_rows": null,
      "grid_column": null,
      "grid_gap": null,
      "grid_row": null,
      "grid_template_areas": null,
      "grid_template_columns": null,
      "grid_template_rows": null,
      "height": null,
      "justify_content": null,
      "justify_items": null,
      "left": null,
      "margin": null,
      "max_height": null,
      "max_width": null,
      "min_height": null,
      "min_width": null,
      "object_fit": null,
      "object_position": null,
      "order": null,
      "overflow": null,
      "overflow_x": null,
      "overflow_y": null,
      "padding": null,
      "right": null,
      "top": null,
      "visibility": null,
      "width": null
     }
    },
    "7e3a3d719ff1467d93a01c42c46a6489": {
     "model_module": "@jupyter-widgets/controls",
     "model_name": "DescriptionStyleModel",
     "model_module_version": "1.5.0",
     "state": {
      "_model_module": "@jupyter-widgets/controls",
      "_model_module_version": "1.5.0",
      "_model_name": "DescriptionStyleModel",
      "_view_count": null,
      "_view_module": "@jupyter-widgets/base",
      "_view_module_version": "1.2.0",
      "_view_name": "StyleView",
      "description_width": ""
     }
    },
    "562ca57506434d8d86a78ad027bb0fbb": {
     "model_module": "@jupyter-widgets/base",
     "model_name": "LayoutModel",
     "model_module_version": "1.2.0",
     "state": {
      "_model_module": "@jupyter-widgets/base",
      "_model_module_version": "1.2.0",
      "_model_name": "LayoutModel",
      "_view_count": null,
      "_view_module": "@jupyter-widgets/base",
      "_view_module_version": "1.2.0",
      "_view_name": "LayoutView",
      "align_content": null,
      "align_items": null,
      "align_self": null,
      "border": null,
      "bottom": null,
      "display": null,
      "flex": null,
      "flex_flow": null,
      "grid_area": null,
      "grid_auto_columns": null,
      "grid_auto_flow": null,
      "grid_auto_rows": null,
      "grid_column": null,
      "grid_gap": null,
      "grid_row": null,
      "grid_template_areas": null,
      "grid_template_columns": null,
      "grid_template_rows": null,
      "height": null,
      "justify_content": null,
      "justify_items": null,
      "left": null,
      "margin": null,
      "max_height": null,
      "max_width": null,
      "min_height": null,
      "min_width": null,
      "object_fit": null,
      "object_position": null,
      "order": null,
      "overflow": null,
      "overflow_x": null,
      "overflow_y": null,
      "padding": null,
      "right": null,
      "top": null,
      "visibility": null,
      "width": "20px"
     }
    },
    "ea013516ada64ea395344f0364c24e46": {
     "model_module": "@jupyter-widgets/controls",
     "model_name": "ProgressStyleModel",
     "model_module_version": "1.5.0",
     "state": {
      "_model_module": "@jupyter-widgets/controls",
      "_model_module_version": "1.5.0",
      "_model_name": "ProgressStyleModel",
      "_view_count": null,
      "_view_module": "@jupyter-widgets/base",
      "_view_module_version": "1.2.0",
      "_view_name": "StyleView",
      "bar_color": null,
      "description_width": ""
     }
    },
    "9b2c31b383ad47ab84c33d770f335910": {
     "model_module": "@jupyter-widgets/base",
     "model_name": "LayoutModel",
     "model_module_version": "1.2.0",
     "state": {
      "_model_module": "@jupyter-widgets/base",
      "_model_module_version": "1.2.0",
      "_model_name": "LayoutModel",
      "_view_count": null,
      "_view_module": "@jupyter-widgets/base",
      "_view_module_version": "1.2.0",
      "_view_name": "LayoutView",
      "align_content": null,
      "align_items": null,
      "align_self": null,
      "border": null,
      "bottom": null,
      "display": null,
      "flex": null,
      "flex_flow": null,
      "grid_area": null,
      "grid_auto_columns": null,
      "grid_auto_flow": null,
      "grid_auto_rows": null,
      "grid_column": null,
      "grid_gap": null,
      "grid_row": null,
      "grid_template_areas": null,
      "grid_template_columns": null,
      "grid_template_rows": null,
      "height": null,
      "justify_content": null,
      "justify_items": null,
      "left": null,
      "margin": null,
      "max_height": null,
      "max_width": null,
      "min_height": null,
      "min_width": null,
      "object_fit": null,
      "object_position": null,
      "order": null,
      "overflow": null,
      "overflow_x": null,
      "overflow_y": null,
      "padding": null,
      "right": null,
      "top": null,
      "visibility": null,
      "width": null
     }
    },
    "633ada25610449cd81c24b792f2f1042": {
     "model_module": "@jupyter-widgets/controls",
     "model_name": "DescriptionStyleModel",
     "model_module_version": "1.5.0",
     "state": {
      "_model_module": "@jupyter-widgets/controls",
      "_model_module_version": "1.5.0",
      "_model_name": "DescriptionStyleModel",
      "_view_count": null,
      "_view_module": "@jupyter-widgets/base",
      "_view_module_version": "1.2.0",
      "_view_name": "StyleView",
      "description_width": ""
     }
    },
    "3fd931f69f8c4f9e92e50b6743b2e271": {
     "model_module": "@jupyter-widgets/controls",
     "model_name": "HBoxModel",
     "model_module_version": "1.5.0",
     "state": {
      "_dom_classes": [],
      "_model_module": "@jupyter-widgets/controls",
      "_model_module_version": "1.5.0",
      "_model_name": "HBoxModel",
      "_view_count": null,
      "_view_module": "@jupyter-widgets/controls",
      "_view_module_version": "1.5.0",
      "_view_name": "HBoxView",
      "box_style": "",
      "children": [
       "IPY_MODEL_7fa73d46d61644fb8939a203f28d4497",
       "IPY_MODEL_5c497f8939eb4c75bbc48ed9b699a44f",
       "IPY_MODEL_7856eb463d6b40b8aac6a118c2f158d8"
      ],
      "layout": "IPY_MODEL_51e82993a333423db9b7007a5191f661"
     }
    },
    "7fa73d46d61644fb8939a203f28d4497": {
     "model_module": "@jupyter-widgets/controls",
     "model_name": "HTMLModel",
     "model_module_version": "1.5.0",
     "state": {
      "_dom_classes": [],
      "_model_module": "@jupyter-widgets/controls",
      "_model_module_version": "1.5.0",
      "_model_name": "HTMLModel",
      "_view_count": null,
      "_view_module": "@jupyter-widgets/controls",
      "_view_module_version": "1.5.0",
      "_view_name": "HTMLView",
      "description": "",
      "description_tooltip": null,
      "layout": "IPY_MODEL_51a01aff8a6c47b2b1933bac417cd170",
      "placeholder": "​",
      "style": "IPY_MODEL_d0464d78c08941d7bf8ac889f3bf7efe",
      "value": "merges.txt: "
     }
    },
    "5c497f8939eb4c75bbc48ed9b699a44f": {
     "model_module": "@jupyter-widgets/controls",
     "model_name": "FloatProgressModel",
     "model_module_version": "1.5.0",
     "state": {
      "_dom_classes": [],
      "_model_module": "@jupyter-widgets/controls",
      "_model_module_version": "1.5.0",
      "_model_name": "FloatProgressModel",
      "_view_count": null,
      "_view_module": "@jupyter-widgets/controls",
      "_view_module_version": "1.5.0",
      "_view_name": "ProgressView",
      "bar_style": "success",
      "description": "",
      "description_tooltip": null,
      "layout": "IPY_MODEL_fb90aed56f164f3583b41326c692a046",
      "max": 1,
      "min": 0,
      "orientation": "horizontal",
      "style": "IPY_MODEL_065bd9bf65c64933b2642d6d45394ddd",
      "value": 1
     }
    },
    "7856eb463d6b40b8aac6a118c2f158d8": {
     "model_module": "@jupyter-widgets/controls",
     "model_name": "HTMLModel",
     "model_module_version": "1.5.0",
     "state": {
      "_dom_classes": [],
      "_model_module": "@jupyter-widgets/controls",
      "_model_module_version": "1.5.0",
      "_model_name": "HTMLModel",
      "_view_count": null,
      "_view_module": "@jupyter-widgets/controls",
      "_view_module_version": "1.5.0",
      "_view_name": "HTMLView",
      "description": "",
      "description_tooltip": null,
      "layout": "IPY_MODEL_721d606aa2f64b1db93c21f72e6acdf9",
      "placeholder": "​",
      "style": "IPY_MODEL_6f0baabad77e45daa1ad3afbe912dce9",
      "value": " 525k/? [00:00&lt;00:00, 2.63MB/s]"
     }
    },
    "51e82993a333423db9b7007a5191f661": {
     "model_module": "@jupyter-widgets/base",
     "model_name": "LayoutModel",
     "model_module_version": "1.2.0",
     "state": {
      "_model_module": "@jupyter-widgets/base",
      "_model_module_version": "1.2.0",
      "_model_name": "LayoutModel",
      "_view_count": null,
      "_view_module": "@jupyter-widgets/base",
      "_view_module_version": "1.2.0",
      "_view_name": "LayoutView",
      "align_content": null,
      "align_items": null,
      "align_self": null,
      "border": null,
      "bottom": null,
      "display": null,
      "flex": null,
      "flex_flow": null,
      "grid_area": null,
      "grid_auto_columns": null,
      "grid_auto_flow": null,
      "grid_auto_rows": null,
      "grid_column": null,
      "grid_gap": null,
      "grid_row": null,
      "grid_template_areas": null,
      "grid_template_columns": null,
      "grid_template_rows": null,
      "height": null,
      "justify_content": null,
      "justify_items": null,
      "left": null,
      "margin": null,
      "max_height": null,
      "max_width": null,
      "min_height": null,
      "min_width": null,
      "object_fit": null,
      "object_position": null,
      "order": null,
      "overflow": null,
      "overflow_x": null,
      "overflow_y": null,
      "padding": null,
      "right": null,
      "top": null,
      "visibility": null,
      "width": null
     }
    },
    "51a01aff8a6c47b2b1933bac417cd170": {
     "model_module": "@jupyter-widgets/base",
     "model_name": "LayoutModel",
     "model_module_version": "1.2.0",
     "state": {
      "_model_module": "@jupyter-widgets/base",
      "_model_module_version": "1.2.0",
      "_model_name": "LayoutModel",
      "_view_count": null,
      "_view_module": "@jupyter-widgets/base",
      "_view_module_version": "1.2.0",
      "_view_name": "LayoutView",
      "align_content": null,
      "align_items": null,
      "align_self": null,
      "border": null,
      "bottom": null,
      "display": null,
      "flex": null,
      "flex_flow": null,
      "grid_area": null,
      "grid_auto_columns": null,
      "grid_auto_flow": null,
      "grid_auto_rows": null,
      "grid_column": null,
      "grid_gap": null,
      "grid_row": null,
      "grid_template_areas": null,
      "grid_template_columns": null,
      "grid_template_rows": null,
      "height": null,
      "justify_content": null,
      "justify_items": null,
      "left": null,
      "margin": null,
      "max_height": null,
      "max_width": null,
      "min_height": null,
      "min_width": null,
      "object_fit": null,
      "object_position": null,
      "order": null,
      "overflow": null,
      "overflow_x": null,
      "overflow_y": null,
      "padding": null,
      "right": null,
      "top": null,
      "visibility": null,
      "width": null
     }
    },
    "d0464d78c08941d7bf8ac889f3bf7efe": {
     "model_module": "@jupyter-widgets/controls",
     "model_name": "DescriptionStyleModel",
     "model_module_version": "1.5.0",
     "state": {
      "_model_module": "@jupyter-widgets/controls",
      "_model_module_version": "1.5.0",
      "_model_name": "DescriptionStyleModel",
      "_view_count": null,
      "_view_module": "@jupyter-widgets/base",
      "_view_module_version": "1.2.0",
      "_view_name": "StyleView",
      "description_width": ""
     }
    },
    "fb90aed56f164f3583b41326c692a046": {
     "model_module": "@jupyter-widgets/base",
     "model_name": "LayoutModel",
     "model_module_version": "1.2.0",
     "state": {
      "_model_module": "@jupyter-widgets/base",
      "_model_module_version": "1.2.0",
      "_model_name": "LayoutModel",
      "_view_count": null,
      "_view_module": "@jupyter-widgets/base",
      "_view_module_version": "1.2.0",
      "_view_name": "LayoutView",
      "align_content": null,
      "align_items": null,
      "align_self": null,
      "border": null,
      "bottom": null,
      "display": null,
      "flex": null,
      "flex_flow": null,
      "grid_area": null,
      "grid_auto_columns": null,
      "grid_auto_flow": null,
      "grid_auto_rows": null,
      "grid_column": null,
      "grid_gap": null,
      "grid_row": null,
      "grid_template_areas": null,
      "grid_template_columns": null,
      "grid_template_rows": null,
      "height": null,
      "justify_content": null,
      "justify_items": null,
      "left": null,
      "margin": null,
      "max_height": null,
      "max_width": null,
      "min_height": null,
      "min_width": null,
      "object_fit": null,
      "object_position": null,
      "order": null,
      "overflow": null,
      "overflow_x": null,
      "overflow_y": null,
      "padding": null,
      "right": null,
      "top": null,
      "visibility": null,
      "width": "20px"
     }
    },
    "065bd9bf65c64933b2642d6d45394ddd": {
     "model_module": "@jupyter-widgets/controls",
     "model_name": "ProgressStyleModel",
     "model_module_version": "1.5.0",
     "state": {
      "_model_module": "@jupyter-widgets/controls",
      "_model_module_version": "1.5.0",
      "_model_name": "ProgressStyleModel",
      "_view_count": null,
      "_view_module": "@jupyter-widgets/base",
      "_view_module_version": "1.2.0",
      "_view_name": "StyleView",
      "bar_color": null,
      "description_width": ""
     }
    },
    "721d606aa2f64b1db93c21f72e6acdf9": {
     "model_module": "@jupyter-widgets/base",
     "model_name": "LayoutModel",
     "model_module_version": "1.2.0",
     "state": {
      "_model_module": "@jupyter-widgets/base",
      "_model_module_version": "1.2.0",
      "_model_name": "LayoutModel",
      "_view_count": null,
      "_view_module": "@jupyter-widgets/base",
      "_view_module_version": "1.2.0",
      "_view_name": "LayoutView",
      "align_content": null,
      "align_items": null,
      "align_self": null,
      "border": null,
      "bottom": null,
      "display": null,
      "flex": null,
      "flex_flow": null,
      "grid_area": null,
      "grid_auto_columns": null,
      "grid_auto_flow": null,
      "grid_auto_rows": null,
      "grid_column": null,
      "grid_gap": null,
      "grid_row": null,
      "grid_template_areas": null,
      "grid_template_columns": null,
      "grid_template_rows": null,
      "height": null,
      "justify_content": null,
      "justify_items": null,
      "left": null,
      "margin": null,
      "max_height": null,
      "max_width": null,
      "min_height": null,
      "min_width": null,
      "object_fit": null,
      "object_position": null,
      "order": null,
      "overflow": null,
      "overflow_x": null,
      "overflow_y": null,
      "padding": null,
      "right": null,
      "top": null,
      "visibility": null,
      "width": null
     }
    },
    "6f0baabad77e45daa1ad3afbe912dce9": {
     "model_module": "@jupyter-widgets/controls",
     "model_name": "DescriptionStyleModel",
     "model_module_version": "1.5.0",
     "state": {
      "_model_module": "@jupyter-widgets/controls",
      "_model_module_version": "1.5.0",
      "_model_name": "DescriptionStyleModel",
      "_view_count": null,
      "_view_module": "@jupyter-widgets/base",
      "_view_module_version": "1.2.0",
      "_view_name": "StyleView",
      "description_width": ""
     }
    },
    "5a2e87ac06494e0086d68d766ca58c6c": {
     "model_module": "@jupyter-widgets/controls",
     "model_name": "HBoxModel",
     "model_module_version": "1.5.0",
     "state": {
      "_dom_classes": [],
      "_model_module": "@jupyter-widgets/controls",
      "_model_module_version": "1.5.0",
      "_model_name": "HBoxModel",
      "_view_count": null,
      "_view_module": "@jupyter-widgets/controls",
      "_view_module_version": "1.5.0",
      "_view_name": "HBoxView",
      "box_style": "",
      "children": [
       "IPY_MODEL_809955ef601b48f59e2ad7da0280bd90",
       "IPY_MODEL_682a33df26a84ed5a1e0d42d5d47e968",
       "IPY_MODEL_108f4bc941fa432b92bfa8cf28b587c6"
      ],
      "layout": "IPY_MODEL_c8c42e884cfe48258d4aa3168e65cf02"
     }
    },
    "809955ef601b48f59e2ad7da0280bd90": {
     "model_module": "@jupyter-widgets/controls",
     "model_name": "HTMLModel",
     "model_module_version": "1.5.0",
     "state": {
      "_dom_classes": [],
      "_model_module": "@jupyter-widgets/controls",
      "_model_module_version": "1.5.0",
      "_model_name": "HTMLModel",
      "_view_count": null,
      "_view_module": "@jupyter-widgets/controls",
      "_view_module_version": "1.5.0",
      "_view_name": "HTMLView",
      "description": "",
      "description_tooltip": null,
      "layout": "IPY_MODEL_23301b63040844a7a930512af53f1552",
      "placeholder": "​",
      "style": "IPY_MODEL_af078843054c4488b41deeb80ac43697",
      "value": "config.json: "
     }
    },
    "682a33df26a84ed5a1e0d42d5d47e968": {
     "model_module": "@jupyter-widgets/controls",
     "model_name": "FloatProgressModel",
     "model_module_version": "1.5.0",
     "state": {
      "_dom_classes": [],
      "_model_module": "@jupyter-widgets/controls",
      "_model_module_version": "1.5.0",
      "_model_name": "FloatProgressModel",
      "_view_count": null,
      "_view_module": "@jupyter-widgets/controls",
      "_view_module_version": "1.5.0",
      "_view_name": "ProgressView",
      "bar_style": "success",
      "description": "",
      "description_tooltip": null,
      "layout": "IPY_MODEL_02a157bbd2d8403a94236b6c36b3b019",
      "max": 1,
      "min": 0,
      "orientation": "horizontal",
      "style": "IPY_MODEL_cae0f3b0e44b4367875c8cb9df49d366",
      "value": 1
     }
    },
    "108f4bc941fa432b92bfa8cf28b587c6": {
     "model_module": "@jupyter-widgets/controls",
     "model_name": "HTMLModel",
     "model_module_version": "1.5.0",
     "state": {
      "_dom_classes": [],
      "_model_module": "@jupyter-widgets/controls",
      "_model_module_version": "1.5.0",
      "_model_name": "HTMLModel",
      "_view_count": null,
      "_view_module": "@jupyter-widgets/controls",
      "_view_module_version": "1.5.0",
      "_view_name": "HTMLView",
      "description": "",
      "description_tooltip": null,
      "layout": "IPY_MODEL_b19d38f6097547899d802fae7b717695",
      "placeholder": "​",
      "style": "IPY_MODEL_e1e800eb824e4526860d28a7ab1603ba",
      "value": " 4.03k/? [00:00&lt;00:00, 22.7kB/s]"
     }
    },
    "c8c42e884cfe48258d4aa3168e65cf02": {
     "model_module": "@jupyter-widgets/base",
     "model_name": "LayoutModel",
     "model_module_version": "1.2.0",
     "state": {
      "_model_module": "@jupyter-widgets/base",
      "_model_module_version": "1.2.0",
      "_model_name": "LayoutModel",
      "_view_count": null,
      "_view_module": "@jupyter-widgets/base",
      "_view_module_version": "1.2.0",
      "_view_name": "LayoutView",
      "align_content": null,
      "align_items": null,
      "align_self": null,
      "border": null,
      "bottom": null,
      "display": null,
      "flex": null,
      "flex_flow": null,
      "grid_area": null,
      "grid_auto_columns": null,
      "grid_auto_flow": null,
      "grid_auto_rows": null,
      "grid_column": null,
      "grid_gap": null,
      "grid_row": null,
      "grid_template_areas": null,
      "grid_template_columns": null,
      "grid_template_rows": null,
      "height": null,
      "justify_content": null,
      "justify_items": null,
      "left": null,
      "margin": null,
      "max_height": null,
      "max_width": null,
      "min_height": null,
      "min_width": null,
      "object_fit": null,
      "object_position": null,
      "order": null,
      "overflow": null,
      "overflow_x": null,
      "overflow_y": null,
      "padding": null,
      "right": null,
      "top": null,
      "visibility": null,
      "width": null
     }
    },
    "23301b63040844a7a930512af53f1552": {
     "model_module": "@jupyter-widgets/base",
     "model_name": "LayoutModel",
     "model_module_version": "1.2.0",
     "state": {
      "_model_module": "@jupyter-widgets/base",
      "_model_module_version": "1.2.0",
      "_model_name": "LayoutModel",
      "_view_count": null,
      "_view_module": "@jupyter-widgets/base",
      "_view_module_version": "1.2.0",
      "_view_name": "LayoutView",
      "align_content": null,
      "align_items": null,
      "align_self": null,
      "border": null,
      "bottom": null,
      "display": null,
      "flex": null,
      "flex_flow": null,
      "grid_area": null,
      "grid_auto_columns": null,
      "grid_auto_flow": null,
      "grid_auto_rows": null,
      "grid_column": null,
      "grid_gap": null,
      "grid_row": null,
      "grid_template_areas": null,
      "grid_template_columns": null,
      "grid_template_rows": null,
      "height": null,
      "justify_content": null,
      "justify_items": null,
      "left": null,
      "margin": null,
      "max_height": null,
      "max_width": null,
      "min_height": null,
      "min_width": null,
      "object_fit": null,
      "object_position": null,
      "order": null,
      "overflow": null,
      "overflow_x": null,
      "overflow_y": null,
      "padding": null,
      "right": null,
      "top": null,
      "visibility": null,
      "width": null
     }
    },
    "af078843054c4488b41deeb80ac43697": {
     "model_module": "@jupyter-widgets/controls",
     "model_name": "DescriptionStyleModel",
     "model_module_version": "1.5.0",
     "state": {
      "_model_module": "@jupyter-widgets/controls",
      "_model_module_version": "1.5.0",
      "_model_name": "DescriptionStyleModel",
      "_view_count": null,
      "_view_module": "@jupyter-widgets/base",
      "_view_module_version": "1.2.0",
      "_view_name": "StyleView",
      "description_width": ""
     }
    },
    "02a157bbd2d8403a94236b6c36b3b019": {
     "model_module": "@jupyter-widgets/base",
     "model_name": "LayoutModel",
     "model_module_version": "1.2.0",
     "state": {
      "_model_module": "@jupyter-widgets/base",
      "_model_module_version": "1.2.0",
      "_model_name": "LayoutModel",
      "_view_count": null,
      "_view_module": "@jupyter-widgets/base",
      "_view_module_version": "1.2.0",
      "_view_name": "LayoutView",
      "align_content": null,
      "align_items": null,
      "align_self": null,
      "border": null,
      "bottom": null,
      "display": null,
      "flex": null,
      "flex_flow": null,
      "grid_area": null,
      "grid_auto_columns": null,
      "grid_auto_flow": null,
      "grid_auto_rows": null,
      "grid_column": null,
      "grid_gap": null,
      "grid_row": null,
      "grid_template_areas": null,
      "grid_template_columns": null,
      "grid_template_rows": null,
      "height": null,
      "justify_content": null,
      "justify_items": null,
      "left": null,
      "margin": null,
      "max_height": null,
      "max_width": null,
      "min_height": null,
      "min_width": null,
      "object_fit": null,
      "object_position": null,
      "order": null,
      "overflow": null,
      "overflow_x": null,
      "overflow_y": null,
      "padding": null,
      "right": null,
      "top": null,
      "visibility": null,
      "width": "20px"
     }
    },
    "cae0f3b0e44b4367875c8cb9df49d366": {
     "model_module": "@jupyter-widgets/controls",
     "model_name": "ProgressStyleModel",
     "model_module_version": "1.5.0",
     "state": {
      "_model_module": "@jupyter-widgets/controls",
      "_model_module_version": "1.5.0",
      "_model_name": "ProgressStyleModel",
      "_view_count": null,
      "_view_module": "@jupyter-widgets/base",
      "_view_module_version": "1.2.0",
      "_view_name": "StyleView",
      "bar_color": null,
      "description_width": ""
     }
    },
    "b19d38f6097547899d802fae7b717695": {
     "model_module": "@jupyter-widgets/base",
     "model_name": "LayoutModel",
     "model_module_version": "1.2.0",
     "state": {
      "_model_module": "@jupyter-widgets/base",
      "_model_module_version": "1.2.0",
      "_model_name": "LayoutModel",
      "_view_count": null,
      "_view_module": "@jupyter-widgets/base",
      "_view_module_version": "1.2.0",
      "_view_name": "LayoutView",
      "align_content": null,
      "align_items": null,
      "align_self": null,
      "border": null,
      "bottom": null,
      "display": null,
      "flex": null,
      "flex_flow": null,
      "grid_area": null,
      "grid_auto_columns": null,
      "grid_auto_flow": null,
      "grid_auto_rows": null,
      "grid_column": null,
      "grid_gap": null,
      "grid_row": null,
      "grid_template_areas": null,
      "grid_template_columns": null,
      "grid_template_rows": null,
      "height": null,
      "justify_content": null,
      "justify_items": null,
      "left": null,
      "margin": null,
      "max_height": null,
      "max_width": null,
      "min_height": null,
      "min_width": null,
      "object_fit": null,
      "object_position": null,
      "order": null,
      "overflow": null,
      "overflow_x": null,
      "overflow_y": null,
      "padding": null,
      "right": null,
      "top": null,
      "visibility": null,
      "width": null
     }
    },
    "e1e800eb824e4526860d28a7ab1603ba": {
     "model_module": "@jupyter-widgets/controls",
     "model_name": "DescriptionStyleModel",
     "model_module_version": "1.5.0",
     "state": {
      "_model_module": "@jupyter-widgets/controls",
      "_model_module_version": "1.5.0",
      "_model_name": "DescriptionStyleModel",
      "_view_count": null,
      "_view_module": "@jupyter-widgets/base",
      "_view_module_version": "1.2.0",
      "_view_name": "StyleView",
      "description_width": ""
     }
    },
    "e8979619218945d4bff7424127abef81": {
     "model_module": "@jupyter-widgets/controls",
     "model_name": "HBoxModel",
     "model_module_version": "1.5.0",
     "state": {
      "_dom_classes": [],
      "_model_module": "@jupyter-widgets/controls",
      "_model_module_version": "1.5.0",
      "_model_name": "HBoxModel",
      "_view_count": null,
      "_view_module": "@jupyter-widgets/controls",
      "_view_module_version": "1.5.0",
      "_view_name": "HBoxView",
      "box_style": "",
      "children": [
       "IPY_MODEL_fc0723a64ed34669aec796aa113c6779",
       "IPY_MODEL_4553e10f08994ec49fbb47776f4b73ec",
       "IPY_MODEL_0e25f1311ed3421d8e3390ed5e84b17a"
      ],
      "layout": "IPY_MODEL_a9d8872acf20412b9d8fad08fd96dc9f"
     }
    },
    "fc0723a64ed34669aec796aa113c6779": {
     "model_module": "@jupyter-widgets/controls",
     "model_name": "HTMLModel",
     "model_module_version": "1.5.0",
     "state": {
      "_dom_classes": [],
      "_model_module": "@jupyter-widgets/controls",
      "_model_module_version": "1.5.0",
      "_model_name": "HTMLModel",
      "_view_count": null,
      "_view_module": "@jupyter-widgets/controls",
      "_view_module_version": "1.5.0",
      "_view_name": "HTMLView",
      "description": "",
      "description_tooltip": null,
      "layout": "IPY_MODEL_7680cb7b7eff4b96beceb804f5184670",
      "placeholder": "​",
      "style": "IPY_MODEL_ac4a304a0fc94350a5243e0b518358d8",
      "value": "vocab.json: "
     }
    },
    "4553e10f08994ec49fbb47776f4b73ec": {
     "model_module": "@jupyter-widgets/controls",
     "model_name": "FloatProgressModel",
     "model_module_version": "1.5.0",
     "state": {
      "_dom_classes": [],
      "_model_module": "@jupyter-widgets/controls",
      "_model_module_version": "1.5.0",
      "_model_name": "FloatProgressModel",
      "_view_count": null,
      "_view_module": "@jupyter-widgets/controls",
      "_view_module_version": "1.5.0",
      "_view_name": "ProgressView",
      "bar_style": "success",
      "description": "",
      "description_tooltip": null,
      "layout": "IPY_MODEL_85439dcafa7b4defa32c751b3d46106d",
      "max": 1,
      "min": 0,
      "orientation": "horizontal",
      "style": "IPY_MODEL_99207ce4fe614f1fb9b910c576f3bb3b",
      "value": 1
     }
    },
    "0e25f1311ed3421d8e3390ed5e84b17a": {
     "model_module": "@jupyter-widgets/controls",
     "model_name": "HTMLModel",
     "model_module_version": "1.5.0",
     "state": {
      "_dom_classes": [],
      "_model_module": "@jupyter-widgets/controls",
      "_model_module_version": "1.5.0",
      "_model_name": "HTMLModel",
      "_view_count": null,
      "_view_module": "@jupyter-widgets/controls",
      "_view_module_version": "1.5.0",
      "_view_name": "HTMLView",
      "description": "",
      "description_tooltip": null,
      "layout": "IPY_MODEL_16fbce49cb9448818879f3a583668c4b",
      "placeholder": "​",
      "style": "IPY_MODEL_07c58cd1129c48588df22abf30ac96f5",
      "value": " 961k/? [00:00&lt;00:00, 247kB/s]"
     }
    },
    "a9d8872acf20412b9d8fad08fd96dc9f": {
     "model_module": "@jupyter-widgets/base",
     "model_name": "LayoutModel",
     "model_module_version": "1.2.0",
     "state": {
      "_model_module": "@jupyter-widgets/base",
      "_model_module_version": "1.2.0",
      "_model_name": "LayoutModel",
      "_view_count": null,
      "_view_module": "@jupyter-widgets/base",
      "_view_module_version": "1.2.0",
      "_view_name": "LayoutView",
      "align_content": null,
      "align_items": null,
      "align_self": null,
      "border": null,
      "bottom": null,
      "display": null,
      "flex": null,
      "flex_flow": null,
      "grid_area": null,
      "grid_auto_columns": null,
      "grid_auto_flow": null,
      "grid_auto_rows": null,
      "grid_column": null,
      "grid_gap": null,
      "grid_row": null,
      "grid_template_areas": null,
      "grid_template_columns": null,
      "grid_template_rows": null,
      "height": null,
      "justify_content": null,
      "justify_items": null,
      "left": null,
      "margin": null,
      "max_height": null,
      "max_width": null,
      "min_height": null,
      "min_width": null,
      "object_fit": null,
      "object_position": null,
      "order": null,
      "overflow": null,
      "overflow_x": null,
      "overflow_y": null,
      "padding": null,
      "right": null,
      "top": null,
      "visibility": null,
      "width": null
     }
    },
    "7680cb7b7eff4b96beceb804f5184670": {
     "model_module": "@jupyter-widgets/base",
     "model_name": "LayoutModel",
     "model_module_version": "1.2.0",
     "state": {
      "_model_module": "@jupyter-widgets/base",
      "_model_module_version": "1.2.0",
      "_model_name": "LayoutModel",
      "_view_count": null,
      "_view_module": "@jupyter-widgets/base",
      "_view_module_version": "1.2.0",
      "_view_name": "LayoutView",
      "align_content": null,
      "align_items": null,
      "align_self": null,
      "border": null,
      "bottom": null,
      "display": null,
      "flex": null,
      "flex_flow": null,
      "grid_area": null,
      "grid_auto_columns": null,
      "grid_auto_flow": null,
      "grid_auto_rows": null,
      "grid_column": null,
      "grid_gap": null,
      "grid_row": null,
      "grid_template_areas": null,
      "grid_template_columns": null,
      "grid_template_rows": null,
      "height": null,
      "justify_content": null,
      "justify_items": null,
      "left": null,
      "margin": null,
      "max_height": null,
      "max_width": null,
      "min_height": null,
      "min_width": null,
      "object_fit": null,
      "object_position": null,
      "order": null,
      "overflow": null,
      "overflow_x": null,
      "overflow_y": null,
      "padding": null,
      "right": null,
      "top": null,
      "visibility": null,
      "width": null
     }
    },
    "ac4a304a0fc94350a5243e0b518358d8": {
     "model_module": "@jupyter-widgets/controls",
     "model_name": "DescriptionStyleModel",
     "model_module_version": "1.5.0",
     "state": {
      "_model_module": "@jupyter-widgets/controls",
      "_model_module_version": "1.5.0",
      "_model_name": "DescriptionStyleModel",
      "_view_count": null,
      "_view_module": "@jupyter-widgets/base",
      "_view_module_version": "1.2.0",
      "_view_name": "StyleView",
      "description_width": ""
     }
    },
    "85439dcafa7b4defa32c751b3d46106d": {
     "model_module": "@jupyter-widgets/base",
     "model_name": "LayoutModel",
     "model_module_version": "1.2.0",
     "state": {
      "_model_module": "@jupyter-widgets/base",
      "_model_module_version": "1.2.0",
      "_model_name": "LayoutModel",
      "_view_count": null,
      "_view_module": "@jupyter-widgets/base",
      "_view_module_version": "1.2.0",
      "_view_name": "LayoutView",
      "align_content": null,
      "align_items": null,
      "align_self": null,
      "border": null,
      "bottom": null,
      "display": null,
      "flex": null,
      "flex_flow": null,
      "grid_area": null,
      "grid_auto_columns": null,
      "grid_auto_flow": null,
      "grid_auto_rows": null,
      "grid_column": null,
      "grid_gap": null,
      "grid_row": null,
      "grid_template_areas": null,
      "grid_template_columns": null,
      "grid_template_rows": null,
      "height": null,
      "justify_content": null,
      "justify_items": null,
      "left": null,
      "margin": null,
      "max_height": null,
      "max_width": null,
      "min_height": null,
      "min_width": null,
      "object_fit": null,
      "object_position": null,
      "order": null,
      "overflow": null,
      "overflow_x": null,
      "overflow_y": null,
      "padding": null,
      "right": null,
      "top": null,
      "visibility": null,
      "width": "20px"
     }
    },
    "99207ce4fe614f1fb9b910c576f3bb3b": {
     "model_module": "@jupyter-widgets/controls",
     "model_name": "ProgressStyleModel",
     "model_module_version": "1.5.0",
     "state": {
      "_model_module": "@jupyter-widgets/controls",
      "_model_module_version": "1.5.0",
      "_model_name": "ProgressStyleModel",
      "_view_count": null,
      "_view_module": "@jupyter-widgets/base",
      "_view_module_version": "1.2.0",
      "_view_name": "StyleView",
      "bar_color": null,
      "description_width": ""
     }
    },
    "16fbce49cb9448818879f3a583668c4b": {
     "model_module": "@jupyter-widgets/base",
     "model_name": "LayoutModel",
     "model_module_version": "1.2.0",
     "state": {
      "_model_module": "@jupyter-widgets/base",
      "_model_module_version": "1.2.0",
      "_model_name": "LayoutModel",
      "_view_count": null,
      "_view_module": "@jupyter-widgets/base",
      "_view_module_version": "1.2.0",
      "_view_name": "LayoutView",
      "align_content": null,
      "align_items": null,
      "align_self": null,
      "border": null,
      "bottom": null,
      "display": null,
      "flex": null,
      "flex_flow": null,
      "grid_area": null,
      "grid_auto_columns": null,
      "grid_auto_flow": null,
      "grid_auto_rows": null,
      "grid_column": null,
      "grid_gap": null,
      "grid_row": null,
      "grid_template_areas": null,
      "grid_template_columns": null,
      "grid_template_rows": null,
      "height": null,
      "justify_content": null,
      "justify_items": null,
      "left": null,
      "margin": null,
      "max_height": null,
      "max_width": null,
      "min_height": null,
      "min_width": null,
      "object_fit": null,
      "object_position": null,
      "order": null,
      "overflow": null,
      "overflow_x": null,
      "overflow_y": null,
      "padding": null,
      "right": null,
      "top": null,
      "visibility": null,
      "width": null
     }
    },
    "07c58cd1129c48588df22abf30ac96f5": {
     "model_module": "@jupyter-widgets/controls",
     "model_name": "DescriptionStyleModel",
     "model_module_version": "1.5.0",
     "state": {
      "_model_module": "@jupyter-widgets/controls",
      "_model_module_version": "1.5.0",
      "_model_name": "DescriptionStyleModel",
      "_view_count": null,
      "_view_module": "@jupyter-widgets/base",
      "_view_module_version": "1.2.0",
      "_view_name": "StyleView",
      "description_width": ""
     }
    },
    "4758a3b19bd142fba173e286fe1567e8": {
     "model_module": "@jupyter-widgets/controls",
     "model_name": "HBoxModel",
     "model_module_version": "1.5.0",
     "state": {
      "_dom_classes": [],
      "_model_module": "@jupyter-widgets/controls",
      "_model_module_version": "1.5.0",
      "_model_name": "HBoxModel",
      "_view_count": null,
      "_view_module": "@jupyter-widgets/controls",
      "_view_module_version": "1.5.0",
      "_view_name": "HBoxView",
      "box_style": "",
      "children": [
       "IPY_MODEL_7e7b869ffb054a82b7dee0b67031f5c4",
       "IPY_MODEL_46518c3ecac746929dd8c7743e87e997",
       "IPY_MODEL_64cd770f159f4e5d8b130d55bd70b5fc"
      ],
      "layout": "IPY_MODEL_79baa924329b45559019ab31d57dfdb8"
     }
    },
    "7e7b869ffb054a82b7dee0b67031f5c4": {
     "model_module": "@jupyter-widgets/controls",
     "model_name": "HTMLModel",
     "model_module_version": "1.5.0",
     "state": {
      "_dom_classes": [],
      "_model_module": "@jupyter-widgets/controls",
      "_model_module_version": "1.5.0",
      "_model_name": "HTMLModel",
      "_view_count": null,
      "_view_module": "@jupyter-widgets/controls",
      "_view_module_version": "1.5.0",
      "_view_name": "HTMLView",
      "description": "",
      "description_tooltip": null,
      "layout": "IPY_MODEL_dfe72ce65012414b94aac506d5f31d49",
      "placeholder": "​",
      "style": "IPY_MODEL_6d646078c450488da75986a5693f8a55",
      "value": "tokenizer_config.json: 100%"
     }
    },
    "46518c3ecac746929dd8c7743e87e997": {
     "model_module": "@jupyter-widgets/controls",
     "model_name": "FloatProgressModel",
     "model_module_version": "1.5.0",
     "state": {
      "_dom_classes": [],
      "_model_module": "@jupyter-widgets/controls",
      "_model_module_version": "1.5.0",
      "_model_name": "FloatProgressModel",
      "_view_count": null,
      "_view_module": "@jupyter-widgets/controls",
      "_view_module_version": "1.5.0",
      "_view_name": "ProgressView",
      "bar_style": "success",
      "description": "",
      "description_tooltip": null,
      "layout": "IPY_MODEL_1b81259b6da04b0dbcf311a23f3b4e6a",
      "max": 604,
      "min": 0,
      "orientation": "horizontal",
      "style": "IPY_MODEL_c3a37aaf6b05490ca44ccaaa9f5f15e9",
      "value": 604
     }
    },
    "64cd770f159f4e5d8b130d55bd70b5fc": {
     "model_module": "@jupyter-widgets/controls",
     "model_name": "HTMLModel",
     "model_module_version": "1.5.0",
     "state": {
      "_dom_classes": [],
      "_model_module": "@jupyter-widgets/controls",
      "_model_module_version": "1.5.0",
      "_model_name": "HTMLModel",
      "_view_count": null,
      "_view_module": "@jupyter-widgets/controls",
      "_view_module_version": "1.5.0",
      "_view_name": "HTMLView",
      "description": "",
      "description_tooltip": null,
      "layout": "IPY_MODEL_e74c98bc6dbc4ce8831a2910e8f7ac19",
      "placeholder": "​",
      "style": "IPY_MODEL_ffeea66de46845ae8546acd3e2911643",
      "value": " 604/604 [00:00&lt;00:00, 5.43kB/s]"
     }
    },
    "79baa924329b45559019ab31d57dfdb8": {
     "model_module": "@jupyter-widgets/base",
     "model_name": "LayoutModel",
     "model_module_version": "1.2.0",
     "state": {
      "_model_module": "@jupyter-widgets/base",
      "_model_module_version": "1.2.0",
      "_model_name": "LayoutModel",
      "_view_count": null,
      "_view_module": "@jupyter-widgets/base",
      "_view_module_version": "1.2.0",
      "_view_name": "LayoutView",
      "align_content": null,
      "align_items": null,
      "align_self": null,
      "border": null,
      "bottom": null,
      "display": null,
      "flex": null,
      "flex_flow": null,
      "grid_area": null,
      "grid_auto_columns": null,
      "grid_auto_flow": null,
      "grid_auto_rows": null,
      "grid_column": null,
      "grid_gap": null,
      "grid_row": null,
      "grid_template_areas": null,
      "grid_template_columns": null,
      "grid_template_rows": null,
      "height": null,
      "justify_content": null,
      "justify_items": null,
      "left": null,
      "margin": null,
      "max_height": null,
      "max_width": null,
      "min_height": null,
      "min_width": null,
      "object_fit": null,
      "object_position": null,
      "order": null,
      "overflow": null,
      "overflow_x": null,
      "overflow_y": null,
      "padding": null,
      "right": null,
      "top": null,
      "visibility": null,
      "width": null
     }
    },
    "dfe72ce65012414b94aac506d5f31d49": {
     "model_module": "@jupyter-widgets/base",
     "model_name": "LayoutModel",
     "model_module_version": "1.2.0",
     "state": {
      "_model_module": "@jupyter-widgets/base",
      "_model_module_version": "1.2.0",
      "_model_name": "LayoutModel",
      "_view_count": null,
      "_view_module": "@jupyter-widgets/base",
      "_view_module_version": "1.2.0",
      "_view_name": "LayoutView",
      "align_content": null,
      "align_items": null,
      "align_self": null,
      "border": null,
      "bottom": null,
      "display": null,
      "flex": null,
      "flex_flow": null,
      "grid_area": null,
      "grid_auto_columns": null,
      "grid_auto_flow": null,
      "grid_auto_rows": null,
      "grid_column": null,
      "grid_gap": null,
      "grid_row": null,
      "grid_template_areas": null,
      "grid_template_columns": null,
      "grid_template_rows": null,
      "height": null,
      "justify_content": null,
      "justify_items": null,
      "left": null,
      "margin": null,
      "max_height": null,
      "max_width": null,
      "min_height": null,
      "min_width": null,
      "object_fit": null,
      "object_position": null,
      "order": null,
      "overflow": null,
      "overflow_x": null,
      "overflow_y": null,
      "padding": null,
      "right": null,
      "top": null,
      "visibility": null,
      "width": null
     }
    },
    "6d646078c450488da75986a5693f8a55": {
     "model_module": "@jupyter-widgets/controls",
     "model_name": "DescriptionStyleModel",
     "model_module_version": "1.5.0",
     "state": {
      "_model_module": "@jupyter-widgets/controls",
      "_model_module_version": "1.5.0",
      "_model_name": "DescriptionStyleModel",
      "_view_count": null,
      "_view_module": "@jupyter-widgets/base",
      "_view_module_version": "1.2.0",
      "_view_name": "StyleView",
      "description_width": ""
     }
    },
    "1b81259b6da04b0dbcf311a23f3b4e6a": {
     "model_module": "@jupyter-widgets/base",
     "model_name": "LayoutModel",
     "model_module_version": "1.2.0",
     "state": {
      "_model_module": "@jupyter-widgets/base",
      "_model_module_version": "1.2.0",
      "_model_name": "LayoutModel",
      "_view_count": null,
      "_view_module": "@jupyter-widgets/base",
      "_view_module_version": "1.2.0",
      "_view_name": "LayoutView",
      "align_content": null,
      "align_items": null,
      "align_self": null,
      "border": null,
      "bottom": null,
      "display": null,
      "flex": null,
      "flex_flow": null,
      "grid_area": null,
      "grid_auto_columns": null,
      "grid_auto_flow": null,
      "grid_auto_rows": null,
      "grid_column": null,
      "grid_gap": null,
      "grid_row": null,
      "grid_template_areas": null,
      "grid_template_columns": null,
      "grid_template_rows": null,
      "height": null,
      "justify_content": null,
      "justify_items": null,
      "left": null,
      "margin": null,
      "max_height": null,
      "max_width": null,
      "min_height": null,
      "min_width": null,
      "object_fit": null,
      "object_position": null,
      "order": null,
      "overflow": null,
      "overflow_x": null,
      "overflow_y": null,
      "padding": null,
      "right": null,
      "top": null,
      "visibility": null,
      "width": null
     }
    },
    "c3a37aaf6b05490ca44ccaaa9f5f15e9": {
     "model_module": "@jupyter-widgets/controls",
     "model_name": "ProgressStyleModel",
     "model_module_version": "1.5.0",
     "state": {
      "_model_module": "@jupyter-widgets/controls",
      "_model_module_version": "1.5.0",
      "_model_name": "ProgressStyleModel",
      "_view_count": null,
      "_view_module": "@jupyter-widgets/base",
      "_view_module_version": "1.2.0",
      "_view_name": "StyleView",
      "bar_color": null,
      "description_width": ""
     }
    },
    "e74c98bc6dbc4ce8831a2910e8f7ac19": {
     "model_module": "@jupyter-widgets/base",
     "model_name": "LayoutModel",
     "model_module_version": "1.2.0",
     "state": {
      "_model_module": "@jupyter-widgets/base",
      "_model_module_version": "1.2.0",
      "_model_name": "LayoutModel",
      "_view_count": null,
      "_view_module": "@jupyter-widgets/base",
      "_view_module_version": "1.2.0",
      "_view_name": "LayoutView",
      "align_content": null,
      "align_items": null,
      "align_self": null,
      "border": null,
      "bottom": null,
      "display": null,
      "flex": null,
      "flex_flow": null,
      "grid_area": null,
      "grid_auto_columns": null,
      "grid_auto_flow": null,
      "grid_auto_rows": null,
      "grid_column": null,
      "grid_gap": null,
      "grid_row": null,
      "grid_template_areas": null,
      "grid_template_columns": null,
      "grid_template_rows": null,
      "height": null,
      "justify_content": null,
      "justify_items": null,
      "left": null,
      "margin": null,
      "max_height": null,
      "max_width": null,
      "min_height": null,
      "min_width": null,
      "object_fit": null,
      "object_position": null,
      "order": null,
      "overflow": null,
      "overflow_x": null,
      "overflow_y": null,
      "padding": null,
      "right": null,
      "top": null,
      "visibility": null,
      "width": null
     }
    },
    "ffeea66de46845ae8546acd3e2911643": {
     "model_module": "@jupyter-widgets/controls",
     "model_name": "DescriptionStyleModel",
     "model_module_version": "1.5.0",
     "state": {
      "_model_module": "@jupyter-widgets/controls",
      "_model_module_version": "1.5.0",
      "_model_name": "DescriptionStyleModel",
      "_view_count": null,
      "_view_module": "@jupyter-widgets/base",
      "_view_module_version": "1.2.0",
      "_view_name": "StyleView",
      "description_width": ""
     }
    },
    "a237a4b35d174a54b2ccd583d117375d": {
     "model_module": "@jupyter-widgets/controls",
     "model_name": "HBoxModel",
     "model_module_version": "1.5.0",
     "state": {
      "_dom_classes": [],
      "_model_module": "@jupyter-widgets/controls",
      "_model_module_version": "1.5.0",
      "_model_name": "HBoxModel",
      "_view_count": null,
      "_view_module": "@jupyter-widgets/controls",
      "_view_module_version": "1.5.0",
      "_view_name": "HBoxView",
      "box_style": "",
      "children": [
       "IPY_MODEL_75d85c5fafc54acfa8986fa02a761925",
       "IPY_MODEL_fcd485a0a3a543a981743721f9c7fc77",
       "IPY_MODEL_070ba15f178d406aae370a8e1f22ef48"
      ],
      "layout": "IPY_MODEL_d385765f90164e8c9fe19426f0dafc58"
     }
    },
    "75d85c5fafc54acfa8986fa02a761925": {
     "model_module": "@jupyter-widgets/controls",
     "model_name": "HTMLModel",
     "model_module_version": "1.5.0",
     "state": {
      "_dom_classes": [],
      "_model_module": "@jupyter-widgets/controls",
      "_model_module_version": "1.5.0",
      "_model_name": "HTMLModel",
      "_view_count": null,
      "_view_module": "@jupyter-widgets/controls",
      "_view_module_version": "1.5.0",
      "_view_name": "HTMLView",
      "description": "",
      "description_tooltip": null,
      "layout": "IPY_MODEL_f3089c9603ea45ad896c5012bb6802b4",
      "placeholder": "​",
      "style": "IPY_MODEL_0c9d15f115bc48ed8197537beefadd3a",
      "value": "special_tokens_map.json: 100%"
     }
    },
    "fcd485a0a3a543a981743721f9c7fc77": {
     "model_module": "@jupyter-widgets/controls",
     "model_name": "FloatProgressModel",
     "model_module_version": "1.5.0",
     "state": {
      "_dom_classes": [],
      "_model_module": "@jupyter-widgets/controls",
      "_model_module_version": "1.5.0",
      "_model_name": "FloatProgressModel",
      "_view_count": null,
      "_view_module": "@jupyter-widgets/controls",
      "_view_module_version": "1.5.0",
      "_view_name": "ProgressView",
      "bar_style": "success",
      "description": "",
      "description_tooltip": null,
      "layout": "IPY_MODEL_210dcde2589a48d4a3a8803465be61fd",
      "max": 389,
      "min": 0,
      "orientation": "horizontal",
      "style": "IPY_MODEL_3b182ad1552d477cb79fa14750e3a143",
      "value": 389
     }
    },
    "070ba15f178d406aae370a8e1f22ef48": {
     "model_module": "@jupyter-widgets/controls",
     "model_name": "HTMLModel",
     "model_module_version": "1.5.0",
     "state": {
      "_dom_classes": [],
      "_model_module": "@jupyter-widgets/controls",
      "_model_module_version": "1.5.0",
      "_model_name": "HTMLModel",
      "_view_count": null,
      "_view_module": "@jupyter-widgets/controls",
      "_view_module_version": "1.5.0",
      "_view_name": "HTMLView",
      "description": "",
      "description_tooltip": null,
      "layout": "IPY_MODEL_dc34b3928dcf42cf844f16aa77bc93fb",
      "placeholder": "​",
      "style": "IPY_MODEL_39aff3e3120a451cb12ae6aba4cbd80c",
      "value": " 389/389 [00:00&lt;00:00, 5.46kB/s]"
     }
    },
    "d385765f90164e8c9fe19426f0dafc58": {
     "model_module": "@jupyter-widgets/base",
     "model_name": "LayoutModel",
     "model_module_version": "1.2.0",
     "state": {
      "_model_module": "@jupyter-widgets/base",
      "_model_module_version": "1.2.0",
      "_model_name": "LayoutModel",
      "_view_count": null,
      "_view_module": "@jupyter-widgets/base",
      "_view_module_version": "1.2.0",
      "_view_name": "LayoutView",
      "align_content": null,
      "align_items": null,
      "align_self": null,
      "border": null,
      "bottom": null,
      "display": null,
      "flex": null,
      "flex_flow": null,
      "grid_area": null,
      "grid_auto_columns": null,
      "grid_auto_flow": null,
      "grid_auto_rows": null,
      "grid_column": null,
      "grid_gap": null,
      "grid_row": null,
      "grid_template_areas": null,
      "grid_template_columns": null,
      "grid_template_rows": null,
      "height": null,
      "justify_content": null,
      "justify_items": null,
      "left": null,
      "margin": null,
      "max_height": null,
      "max_width": null,
      "min_height": null,
      "min_width": null,
      "object_fit": null,
      "object_position": null,
      "order": null,
      "overflow": null,
      "overflow_x": null,
      "overflow_y": null,
      "padding": null,
      "right": null,
      "top": null,
      "visibility": null,
      "width": null
     }
    },
    "f3089c9603ea45ad896c5012bb6802b4": {
     "model_module": "@jupyter-widgets/base",
     "model_name": "LayoutModel",
     "model_module_version": "1.2.0",
     "state": {
      "_model_module": "@jupyter-widgets/base",
      "_model_module_version": "1.2.0",
      "_model_name": "LayoutModel",
      "_view_count": null,
      "_view_module": "@jupyter-widgets/base",
      "_view_module_version": "1.2.0",
      "_view_name": "LayoutView",
      "align_content": null,
      "align_items": null,
      "align_self": null,
      "border": null,
      "bottom": null,
      "display": null,
      "flex": null,
      "flex_flow": null,
      "grid_area": null,
      "grid_auto_columns": null,
      "grid_auto_flow": null,
      "grid_auto_rows": null,
      "grid_column": null,
      "grid_gap": null,
      "grid_row": null,
      "grid_template_areas": null,
      "grid_template_columns": null,
      "grid_template_rows": null,
      "height": null,
      "justify_content": null,
      "justify_items": null,
      "left": null,
      "margin": null,
      "max_height": null,
      "max_width": null,
      "min_height": null,
      "min_width": null,
      "object_fit": null,
      "object_position": null,
      "order": null,
      "overflow": null,
      "overflow_x": null,
      "overflow_y": null,
      "padding": null,
      "right": null,
      "top": null,
      "visibility": null,
      "width": null
     }
    },
    "0c9d15f115bc48ed8197537beefadd3a": {
     "model_module": "@jupyter-widgets/controls",
     "model_name": "DescriptionStyleModel",
     "model_module_version": "1.5.0",
     "state": {
      "_model_module": "@jupyter-widgets/controls",
      "_model_module_version": "1.5.0",
      "_model_name": "DescriptionStyleModel",
      "_view_count": null,
      "_view_module": "@jupyter-widgets/base",
      "_view_module_version": "1.2.0",
      "_view_name": "StyleView",
      "description_width": ""
     }
    },
    "210dcde2589a48d4a3a8803465be61fd": {
     "model_module": "@jupyter-widgets/base",
     "model_name": "LayoutModel",
     "model_module_version": "1.2.0",
     "state": {
      "_model_module": "@jupyter-widgets/base",
      "_model_module_version": "1.2.0",
      "_model_name": "LayoutModel",
      "_view_count": null,
      "_view_module": "@jupyter-widgets/base",
      "_view_module_version": "1.2.0",
      "_view_name": "LayoutView",
      "align_content": null,
      "align_items": null,
      "align_self": null,
      "border": null,
      "bottom": null,
      "display": null,
      "flex": null,
      "flex_flow": null,
      "grid_area": null,
      "grid_auto_columns": null,
      "grid_auto_flow": null,
      "grid_auto_rows": null,
      "grid_column": null,
      "grid_gap": null,
      "grid_row": null,
      "grid_template_areas": null,
      "grid_template_columns": null,
      "grid_template_rows": null,
      "height": null,
      "justify_content": null,
      "justify_items": null,
      "left": null,
      "margin": null,
      "max_height": null,
      "max_width": null,
      "min_height": null,
      "min_width": null,
      "object_fit": null,
      "object_position": null,
      "order": null,
      "overflow": null,
      "overflow_x": null,
      "overflow_y": null,
      "padding": null,
      "right": null,
      "top": null,
      "visibility": null,
      "width": null
     }
    },
    "3b182ad1552d477cb79fa14750e3a143": {
     "model_module": "@jupyter-widgets/controls",
     "model_name": "ProgressStyleModel",
     "model_module_version": "1.5.0",
     "state": {
      "_model_module": "@jupyter-widgets/controls",
      "_model_module_version": "1.5.0",
      "_model_name": "ProgressStyleModel",
      "_view_count": null,
      "_view_module": "@jupyter-widgets/base",
      "_view_module_version": "1.2.0",
      "_view_name": "StyleView",
      "bar_color": null,
      "description_width": ""
     }
    },
    "dc34b3928dcf42cf844f16aa77bc93fb": {
     "model_module": "@jupyter-widgets/base",
     "model_name": "LayoutModel",
     "model_module_version": "1.2.0",
     "state": {
      "_model_module": "@jupyter-widgets/base",
      "_model_module_version": "1.2.0",
      "_model_name": "LayoutModel",
      "_view_count": null,
      "_view_module": "@jupyter-widgets/base",
      "_view_module_version": "1.2.0",
      "_view_name": "LayoutView",
      "align_content": null,
      "align_items": null,
      "align_self": null,
      "border": null,
      "bottom": null,
      "display": null,
      "flex": null,
      "flex_flow": null,
      "grid_area": null,
      "grid_auto_columns": null,
      "grid_auto_flow": null,
      "grid_auto_rows": null,
      "grid_column": null,
      "grid_gap": null,
      "grid_row": null,
      "grid_template_areas": null,
      "grid_template_columns": null,
      "grid_template_rows": null,
      "height": null,
      "justify_content": null,
      "justify_items": null,
      "left": null,
      "margin": null,
      "max_height": null,
      "max_width": null,
      "min_height": null,
      "min_width": null,
      "object_fit": null,
      "object_position": null,
      "order": null,
      "overflow": null,
      "overflow_x": null,
      "overflow_y": null,
      "padding": null,
      "right": null,
      "top": null,
      "visibility": null,
      "width": null
     }
    },
    "39aff3e3120a451cb12ae6aba4cbd80c": {
     "model_module": "@jupyter-widgets/controls",
     "model_name": "DescriptionStyleModel",
     "model_module_version": "1.5.0",
     "state": {
      "_model_module": "@jupyter-widgets/controls",
      "_model_module_version": "1.5.0",
      "_model_name": "DescriptionStyleModel",
      "_view_count": null,
      "_view_module": "@jupyter-widgets/base",
      "_view_module_version": "1.2.0",
      "_view_name": "StyleView",
      "description_width": ""
     }
    },
    "babdb09da83847bca1858d69f81d60cb": {
     "model_module": "@jupyter-widgets/controls",
     "model_name": "HBoxModel",
     "model_module_version": "1.5.0",
     "state": {
      "_dom_classes": [],
      "_model_module": "@jupyter-widgets/controls",
      "_model_module_version": "1.5.0",
      "_model_name": "HBoxModel",
      "_view_count": null,
      "_view_module": "@jupyter-widgets/controls",
      "_view_module_version": "1.5.0",
      "_view_name": "HBoxView",
      "box_style": "",
      "children": [
       "IPY_MODEL_bc73b08122d84e25aa6c63b3b633d48a",
       "IPY_MODEL_e42a5397c8a244edba0ecde9e28f66af",
       "IPY_MODEL_3dac8700fef141268cb97ea3b8a134d4"
      ],
      "layout": "IPY_MODEL_e667ac2f19454afdbd014faf2faaac38"
     }
    },
    "bc73b08122d84e25aa6c63b3b633d48a": {
     "model_module": "@jupyter-widgets/controls",
     "model_name": "HTMLModel",
     "model_module_version": "1.5.0",
     "state": {
      "_dom_classes": [],
      "_model_module": "@jupyter-widgets/controls",
      "_model_module_version": "1.5.0",
      "_model_name": "HTMLModel",
      "_view_count": null,
      "_view_module": "@jupyter-widgets/controls",
      "_view_module_version": "1.5.0",
      "_view_name": "HTMLView",
      "description": "",
      "description_tooltip": null,
      "layout": "IPY_MODEL_ab09ce6fa3c44002a0f470f67ef0e98c",
      "placeholder": "​",
      "style": "IPY_MODEL_59bc8e5311b04346bde0577659f9d830",
      "value": "0_CLIPModel/model.safetensors: 100%"
     }
    },
    "e42a5397c8a244edba0ecde9e28f66af": {
     "model_module": "@jupyter-widgets/controls",
     "model_name": "FloatProgressModel",
     "model_module_version": "1.5.0",
     "state": {
      "_dom_classes": [],
      "_model_module": "@jupyter-widgets/controls",
      "_model_module_version": "1.5.0",
      "_model_name": "FloatProgressModel",
      "_view_count": null,
      "_view_module": "@jupyter-widgets/controls",
      "_view_module_version": "1.5.0",
      "_view_name": "ProgressView",
      "bar_style": "success",
      "description": "",
      "description_tooltip": null,
      "layout": "IPY_MODEL_f23a0141deb144e6bace4a754f327a4b",
      "max": 605157884,
      "min": 0,
      "orientation": "horizontal",
      "style": "IPY_MODEL_6b34ffe05f1349bbb3784bb648f0ce7c",
      "value": 605157884
     }
    },
    "3dac8700fef141268cb97ea3b8a134d4": {
     "model_module": "@jupyter-widgets/controls",
     "model_name": "HTMLModel",
     "model_module_version": "1.5.0",
     "state": {
      "_dom_classes": [],
      "_model_module": "@jupyter-widgets/controls",
      "_model_module_version": "1.5.0",
      "_model_name": "HTMLModel",
      "_view_count": null,
      "_view_module": "@jupyter-widgets/controls",
      "_view_module_version": "1.5.0",
      "_view_name": "HTMLView",
      "description": "",
      "description_tooltip": null,
      "layout": "IPY_MODEL_eff3c71ae67c46f99a9aa2b9c8f736ad",
      "placeholder": "​",
      "style": "IPY_MODEL_a1df458986444e40aac8d47b26b72981",
      "value": " 605M/605M [00:11&lt;00:00, 24.5MB/s]"
     }
    },
    "e667ac2f19454afdbd014faf2faaac38": {
     "model_module": "@jupyter-widgets/base",
     "model_name": "LayoutModel",
     "model_module_version": "1.2.0",
     "state": {
      "_model_module": "@jupyter-widgets/base",
      "_model_module_version": "1.2.0",
      "_model_name": "LayoutModel",
      "_view_count": null,
      "_view_module": "@jupyter-widgets/base",
      "_view_module_version": "1.2.0",
      "_view_name": "LayoutView",
      "align_content": null,
      "align_items": null,
      "align_self": null,
      "border": null,
      "bottom": null,
      "display": null,
      "flex": null,
      "flex_flow": null,
      "grid_area": null,
      "grid_auto_columns": null,
      "grid_auto_flow": null,
      "grid_auto_rows": null,
      "grid_column": null,
      "grid_gap": null,
      "grid_row": null,
      "grid_template_areas": null,
      "grid_template_columns": null,
      "grid_template_rows": null,
      "height": null,
      "justify_content": null,
      "justify_items": null,
      "left": null,
      "margin": null,
      "max_height": null,
      "max_width": null,
      "min_height": null,
      "min_width": null,
      "object_fit": null,
      "object_position": null,
      "order": null,
      "overflow": null,
      "overflow_x": null,
      "overflow_y": null,
      "padding": null,
      "right": null,
      "top": null,
      "visibility": null,
      "width": null
     }
    },
    "ab09ce6fa3c44002a0f470f67ef0e98c": {
     "model_module": "@jupyter-widgets/base",
     "model_name": "LayoutModel",
     "model_module_version": "1.2.0",
     "state": {
      "_model_module": "@jupyter-widgets/base",
      "_model_module_version": "1.2.0",
      "_model_name": "LayoutModel",
      "_view_count": null,
      "_view_module": "@jupyter-widgets/base",
      "_view_module_version": "1.2.0",
      "_view_name": "LayoutView",
      "align_content": null,
      "align_items": null,
      "align_self": null,
      "border": null,
      "bottom": null,
      "display": null,
      "flex": null,
      "flex_flow": null,
      "grid_area": null,
      "grid_auto_columns": null,
      "grid_auto_flow": null,
      "grid_auto_rows": null,
      "grid_column": null,
      "grid_gap": null,
      "grid_row": null,
      "grid_template_areas": null,
      "grid_template_columns": null,
      "grid_template_rows": null,
      "height": null,
      "justify_content": null,
      "justify_items": null,
      "left": null,
      "margin": null,
      "max_height": null,
      "max_width": null,
      "min_height": null,
      "min_width": null,
      "object_fit": null,
      "object_position": null,
      "order": null,
      "overflow": null,
      "overflow_x": null,
      "overflow_y": null,
      "padding": null,
      "right": null,
      "top": null,
      "visibility": null,
      "width": null
     }
    },
    "59bc8e5311b04346bde0577659f9d830": {
     "model_module": "@jupyter-widgets/controls",
     "model_name": "DescriptionStyleModel",
     "model_module_version": "1.5.0",
     "state": {
      "_model_module": "@jupyter-widgets/controls",
      "_model_module_version": "1.5.0",
      "_model_name": "DescriptionStyleModel",
      "_view_count": null,
      "_view_module": "@jupyter-widgets/base",
      "_view_module_version": "1.2.0",
      "_view_name": "StyleView",
      "description_width": ""
     }
    },
    "f23a0141deb144e6bace4a754f327a4b": {
     "model_module": "@jupyter-widgets/base",
     "model_name": "LayoutModel",
     "model_module_version": "1.2.0",
     "state": {
      "_model_module": "@jupyter-widgets/base",
      "_model_module_version": "1.2.0",
      "_model_name": "LayoutModel",
      "_view_count": null,
      "_view_module": "@jupyter-widgets/base",
      "_view_module_version": "1.2.0",
      "_view_name": "LayoutView",
      "align_content": null,
      "align_items": null,
      "align_self": null,
      "border": null,
      "bottom": null,
      "display": null,
      "flex": null,
      "flex_flow": null,
      "grid_area": null,
      "grid_auto_columns": null,
      "grid_auto_flow": null,
      "grid_auto_rows": null,
      "grid_column": null,
      "grid_gap": null,
      "grid_row": null,
      "grid_template_areas": null,
      "grid_template_columns": null,
      "grid_template_rows": null,
      "height": null,
      "justify_content": null,
      "justify_items": null,
      "left": null,
      "margin": null,
      "max_height": null,
      "max_width": null,
      "min_height": null,
      "min_width": null,
      "object_fit": null,
      "object_position": null,
      "order": null,
      "overflow": null,
      "overflow_x": null,
      "overflow_y": null,
      "padding": null,
      "right": null,
      "top": null,
      "visibility": null,
      "width": null
     }
    },
    "6b34ffe05f1349bbb3784bb648f0ce7c": {
     "model_module": "@jupyter-widgets/controls",
     "model_name": "ProgressStyleModel",
     "model_module_version": "1.5.0",
     "state": {
      "_model_module": "@jupyter-widgets/controls",
      "_model_module_version": "1.5.0",
      "_model_name": "ProgressStyleModel",
      "_view_count": null,
      "_view_module": "@jupyter-widgets/base",
      "_view_module_version": "1.2.0",
      "_view_name": "StyleView",
      "bar_color": null,
      "description_width": ""
     }
    },
    "eff3c71ae67c46f99a9aa2b9c8f736ad": {
     "model_module": "@jupyter-widgets/base",
     "model_name": "LayoutModel",
     "model_module_version": "1.2.0",
     "state": {
      "_model_module": "@jupyter-widgets/base",
      "_model_module_version": "1.2.0",
      "_model_name": "LayoutModel",
      "_view_count": null,
      "_view_module": "@jupyter-widgets/base",
      "_view_module_version": "1.2.0",
      "_view_name": "LayoutView",
      "align_content": null,
      "align_items": null,
      "align_self": null,
      "border": null,
      "bottom": null,
      "display": null,
      "flex": null,
      "flex_flow": null,
      "grid_area": null,
      "grid_auto_columns": null,
      "grid_auto_flow": null,
      "grid_auto_rows": null,
      "grid_column": null,
      "grid_gap": null,
      "grid_row": null,
      "grid_template_areas": null,
      "grid_template_columns": null,
      "grid_template_rows": null,
      "height": null,
      "justify_content": null,
      "justify_items": null,
      "left": null,
      "margin": null,
      "max_height": null,
      "max_width": null,
      "min_height": null,
      "min_width": null,
      "object_fit": null,
      "object_position": null,
      "order": null,
      "overflow": null,
      "overflow_x": null,
      "overflow_y": null,
      "padding": null,
      "right": null,
      "top": null,
      "visibility": null,
      "width": null
     }
    },
    "a1df458986444e40aac8d47b26b72981": {
     "model_module": "@jupyter-widgets/controls",
     "model_name": "DescriptionStyleModel",
     "model_module_version": "1.5.0",
     "state": {
      "_model_module": "@jupyter-widgets/controls",
      "_model_module_version": "1.5.0",
      "_model_name": "DescriptionStyleModel",
      "_view_count": null,
      "_view_module": "@jupyter-widgets/base",
      "_view_module_version": "1.2.0",
      "_view_name": "StyleView",
      "description_width": ""
     }
    },
    "90874d70553a428985bffd7014023fdb": {
     "model_module": "@jupyter-widgets/controls",
     "model_name": "HBoxModel",
     "model_module_version": "1.5.0",
     "state": {
      "_dom_classes": [],
      "_model_module": "@jupyter-widgets/controls",
      "_model_module_version": "1.5.0",
      "_model_name": "HBoxModel",
      "_view_count": null,
      "_view_module": "@jupyter-widgets/controls",
      "_view_module_version": "1.5.0",
      "_view_name": "HBoxView",
      "box_style": "",
      "children": [
       "IPY_MODEL_ebdcc2ea74624330b6992bde05d720d3",
       "IPY_MODEL_68d1e2cd83fa4930a9931c8975d8df66",
       "IPY_MODEL_3b1b5d338c3e4b69b44723a73273773a"
      ],
      "layout": "IPY_MODEL_bd7d6d5448ca452babdc41f34493d75a"
     }
    },
    "ebdcc2ea74624330b6992bde05d720d3": {
     "model_module": "@jupyter-widgets/controls",
     "model_name": "HTMLModel",
     "model_module_version": "1.5.0",
     "state": {
      "_dom_classes": [],
      "_model_module": "@jupyter-widgets/controls",
      "_model_module_version": "1.5.0",
      "_model_name": "HTMLModel",
      "_view_count": null,
      "_view_module": "@jupyter-widgets/controls",
      "_view_module_version": "1.5.0",
      "_view_name": "HTMLView",
      "description": "",
      "description_tooltip": null,
      "layout": "IPY_MODEL_40175b1d28e546ae9bb9374c791e60f5",
      "placeholder": "​",
      "style": "IPY_MODEL_4c958d1ab99b4b509a232e6e8f08525f",
      "value": "preprocessor_config.json: 100%"
     }
    },
    "68d1e2cd83fa4930a9931c8975d8df66": {
     "model_module": "@jupyter-widgets/controls",
     "model_name": "FloatProgressModel",
     "model_module_version": "1.5.0",
     "state": {
      "_dom_classes": [],
      "_model_module": "@jupyter-widgets/controls",
      "_model_module_version": "1.5.0",
      "_model_name": "FloatProgressModel",
      "_view_count": null,
      "_view_module": "@jupyter-widgets/controls",
      "_view_module_version": "1.5.0",
      "_view_name": "ProgressView",
      "bar_style": "success",
      "description": "",
      "description_tooltip": null,
      "layout": "IPY_MODEL_ccc3759529804b0ab5ff2ad69199d876",
      "max": 316,
      "min": 0,
      "orientation": "horizontal",
      "style": "IPY_MODEL_6890c513b04d4b40b673ca35a9f40f52",
      "value": 316
     }
    },
    "3b1b5d338c3e4b69b44723a73273773a": {
     "model_module": "@jupyter-widgets/controls",
     "model_name": "HTMLModel",
     "model_module_version": "1.5.0",
     "state": {
      "_dom_classes": [],
      "_model_module": "@jupyter-widgets/controls",
      "_model_module_version": "1.5.0",
      "_model_name": "HTMLModel",
      "_view_count": null,
      "_view_module": "@jupyter-widgets/controls",
      "_view_module_version": "1.5.0",
      "_view_name": "HTMLView",
      "description": "",
      "description_tooltip": null,
      "layout": "IPY_MODEL_f447bcf3bb25424ebb37ee9c717765d4",
      "placeholder": "​",
      "style": "IPY_MODEL_0afa4bcfffea4e32ba3db48aee91a68a",
      "value": " 316/316 [00:00&lt;00:00, 2.97kB/s]"
     }
    },
    "bd7d6d5448ca452babdc41f34493d75a": {
     "model_module": "@jupyter-widgets/base",
     "model_name": "LayoutModel",
     "model_module_version": "1.2.0",
     "state": {
      "_model_module": "@jupyter-widgets/base",
      "_model_module_version": "1.2.0",
      "_model_name": "LayoutModel",
      "_view_count": null,
      "_view_module": "@jupyter-widgets/base",
      "_view_module_version": "1.2.0",
      "_view_name": "LayoutView",
      "align_content": null,
      "align_items": null,
      "align_self": null,
      "border": null,
      "bottom": null,
      "display": null,
      "flex": null,
      "flex_flow": null,
      "grid_area": null,
      "grid_auto_columns": null,
      "grid_auto_flow": null,
      "grid_auto_rows": null,
      "grid_column": null,
      "grid_gap": null,
      "grid_row": null,
      "grid_template_areas": null,
      "grid_template_columns": null,
      "grid_template_rows": null,
      "height": null,
      "justify_content": null,
      "justify_items": null,
      "left": null,
      "margin": null,
      "max_height": null,
      "max_width": null,
      "min_height": null,
      "min_width": null,
      "object_fit": null,
      "object_position": null,
      "order": null,
      "overflow": null,
      "overflow_x": null,
      "overflow_y": null,
      "padding": null,
      "right": null,
      "top": null,
      "visibility": null,
      "width": null
     }
    },
    "40175b1d28e546ae9bb9374c791e60f5": {
     "model_module": "@jupyter-widgets/base",
     "model_name": "LayoutModel",
     "model_module_version": "1.2.0",
     "state": {
      "_model_module": "@jupyter-widgets/base",
      "_model_module_version": "1.2.0",
      "_model_name": "LayoutModel",
      "_view_count": null,
      "_view_module": "@jupyter-widgets/base",
      "_view_module_version": "1.2.0",
      "_view_name": "LayoutView",
      "align_content": null,
      "align_items": null,
      "align_self": null,
      "border": null,
      "bottom": null,
      "display": null,
      "flex": null,
      "flex_flow": null,
      "grid_area": null,
      "grid_auto_columns": null,
      "grid_auto_flow": null,
      "grid_auto_rows": null,
      "grid_column": null,
      "grid_gap": null,
      "grid_row": null,
      "grid_template_areas": null,
      "grid_template_columns": null,
      "grid_template_rows": null,
      "height": null,
      "justify_content": null,
      "justify_items": null,
      "left": null,
      "margin": null,
      "max_height": null,
      "max_width": null,
      "min_height": null,
      "min_width": null,
      "object_fit": null,
      "object_position": null,
      "order": null,
      "overflow": null,
      "overflow_x": null,
      "overflow_y": null,
      "padding": null,
      "right": null,
      "top": null,
      "visibility": null,
      "width": null
     }
    },
    "4c958d1ab99b4b509a232e6e8f08525f": {
     "model_module": "@jupyter-widgets/controls",
     "model_name": "DescriptionStyleModel",
     "model_module_version": "1.5.0",
     "state": {
      "_model_module": "@jupyter-widgets/controls",
      "_model_module_version": "1.5.0",
      "_model_name": "DescriptionStyleModel",
      "_view_count": null,
      "_view_module": "@jupyter-widgets/base",
      "_view_module_version": "1.2.0",
      "_view_name": "StyleView",
      "description_width": ""
     }
    },
    "ccc3759529804b0ab5ff2ad69199d876": {
     "model_module": "@jupyter-widgets/base",
     "model_name": "LayoutModel",
     "model_module_version": "1.2.0",
     "state": {
      "_model_module": "@jupyter-widgets/base",
      "_model_module_version": "1.2.0",
      "_model_name": "LayoutModel",
      "_view_count": null,
      "_view_module": "@jupyter-widgets/base",
      "_view_module_version": "1.2.0",
      "_view_name": "LayoutView",
      "align_content": null,
      "align_items": null,
      "align_self": null,
      "border": null,
      "bottom": null,
      "display": null,
      "flex": null,
      "flex_flow": null,
      "grid_area": null,
      "grid_auto_columns": null,
      "grid_auto_flow": null,
      "grid_auto_rows": null,
      "grid_column": null,
      "grid_gap": null,
      "grid_row": null,
      "grid_template_areas": null,
      "grid_template_columns": null,
      "grid_template_rows": null,
      "height": null,
      "justify_content": null,
      "justify_items": null,
      "left": null,
      "margin": null,
      "max_height": null,
      "max_width": null,
      "min_height": null,
      "min_width": null,
      "object_fit": null,
      "object_position": null,
      "order": null,
      "overflow": null,
      "overflow_x": null,
      "overflow_y": null,
      "padding": null,
      "right": null,
      "top": null,
      "visibility": null,
      "width": null
     }
    },
    "6890c513b04d4b40b673ca35a9f40f52": {
     "model_module": "@jupyter-widgets/controls",
     "model_name": "ProgressStyleModel",
     "model_module_version": "1.5.0",
     "state": {
      "_model_module": "@jupyter-widgets/controls",
      "_model_module_version": "1.5.0",
      "_model_name": "ProgressStyleModel",
      "_view_count": null,
      "_view_module": "@jupyter-widgets/base",
      "_view_module_version": "1.2.0",
      "_view_name": "StyleView",
      "bar_color": null,
      "description_width": ""
     }
    },
    "f447bcf3bb25424ebb37ee9c717765d4": {
     "model_module": "@jupyter-widgets/base",
     "model_name": "LayoutModel",
     "model_module_version": "1.2.0",
     "state": {
      "_model_module": "@jupyter-widgets/base",
      "_model_module_version": "1.2.0",
      "_model_name": "LayoutModel",
      "_view_count": null,
      "_view_module": "@jupyter-widgets/base",
      "_view_module_version": "1.2.0",
      "_view_name": "LayoutView",
      "align_content": null,
      "align_items": null,
      "align_self": null,
      "border": null,
      "bottom": null,
      "display": null,
      "flex": null,
      "flex_flow": null,
      "grid_area": null,
      "grid_auto_columns": null,
      "grid_auto_flow": null,
      "grid_auto_rows": null,
      "grid_column": null,
      "grid_gap": null,
      "grid_row": null,
      "grid_template_areas": null,
      "grid_template_columns": null,
      "grid_template_rows": null,
      "height": null,
      "justify_content": null,
      "justify_items": null,
      "left": null,
      "margin": null,
      "max_height": null,
      "max_width": null,
      "min_height": null,
      "min_width": null,
      "object_fit": null,
      "object_position": null,
      "order": null,
      "overflow": null,
      "overflow_x": null,
      "overflow_y": null,
      "padding": null,
      "right": null,
      "top": null,
      "visibility": null,
      "width": null
     }
    },
    "0afa4bcfffea4e32ba3db48aee91a68a": {
     "model_module": "@jupyter-widgets/controls",
     "model_name": "DescriptionStyleModel",
     "model_module_version": "1.5.0",
     "state": {
      "_model_module": "@jupyter-widgets/controls",
      "_model_module_version": "1.5.0",
      "_model_name": "DescriptionStyleModel",
      "_view_count": null,
      "_view_module": "@jupyter-widgets/base",
      "_view_module_version": "1.2.0",
      "_view_name": "StyleView",
      "description_width": ""
     }
    },
    "c37cf75cd2a548baab5f500313b7ca5b": {
     "model_module": "@jupyter-widgets/controls",
     "model_name": "HBoxModel",
     "model_module_version": "1.5.0",
     "state": {
      "_dom_classes": [],
      "_model_module": "@jupyter-widgets/controls",
      "_model_module_version": "1.5.0",
      "_model_name": "HBoxModel",
      "_view_count": null,
      "_view_module": "@jupyter-widgets/controls",
      "_view_module_version": "1.5.0",
      "_view_name": "HBoxView",
      "box_style": "",
      "children": [
       "IPY_MODEL_428e6ced80704832982da082abb84c1b",
       "IPY_MODEL_a1f995d01b1a4e9486752b21288b9ab3",
       "IPY_MODEL_7b7c8ad527d442cca9354d8cd394bcdc"
      ],
      "layout": "IPY_MODEL_0b077816e3834f869a32d0192447fd81"
     }
    },
    "428e6ced80704832982da082abb84c1b": {
     "model_module": "@jupyter-widgets/controls",
     "model_name": "HTMLModel",
     "model_module_version": "1.5.0",
     "state": {
      "_dom_classes": [],
      "_model_module": "@jupyter-widgets/controls",
      "_model_module_version": "1.5.0",
      "_model_name": "HTMLModel",
      "_view_count": null,
      "_view_module": "@jupyter-widgets/controls",
      "_view_module_version": "1.5.0",
      "_view_name": "HTMLView",
      "description": "",
      "description_tooltip": null,
      "layout": "IPY_MODEL_b415703d81634631899e5f838fbe28e0",
      "placeholder": "​",
      "style": "IPY_MODEL_c1bf1a9586714e9c96c8c473ddd7db41",
      "value": "0_CLIPModel/pytorch_model.bin: 100%"
     }
    },
    "a1f995d01b1a4e9486752b21288b9ab3": {
     "model_module": "@jupyter-widgets/controls",
     "model_name": "FloatProgressModel",
     "model_module_version": "1.5.0",
     "state": {
      "_dom_classes": [],
      "_model_module": "@jupyter-widgets/controls",
      "_model_module_version": "1.5.0",
      "_model_name": "FloatProgressModel",
      "_view_count": null,
      "_view_module": "@jupyter-widgets/controls",
      "_view_module_version": "1.5.0",
      "_view_name": "ProgressView",
      "bar_style": "success",
      "description": "",
      "description_tooltip": null,
      "layout": "IPY_MODEL_9aa55dc643024d6bb371db472585e61c",
      "max": 605266175,
      "min": 0,
      "orientation": "horizontal",
      "style": "IPY_MODEL_ba2003cac861479f87718ee0e9271eed",
      "value": 605266175
     }
    },
    "7b7c8ad527d442cca9354d8cd394bcdc": {
     "model_module": "@jupyter-widgets/controls",
     "model_name": "HTMLModel",
     "model_module_version": "1.5.0",
     "state": {
      "_dom_classes": [],
      "_model_module": "@jupyter-widgets/controls",
      "_model_module_version": "1.5.0",
      "_model_name": "HTMLModel",
      "_view_count": null,
      "_view_module": "@jupyter-widgets/controls",
      "_view_module_version": "1.5.0",
      "_view_name": "HTMLView",
      "description": "",
      "description_tooltip": null,
      "layout": "IPY_MODEL_04b9615031f5436687d547c9de254f72",
      "placeholder": "​",
      "style": "IPY_MODEL_dc060f0baa4a4edeb6d1855918c24e3b",
      "value": " 605M/605M [00:10&lt;00:00, 155MB/s]"
     }
    },
    "0b077816e3834f869a32d0192447fd81": {
     "model_module": "@jupyter-widgets/base",
     "model_name": "LayoutModel",
     "model_module_version": "1.2.0",
     "state": {
      "_model_module": "@jupyter-widgets/base",
      "_model_module_version": "1.2.0",
      "_model_name": "LayoutModel",
      "_view_count": null,
      "_view_module": "@jupyter-widgets/base",
      "_view_module_version": "1.2.0",
      "_view_name": "LayoutView",
      "align_content": null,
      "align_items": null,
      "align_self": null,
      "border": null,
      "bottom": null,
      "display": null,
      "flex": null,
      "flex_flow": null,
      "grid_area": null,
      "grid_auto_columns": null,
      "grid_auto_flow": null,
      "grid_auto_rows": null,
      "grid_column": null,
      "grid_gap": null,
      "grid_row": null,
      "grid_template_areas": null,
      "grid_template_columns": null,
      "grid_template_rows": null,
      "height": null,
      "justify_content": null,
      "justify_items": null,
      "left": null,
      "margin": null,
      "max_height": null,
      "max_width": null,
      "min_height": null,
      "min_width": null,
      "object_fit": null,
      "object_position": null,
      "order": null,
      "overflow": null,
      "overflow_x": null,
      "overflow_y": null,
      "padding": null,
      "right": null,
      "top": null,
      "visibility": null,
      "width": null
     }
    },
    "b415703d81634631899e5f838fbe28e0": {
     "model_module": "@jupyter-widgets/base",
     "model_name": "LayoutModel",
     "model_module_version": "1.2.0",
     "state": {
      "_model_module": "@jupyter-widgets/base",
      "_model_module_version": "1.2.0",
      "_model_name": "LayoutModel",
      "_view_count": null,
      "_view_module": "@jupyter-widgets/base",
      "_view_module_version": "1.2.0",
      "_view_name": "LayoutView",
      "align_content": null,
      "align_items": null,
      "align_self": null,
      "border": null,
      "bottom": null,
      "display": null,
      "flex": null,
      "flex_flow": null,
      "grid_area": null,
      "grid_auto_columns": null,
      "grid_auto_flow": null,
      "grid_auto_rows": null,
      "grid_column": null,
      "grid_gap": null,
      "grid_row": null,
      "grid_template_areas": null,
      "grid_template_columns": null,
      "grid_template_rows": null,
      "height": null,
      "justify_content": null,
      "justify_items": null,
      "left": null,
      "margin": null,
      "max_height": null,
      "max_width": null,
      "min_height": null,
      "min_width": null,
      "object_fit": null,
      "object_position": null,
      "order": null,
      "overflow": null,
      "overflow_x": null,
      "overflow_y": null,
      "padding": null,
      "right": null,
      "top": null,
      "visibility": null,
      "width": null
     }
    },
    "c1bf1a9586714e9c96c8c473ddd7db41": {
     "model_module": "@jupyter-widgets/controls",
     "model_name": "DescriptionStyleModel",
     "model_module_version": "1.5.0",
     "state": {
      "_model_module": "@jupyter-widgets/controls",
      "_model_module_version": "1.5.0",
      "_model_name": "DescriptionStyleModel",
      "_view_count": null,
      "_view_module": "@jupyter-widgets/base",
      "_view_module_version": "1.2.0",
      "_view_name": "StyleView",
      "description_width": ""
     }
    },
    "9aa55dc643024d6bb371db472585e61c": {
     "model_module": "@jupyter-widgets/base",
     "model_name": "LayoutModel",
     "model_module_version": "1.2.0",
     "state": {
      "_model_module": "@jupyter-widgets/base",
      "_model_module_version": "1.2.0",
      "_model_name": "LayoutModel",
      "_view_count": null,
      "_view_module": "@jupyter-widgets/base",
      "_view_module_version": "1.2.0",
      "_view_name": "LayoutView",
      "align_content": null,
      "align_items": null,
      "align_self": null,
      "border": null,
      "bottom": null,
      "display": null,
      "flex": null,
      "flex_flow": null,
      "grid_area": null,
      "grid_auto_columns": null,
      "grid_auto_flow": null,
      "grid_auto_rows": null,
      "grid_column": null,
      "grid_gap": null,
      "grid_row": null,
      "grid_template_areas": null,
      "grid_template_columns": null,
      "grid_template_rows": null,
      "height": null,
      "justify_content": null,
      "justify_items": null,
      "left": null,
      "margin": null,
      "max_height": null,
      "max_width": null,
      "min_height": null,
      "min_width": null,
      "object_fit": null,
      "object_position": null,
      "order": null,
      "overflow": null,
      "overflow_x": null,
      "overflow_y": null,
      "padding": null,
      "right": null,
      "top": null,
      "visibility": null,
      "width": null
     }
    },
    "ba2003cac861479f87718ee0e9271eed": {
     "model_module": "@jupyter-widgets/controls",
     "model_name": "ProgressStyleModel",
     "model_module_version": "1.5.0",
     "state": {
      "_model_module": "@jupyter-widgets/controls",
      "_model_module_version": "1.5.0",
      "_model_name": "ProgressStyleModel",
      "_view_count": null,
      "_view_module": "@jupyter-widgets/base",
      "_view_module_version": "1.2.0",
      "_view_name": "StyleView",
      "bar_color": null,
      "description_width": ""
     }
    },
    "04b9615031f5436687d547c9de254f72": {
     "model_module": "@jupyter-widgets/base",
     "model_name": "LayoutModel",
     "model_module_version": "1.2.0",
     "state": {
      "_model_module": "@jupyter-widgets/base",
      "_model_module_version": "1.2.0",
      "_model_name": "LayoutModel",
      "_view_count": null,
      "_view_module": "@jupyter-widgets/base",
      "_view_module_version": "1.2.0",
      "_view_name": "LayoutView",
      "align_content": null,
      "align_items": null,
      "align_self": null,
      "border": null,
      "bottom": null,
      "display": null,
      "flex": null,
      "flex_flow": null,
      "grid_area": null,
      "grid_auto_columns": null,
      "grid_auto_flow": null,
      "grid_auto_rows": null,
      "grid_column": null,
      "grid_gap": null,
      "grid_row": null,
      "grid_template_areas": null,
      "grid_template_columns": null,
      "grid_template_rows": null,
      "height": null,
      "justify_content": null,
      "justify_items": null,
      "left": null,
      "margin": null,
      "max_height": null,
      "max_width": null,
      "min_height": null,
      "min_width": null,
      "object_fit": null,
      "object_position": null,
      "order": null,
      "overflow": null,
      "overflow_x": null,
      "overflow_y": null,
      "padding": null,
      "right": null,
      "top": null,
      "visibility": null,
      "width": null
     }
    },
    "dc060f0baa4a4edeb6d1855918c24e3b": {
     "model_module": "@jupyter-widgets/controls",
     "model_name": "DescriptionStyleModel",
     "model_module_version": "1.5.0",
     "state": {
      "_model_module": "@jupyter-widgets/controls",
      "_model_module_version": "1.5.0",
      "_model_name": "DescriptionStyleModel",
      "_view_count": null,
      "_view_module": "@jupyter-widgets/base",
      "_view_module_version": "1.2.0",
      "_view_name": "StyleView",
      "description_width": ""
     }
    }
   }
  }
 },
 "nbformat": 4,
 "nbformat_minor": 5
}