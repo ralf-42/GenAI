{
 "cells": [
  {
   "cell_type": "markdown",
   "metadata": {},
   "source": [
    "![GenAI Banner](https://raw.githubusercontent.com/ralf-42/Image/main/genai-banner-2.jpg)"
   ]
  },
  {
   "cell_type": "markdown",
   "metadata": {},
   "source": [
    "<p><font size=\"5\" color='grey'> <b>\n",
    "Multi-Agent Collaboration\n",
    "</b></font> </br></p>\n",
    "\n",
    "---"
   ]
  },
  {
   "cell_type": "code",
   "execution_count": null,
   "metadata": {},
   "source": [
    "#@title 🔧 Umgebung einrichten{ display-mode: \"form\" }\n",
    "!uv pip install --system -q git+https://github.com/ralf-42/Python_Modules\n",
    "from genai_lib.utilities import check_environment, get_ipinfo, setup_api_keys, mprint, install_packages\n",
    "setup_api_keys(['OPENAI_API_KEY', 'HF_TOKEN', 'SERPAPI_API_KEY'], create_globals=False)\n",
    "print()\n",
    "check_environment()\n",
    "print()\n",
    "get_ipinfo()"
   ]
  },
  {
   "cell_type": "code",
   "execution_count": null,
   "metadata": {},
   "source": [
    "#@title 🛠️ Installationen { display-mode: \"form\" }\n",
    "install_packages([\n",
    "    ('google-search-results', 'serpapi'),\n",
    "    'wikipedia',\n",
    "    'langgraph',\n",
    "])"
   ]
  },
  {
   "cell_type": "markdown",
   "metadata": {},
   "source": [
    "# 1 | Von Single zu Multi-Agent\n",
    "---"
   ]
  },
  {
   "cell_type": "markdown",
   "metadata": {},
   "source": [
    "<p><font color='black' size='5'>\n",
    "Motivation\n",
    "</font></p>\n",
    "\n",
    "Im Modul **M10** haben Sie Single-Agent-Systeme kennengelernt:\n",
    "\n",
    "```\n",
    "User Query → Agent (mit Tools) → Result\n",
    "```\n",
    "\n",
    "**Das funktioniert gut für einfache Aufgaben, aber:**\n",
    "\n",
    "❌ **Problem 1: Überforderung**\n",
    "- Ein Agent muss ALLES können (Research, Writing, Coding, etc.)\n",
    "- Führt zu schlechten Ergebnissen bei komplexen Tasks\n",
    "\n",
    "❌ **Problem 2: Keine Arbeitsteilung**\n",
    "- Lange, komplexe Prompts für den einen Agenten\n",
    "- Schwer zu debuggen und zu optimieren\n",
    "\n",
    "❌ **Problem 3: Fehlende Spezialisierung**\n",
    "- Jeder Agent ist ein \"Generalist\"\n",
    "- Keine Nutzung von domänenspezifischen Tools\n",
    "\n",
    "**Lösung: Multi-Agent Collaboration!**\n",
    "\n",
    "✅ **Spezialisierung:** Jeder Agent hat eine klare Rolle\n",
    "✅ **Koordination:** Supervisor orchestriert die Agents\n",
    "✅ **Skalierbarkeit:** Neue Agents einfach hinzufügbar"
   ]
  },
  {
   "cell_type": "markdown",
   "metadata": {},
   "source": [
    "<p><font color='black' size='5'>\n",
    "Multi-Agent Patterns\n",
    "</font></p>\n",
    "\n",
    "| Pattern | Beschreibung | Use Case |\n",
    "|---------|--------------|----------|\n",
    "| **Supervisor** | Ein Agent koordiniert andere Agents | Komplexe Workflows |\n",
    "| **Hierarchical** | Mehrere Supervisor-Ebenen | Enterprise-Scale |\n",
    "| **Peer-to-Peer** | Agents kommunizieren direkt | Kollaborative Tasks |\n",
    "| **Sequential** | Agents arbeiten nacheinander | Pipeline-Processing |\n",
    "\n",
    "**In diesem Modul:**\n",
    "Wir implementieren das **Supervisor Pattern** - das häufigste und praktischste Pattern."
   ]
  },
  {
   "cell_type": "markdown",
   "metadata": {},
   "source": [
    "# 2 | Setup & Vorbereitung\n",
    "---"
   ]
  },
  {
   "cell_type": "code",
   "execution_count": null,
   "metadata": {},
   "source": [
    "# Imports\n",
    "from typing import TypedDict, Literal, Annotated\n",
    "from langchain_openai import ChatOpenAI\n",
    "from langchain_core.messages import HumanMessage, SystemMessage\n",
    "from langchain_core.tools import Tool\n",
    "from langchain_community.utilities import WikipediaAPIWrapper, SerpAPIWrapper\n",
    "from pydantic import BaseModel, Field\n",
    "\n",
    "# LangGraph\n",
    "from langgraph.graph import StateGraph, START, END\n",
    "from langgraph.prebuilt import create_react_agent\n",
    "from langgraph.types import Command\n",
    "\n",
    "import operator"
   ]
  },
  {
   "cell_type": "code",
   "execution_count": null,
   "metadata": {},
   "source": [
    "# LLM initialisieren\n",
    "llm = ChatOpenAI(model=\"gpt-4o-mini\", temperature=0)\n",
    "\n",
    "print(\"✅ LLM initialisiert\")"
   ]
  },
  {
   "cell_type": "markdown",
   "metadata": {},
   "source": [
    "# 3 | Spezialisierte Agents erstellen\n",
    "---"
   ]
  },
  {
   "cell_type": "markdown",
   "metadata": {},
   "source": [
    "<p><font color='black' size='5'>\n",
    "Agent-Rollen definieren\n",
    "</font></p>\n",
    "\n",
    "Wir erstellen drei spezialisierte Agents:\n",
    "\n",
    "1. **Researcher Agent:** Sucht Informationen (Web, Wikipedia)\n",
    "2. **Writer Agent:** Schreibt und formatiert Texte\n",
    "3. **Code Agent:** Schreibt und analysiert Code"
   ]
  },
  {
   "cell_type": "markdown",
   "metadata": {},
   "source": [
    "<p><font color='black' size='5'>\n",
    "1. Researcher Agent\n",
    "</font></p>"
   ]
  },
  {
   "cell_type": "code",
   "execution_count": null,
   "metadata": {},
   "source": [
    "# Research Tools\n",
    "wiki = WikipediaAPIWrapper()\n",
    "search = SerpAPIWrapper()\n",
    "\n",
    "research_tools = [\n",
    "    Tool(\n",
    "        name=\"wikipedia\",\n",
    "        func=wiki.run,\n",
    "        description=\"Sucht Informationen in Wikipedia. Nutze dies für Fakten, Geschichte, Personen.\"\n",
    "    ),\n",
    "    Tool(\n",
    "        name=\"web_search\",\n",
    "        func=search.run,\n",
    "        description=\"Sucht aktuelle Informationen im Internet. Nutze dies für News, Produkte, aktuelle Events.\"\n",
    "    )\n",
    "]\n",
    "\n",
    "# System Prompt für Researcher\n",
    "researcher_prompt = \"\"\"Du bist ein Research-Agent.\n",
    "Deine Aufgabe: Suche relevante Informationen zu einem Thema.\n",
    "Nutze Wikipedia für allgemeine Fakten und Web-Suche für aktuelle Informationen.\n",
    "Fasse die wichtigsten Erkenntnisse zusammen.\"\"\"\n",
    "\n",
    "# Researcher Agent erstellen\n",
    "researcher_agent = create_react_agent(\n",
    "    llm,\n",
    "    research_tools,\n",
    "    prompt=researcher_prompt\n",
    ")\n",
    "\n",
    "print(\"✅ Researcher Agent erstellt\")"
   ]
  },
  {
   "cell_type": "markdown",
   "metadata": {},
   "source": [
    "<p><font color='black' size='5'>\n",
    "2. Writer Agent\n",
    "</font></p>"
   ]
  },
  {
   "cell_type": "code",
   "execution_count": null,
   "metadata": {},
   "source": [
    "# Writer Tools (für dieses Beispiel: einfache Text-Verarbeitung)\n",
    "def count_words(text: str) -> str:\n",
    "    \"\"\"Zählt Wörter in einem Text\"\"\"\n",
    "    return f\"Der Text hat {len(text.split())} Wörter.\"\n",
    "\n",
    "def create_outline(topic: str) -> str:\n",
    "    \"\"\"Erstellt eine Gliederung für ein Thema\"\"\"\n",
    "    return f\"\"\"Gliederung für '{topic}':\n",
    "1. Einleitung\n",
    "2. Hauptteil\n",
    "   2.1 Konzepte\n",
    "   2.2 Anwendungen\n",
    "3. Fazit\"\"\"\n",
    "\n",
    "writer_tools = [\n",
    "    Tool(\n",
    "        name=\"count_words\",\n",
    "        func=count_words,\n",
    "        description=\"Zählt die Anzahl der Wörter in einem Text.\"\n",
    "    ),\n",
    "    Tool(\n",
    "        name=\"create_outline\",\n",
    "        func=create_outline,\n",
    "        description=\"Erstellt eine strukturierte Gliederung für ein Thema.\"\n",
    "    )\n",
    "]\n",
    "\n",
    "# System Prompt für Writer\n",
    "writer_prompt = \"\"\"Du bist ein Writer-Agent.\n",
    "Deine Aufgabe: Erstelle gut strukturierte, lesbare Texte.\n",
    "Achte auf klare Sprache, gute Gliederung und ansprechende Formulierungen.\n",
    "Nutze Tools um Texte zu analysieren und zu strukturieren.\"\"\"\n",
    "\n",
    "# Writer Agent\n",
    "writer_agent = create_react_agent(\n",
    "    llm,\n",
    "    writer_tools,\n",
    "    prompt=writer_prompt\n",
    ")\n",
    "\n",
    "print(\"✅ Writer Agent erstellt\")"
   ]
  },
  {
   "cell_type": "markdown",
   "metadata": {},
   "source": [
    "<p><font color='black' size='5'>\n",
    "3. Code Agent\n",
    "</font></p>"
   ]
  },
  {
   "cell_type": "code",
   "execution_count": null,
   "metadata": {},
   "source": [
    "# Code Tools\n",
    "def python_repl(code: str) -> str:\n",
    "    \"\"\"Führt Python-Code aus (in sicherer Sandbox)\"\"\"\n",
    "    try:\n",
    "        # Sicherheitscheck\n",
    "        if any(forbidden in code for forbidden in ['import os', 'import sys', 'exec', '__']):\n",
    "            return \"❌ Unsicherer Code erkannt\"\n",
    "        \n",
    "        # Führe Code aus\n",
    "        result = eval(code)\n",
    "        return f\"✅ Ergebnis: {result}\"\n",
    "    except Exception as e:\n",
    "        return f\"❌ Fehler: {str(e)}\"\n",
    "\n",
    "def code_review(code: str) -> str:\n",
    "    \"\"\"Simuliert einen einfachen Code-Review\"\"\"\n",
    "    issues = []\n",
    "    if 'print' in code:\n",
    "        issues.append(\"⚠️ Verwende logging statt print für Production-Code\")\n",
    "    if len(code.split('\\n')) > 50:\n",
    "        issues.append(\"⚠️ Funktion zu lang (>50 Zeilen) - erwäge Refactoring\")\n",
    "    \n",
    "    if not issues:\n",
    "        return \"✅ Code sieht gut aus!\"\n",
    "    return \"\\n\".join(issues)\n",
    "\n",
    "code_tools = [\n",
    "    Tool(\n",
    "        name=\"python_repl\",\n",
    "        func=python_repl,\n",
    "        description=\"Führt Python-Code aus und gibt das Ergebnis zurück.\"\n",
    "    ),\n",
    "    Tool(\n",
    "        name=\"code_review\",\n",
    "        func=code_review,\n",
    "        description=\"Überprüft Code auf häufige Probleme und Best Practices.\"\n",
    "    )\n",
    "]\n",
    "\n",
    "# System Prompt für Code Agent\n",
    "code_prompt = \"\"\"Du bist ein Code-Agent.\n",
    "Deine Aufgabe: Schreibe sauberen, funktionalen Python-Code.\n",
    "Teste Code mit python_repl und überprüfe ihn mit code_review.\n",
    "Erkläre deinen Code mit Kommentaren.\"\"\"\n",
    "\n",
    "# Code Agent\n",
    "code_agent = create_react_agent(\n",
    "    llm,\n",
    "    code_tools,\n",
    "    prompt=code_prompt\n",
    ")\n",
    "\n",
    "print(\"✅ Code Agent erstellt\")"
   ]
  },
  {
   "cell_type": "markdown",
   "metadata": {},
   "source": [
    "# 4 | Supervisor Agent implementieren\n",
    "---"
   ]
  },
  {
   "cell_type": "markdown",
   "metadata": {},
   "source": [
    "<p><font color='black' size='5'>\n",
    "Konzept\n",
    "</font></p>\n",
    "\n",
    "Der **Supervisor Agent** koordiniert die Worker-Agents:\n",
    "\n",
    "```\n",
    "User Task → Supervisor\n",
    "              ↓\n",
    "   ┌──────────┼──────────┐\n",
    "   ↓          ↓          ↓\n",
    "Researcher  Writer    Code\n",
    "   ↓          ↓          ↓\n",
    "   └──────────┼──────────┘\n",
    "              ↓\n",
    "         Supervisor (entscheidet: fertig oder weiter?)\n",
    "```\n",
    "\n",
    "**Supervisor-Aufgaben:**\n",
    "1. Analysiere User-Task\n",
    "2. Wähle passenden Worker-Agent\n",
    "3. Bewerte Ergebnis\n",
    "4. Entscheide: Fertig oder nächster Agent?"
   ]
  },
  {
   "cell_type": "markdown",
   "metadata": {},
   "source": [
    "<p><font color='black' size='5'>\n",
    "State Definition\n",
    "</font></p>"
   ]
  },
  {
   "cell_type": "code",
   "execution_count": null,
   "metadata": {},
   "source": [
    "class MultiAgentState(TypedDict):\n",
    "    \"\"\"State für Multi-Agent System\"\"\"\n",
    "    messages: Annotated[list, operator.add]  # Message History\n",
    "    next_agent: str                          # Welcher Agent als nächstes?\n",
    "    task_complete: bool                      # Task abgeschlossen?"
   ]
  },
  {
   "cell_type": "markdown",
   "metadata": {},
   "source": [
    "<p><font color='black' size='5'>\n",
    "Supervisor mit structured output\n",
    "</font></p>"
   ]
  },
  {
   "cell_type": "code",
   "execution_count": null,
   "metadata": {},
   "source": [
    "# Pydantic-Modell für Supervisor-Entscheidung\n",
    "class SupervisorDecision(BaseModel):\n",
    "    \"\"\"Supervisor-Entscheidung\"\"\"\n",
    "    next_agent: Literal[\"researcher\", \"writer\", \"code\", \"FINISH\"] = Field(\n",
    "        description=\"Welcher Agent soll als nächstes arbeiten? FINISH wenn fertig.\"\n",
    "    )\n",
    "    reasoning: str = Field(\n",
    "        description=\"Begründung für die Entscheidung\"\n",
    "    )\n",
    "\n",
    "# Supervisor LLM mit structured output\n",
    "supervisor_llm = llm.with_structured_output(SupervisorDecision)\n",
    "\n",
    "# Supervisor Prompt\n",
    "supervisor_prompt = \"\"\"Du bist ein Supervisor-Agent, der ein Team von Worker-Agents koordiniert.\n",
    "\n",
    "Verfügbare Agents:\n",
    "- researcher: Sucht Informationen (Wikipedia, Web-Suche)\n",
    "- writer: Schreibt und strukturiert Texte\n",
    "- code: Schreibt und testet Python-Code\n",
    "\n",
    "Deine Aufgabe:\n",
    "1. Analysiere die User-Anfrage und bisherige Arbeit\n",
    "2. Wähle den passenden nächsten Agent\n",
    "3. Wenn die Aufgabe vollständig erledigt ist, wähle FINISH\n",
    "\n",
    "Bisherige Konversation:\n",
    "{conversation}\n",
    "\n",
    "Welcher Agent soll als nächstes arbeiten?\"\"\"\n",
    "\n",
    "print(\"✅ Supervisor konfiguriert\")"
   ]
  },
  {
   "cell_type": "markdown",
   "metadata": {},
   "source": [
    "# 5 | Multi-Agent Graph aufbauen\n",
    "---"
   ]
  },
  {
   "cell_type": "markdown",
   "metadata": {},
   "source": [
    "<p><font color='black' size='5'>\n",
    "Agent Nodes erstellen\n",
    "</font></p>"
   ]
  },
  {
   "cell_type": "code",
   "execution_count": null,
   "metadata": {},
   "source": [
    "def create_agent_node(agent, name: str):\n",
    "    \"\"\"Wrapper für Agent-Nodes\"\"\"\n",
    "    def agent_node(state: MultiAgentState):\n",
    "        # Letzten Human-Message finden\n",
    "        last_message = state[\"messages\"][-1]\n",
    "        \n",
    "        print(f\"\\n🤖 {name.upper()} arbeitet...\")\n",
    "        \n",
    "        # Agent ausführen\n",
    "        result = agent.invoke({\"messages\": [last_message]})\n",
    "        \n",
    "        # Letzte AI-Message extrahieren\n",
    "        last_ai_message = result[\"messages\"][-1]\n",
    "        \n",
    "        # Als SystemMessage markieren mit Agent-Name\n",
    "        last_ai_message.name = name\n",
    "        \n",
    "        return {\"messages\": [last_ai_message]}\n",
    "    \n",
    "    return agent_node\n",
    "\n",
    "# Agent Nodes erstellen\n",
    "researcher_node = create_agent_node(researcher_agent, \"researcher\")\n",
    "writer_node = create_agent_node(writer_agent, \"writer\")\n",
    "code_node = create_agent_node(code_agent, \"code\")\n",
    "\n",
    "print(\"✅ Agent Nodes erstellt\")"
   ]
  },
  {
   "cell_type": "markdown",
   "metadata": {},
   "source": [
    "<p><font color='black' size='5'>\n",
    "Supervisor Node\n",
    "</font></p>"
   ]
  },
  {
   "cell_type": "code",
   "execution_count": null,
   "metadata": {},
   "source": [
    "def supervisor_node(state: MultiAgentState) -> MultiAgentState:\n",
    "    \"\"\"Supervisor entscheidet über nächsten Schritt\"\"\"\n",
    "    messages = state[\"messages\"]\n",
    "    \n",
    "    # Konversation formatieren\n",
    "    conversation = \"\\n\".join([\n",
    "        f\"{msg.name if hasattr(msg, 'name') else 'User'}: {msg.content}\"\n",
    "        for msg in messages\n",
    "    ])\n",
    "    \n",
    "    # Supervisor fragen\n",
    "    from langchain_core.messages import HumanMessage\n",
    "    decision = supervisor_llm.invoke([\n",
    "        HumanMessage(content=supervisor_prompt.format(conversation=conversation))\n",
    "    ])\n",
    "    \n",
    "    print(f\"\\n👔 SUPERVISOR: {decision.next_agent}\")\n",
    "    print(f\"   Begründung: {decision.reasoning}\")\n",
    "    \n",
    "    return {\n",
    "        \"next_agent\": decision.next_agent,\n",
    "        \"task_complete\": decision.next_agent == \"FINISH\"\n",
    "    }\n",
    "\n",
    "print(\"✅ Supervisor Node erstellt\")"
   ]
  },
  {
   "cell_type": "markdown",
   "metadata": {},
   "source": [
    "<p><font color='black' size='5'>\n",
    "Graph mit Conditional Routing\n",
    "</font></p>"
   ]
  },
  {
   "cell_type": "code",
   "execution_count": null,
   "metadata": {},
   "source": [
    "# Routing Funktion\n",
    "def route_supervisor(state: MultiAgentState) -> str:\n",
    "    \"\"\"Routet basierend auf Supervisor-Entscheidung\"\"\"\n",
    "    next_agent = state[\"next_agent\"]\n",
    "    \n",
    "    if next_agent == \"FINISH\":\n",
    "        return END\n",
    "    return next_agent\n",
    "\n",
    "# Multi-Agent Workflow\n",
    "multi_agent_workflow = StateGraph(MultiAgentState)\n",
    "\n",
    "# Nodes hinzufügen\n",
    "multi_agent_workflow.add_node(\"supervisor\", supervisor_node)\n",
    "multi_agent_workflow.add_node(\"researcher\", researcher_node)\n",
    "multi_agent_workflow.add_node(\"writer\", writer_node)\n",
    "multi_agent_workflow.add_node(\"code\", code_node)\n",
    "\n",
    "# Edges\n",
    "multi_agent_workflow.add_edge(START, \"supervisor\")\n",
    "\n",
    "# Conditional Routing vom Supervisor\n",
    "multi_agent_workflow.add_conditional_edges(\n",
    "    \"supervisor\",\n",
    "    route_supervisor,\n",
    "    {\n",
    "        \"researcher\": \"researcher\",\n",
    "        \"writer\": \"writer\",\n",
    "        \"code\": \"code\",\n",
    "        END: END\n",
    "    }\n",
    ")\n",
    "\n",
    "# Nach jedem Worker zurück zum Supervisor\n",
    "multi_agent_workflow.add_edge(\"researcher\", \"supervisor\")\n",
    "multi_agent_workflow.add_edge(\"writer\", \"supervisor\")\n",
    "multi_agent_workflow.add_edge(\"code\", \"supervisor\")\n",
    "\n",
    "# Kompilieren\n",
    "multi_agent_app = multi_agent_workflow.compile()\n",
    "\n",
    "print(\"✅ Multi-Agent Graph kompiliert\")"
   ]
  },
  {
   "cell_type": "markdown",
   "metadata": {},
   "source": [
    "<p><font color='black' size='5'>\n",
    "Graph Visualisierung\n",
    "</font></p>"
   ]
  },
  {
   "cell_type": "code",
   "execution_count": null,
   "metadata": {},
   "source": [
    "from IPython.display import Image, display\n",
    "\n",
    "try:\n",
    "    display(Image(multi_agent_app.get_graph().draw_mermaid_png()))\n",
    "except Exception as e:\n",
    "    print(f\"⚠️ Graph-Visualisierung nicht verfügbar: {e}\")"
   ]
  },
  {
   "cell_type": "markdown",
   "metadata": {},
   "source": [
    "# 6 | Multi-Agent System testen\n",
    "---"
   ]
  },
  {
   "cell_type": "markdown",
   "metadata": {},
   "source": [
    "<p><font color='black' size='5'>\n",
    "Beispiel 1: Research + Writing Task\n",
    "</font></p>"
   ]
  },
  {
   "cell_type": "code",
   "execution_count": null,
   "metadata": {},
   "source": [
    "task1 = \"Recherchiere Informationen über LangGraph und schreibe dann eine kurze Zusammenfassung (max. 100 Wörter).\"\n",
    "\n",
    "result = multi_agent_app.invoke({\n",
    "    \"messages\": [HumanMessage(content=task1)],\n",
    "    \"next_agent\": \"\",\n",
    "    \"task_complete\": False\n",
    "})\n",
    "\n",
    "# Finale Antwort anzeigen\n",
    "mprint(\"## 🎯 Multi-Agent Ergebnis\")\n",
    "mprint(\"---\")\n",
    "mprint(f\"**Task:** {task1}\")\n",
    "mprint(\"\\n**Arbeitsverlauf:**\")\n",
    "for msg in result[\"messages\"]:\n",
    "    agent_name = getattr(msg, 'name', 'User')\n",
    "    mprint(f\"- **{agent_name}:** {msg.content[:100]}...\")"
   ]
  },
  {
   "cell_type": "markdown",
   "metadata": {},
   "source": [
    "<p><font color='black' size='5'>\n",
    "Beispiel 2: Research + Code Task\n",
    "</font></p>"
   ]
  },
  {
   "cell_type": "code",
   "execution_count": null,
   "metadata": {},
   "source": [
    "task2 = \"Recherchiere die Fibonacci-Folge und schreibe dann Python-Code für eine Fibonacci-Funktion. Teste den Code.\"\n",
    "\n",
    "result = multi_agent_app.invoke({\n",
    "    \"messages\": [HumanMessage(content=task2)],\n",
    "    \"next_agent\": \"\",\n",
    "    \"task_complete\": False\n",
    "})\n",
    "\n",
    "mprint(\"## 🎯 Multi-Agent Ergebnis\")\n",
    "mprint(\"---\")\n",
    "mprint(f\"**Task:** {task2}\")\n",
    "mprint(\"\\n**Finale Ausgabe:**\")\n",
    "mprint(result[\"messages\"][-1].content)"
   ]
  },
  {
   "cell_type": "markdown",
   "metadata": {},
   "source": [
    "<p><font color='black' size='5'>\n",
    "Beispiel 3: Komplexer Multi-Step Task\n",
    "</font></p>"
   ]
  },
  {
   "cell_type": "code",
   "execution_count": null,
   "metadata": {},
   "source": [
    "task3 = \"\"\"Aufgabe:\n",
    "1. Recherchiere aktuelle Informationen zu OpenAI GPT-4\n",
    "2. Schreibe einen strukturierten Blog-Artikel (mit Gliederung)\n",
    "3. Erstelle Python-Code für ein einfaches GPT-4 API Beispiel\n",
    "\"\"\"\n",
    "\n",
    "result = multi_agent_app.invoke({\n",
    "    \"messages\": [HumanMessage(content=task3)],\n",
    "    \"next_agent\": \"\",\n",
    "    \"task_complete\": False\n",
    "})\n",
    "\n",
    "mprint(\"## 🎯 Komplexer Multi-Agent Task\")\n",
    "mprint(\"---\")\n",
    "for i, msg in enumerate(result[\"messages\"], 1):\n",
    "    agent = getattr(msg, 'name', 'User')\n",
    "    mprint(f\"### Schritt {i}: {agent}\")\n",
    "    mprint(msg.content[:200] + \"...\\n\")"
   ]
  },
  {
   "cell_type": "markdown",
   "metadata": {},
   "source": [
    "# 7 | Vergleich: Single vs. Multi-Agent\n",
    "---"
   ]
  },
  {
   "cell_type": "markdown",
   "metadata": {},
   "source": [
    "| Aspekt | Single-Agent (M10) | Multi-Agent (M10b) |\n",
    "|--------|-------------------|--------------------|\n",
    "| **Spezialisierung** | ❌ Generalist | ✅ Spezialisierte Agents |\n",
    "| **Komplexität** | ⚠️ Für komplexe Tasks überfordert | ✅ Teile-und-herrsche |\n",
    "| **Debuggen** | ⚠️ Schwierig bei langen Prompts | ✅ Klare Verantwortlichkeiten |\n",
    "| **Erweiterbarkeit** | ⚠️ Neue Features = längere Prompts | ✅ Neue Agents hinzufügen |\n",
    "| **Latenz** | ✅ Schneller (ein LLM-Call) | ⚠️ Langsamer (mehrere Calls) |\n",
    "| **Kosten** | ✅ Günstiger | ⚠️ Teurer |\n",
    "| **Use Case** | Einfache, fokussierte Tasks | Komplexe, mehrstufige Workflows |"
   ]
  },
  {
   "cell_type": "markdown",
   "metadata": {},
   "source": [
    "# 8 | Best Practices\n",
    "---"
   ]
  },
  {
   "cell_type": "markdown",
   "metadata": {},
   "source": [
    "<p><font color='black' size='5'>\n",
    "Wann Multi-Agent verwenden?\n",
    "</font></p>\n",
    "\n",
    "✅ **VERWENDEN bei:**\n",
    "- Komplexen Workflows mit mehreren Schritten\n",
    "- Tasks die verschiedene Expertisen benötigen\n",
    "- Wenn Spezialisierung wichtig ist (z.B. Legal + Tech)\n",
    "- Enterprise-Scale Anwendungen\n",
    "\n",
    "❌ **NICHT verwenden bei:**\n",
    "- Einfachen, fokussierten Tasks\n",
    "- Latenz-kritischen Anwendungen\n",
    "- Budget-Beschränkungen\n",
    "- Prototyping-Phase"
   ]
  },
  {
   "cell_type": "markdown",
   "metadata": {},
   "source": [
    "<p><font color='black' size='5'>\n",
    "Design-Tipps\n",
    "</font></p>\n",
    "\n",
    "**Agent-Anzahl:**\n",
    "- ✅ Start: 2-4 Agents (überschaubar)\n",
    "- ⚠️ Mehr als 7 Agents → Hierarchical Pattern\n",
    "\n",
    "**Kommunikation:**\n",
    "- ✅ Klare Agent-Namen in Messages\n",
    "- ✅ Supervisor bekommt vollständigen Kontext\n",
    "- ✅ Agents geben strukturierte Outputs\n",
    "\n",
    "**Fehlerbehandlung:**\n",
    "- ✅ Max. Iterationen begrenzen (z.B. 10)\n",
    "- ✅ Timeout für einzelne Agents\n",
    "- ✅ Fallback wenn Agent fehlschlägt\n",
    "\n",
    "**Performance:**\n",
    "- ✅ Caching von häufigen Research-Ergebnissen\n",
    "- ✅ Parallele Agent-Ausführung wo möglich\n",
    "- ✅ Kleinere Modelle für einfache Agents (z.B. gpt-4o-mini)"
   ]
  },
  {
   "cell_type": "markdown",
   "metadata": {},
   "source": [
    "# A | Aufgaben\n",
    "---"
   ]
  },
  {
   "cell_type": "markdown",
   "metadata": {},
   "source": [
    "<p><font color='black' size='5'>\n",
    "Aufgabe 1: Critique Agent hinzufügen\n",
    "</font></p>\n",
    "\n",
    "Erweitere das System um einen **Critique Agent**:\n",
    "\n",
    "1. Erstelle einen Agent der Output von anderen Agents bewertet\n",
    "2. Gibt Feedback als structured output: `{\"score\": int, \"feedback\": str, \"approved\": bool}`\n",
    "3. Wenn `approved=False`: Zurück zum ursprünglichen Agent für Verbesserung\n",
    "4. Maximal 2 Kritik-Schleifen pro Task"
   ]
  },
  {
   "cell_type": "markdown",
   "metadata": {},
   "source": [
    "<p><font color='black' size='5'>\n",
    "Aufgabe 2: Parallele Agent-Ausführung\n",
    "</font></p>\n",
    "\n",
    "Implementiere **parallele Research**:\n",
    "\n",
    "1. Erstelle zwei Research-Agents:\n",
    "   - `fast_researcher`: Nutzt nur Wikipedia (schnell)\n",
    "   - `deep_researcher`: Nutzt Web-Search (gründlich)\n",
    "2. Supervisor startet beide parallel\n",
    "3. Aggregation-Node kombiniert Ergebnisse\n",
    "\n",
    "**Hinweis:** Nutze `asyncio` für parallele Ausführung"
   ]
  },
  {
   "cell_type": "markdown",
   "metadata": {},
   "source": [
    "<p><font color='black' size='5'>\n",
    "Aufgabe 3: Hierarchical Multi-Agent System\n",
    "</font></p>\n",
    "\n",
    "Baue ein **2-Level Hierarchisches System**:\n",
    "\n",
    "```\n",
    "Chief Supervisor\n",
    "     ├─ Research Team (Supervisor + 2 Researchers)\n",
    "     └─ Content Team (Supervisor + Writer + Editor)\n",
    "```\n",
    "\n",
    "1. Chief Supervisor entscheidet zwischen Teams\n",
    "2. Team-Supervisors koordinieren ihre Worker\n",
    "3. Teste mit komplexem Task: \"Erstelle einen umfassenden Report über Quantum Computing mit Code-Beispielen\"\n",
    "\n",
    "**Bonus:** Visualisiere den gesamten Workflow"
   ]
  }
 ],
 "metadata": {
  "kernelspec": {
   "display_name": "Python 3",
   "language": "python",
   "name": "python3"
  },
  "language_info": {
   "name": "python",
   "version": "3.10.0"
  }
 },
 "nbformat": 4,
 "nbformat_minor": 4
}
