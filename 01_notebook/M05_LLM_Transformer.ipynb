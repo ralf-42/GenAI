{
 "cells": [
  {
   "cell_type": "markdown",
   "metadata": {
    "id": "WFblwtmloVcG"
   },
   "source": [
    "![My Image](https://raw.githubusercontent.com/ralf-42/Image/main/genai-banner-2.jpg)"
   ]
  },
  {
   "cell_type": "markdown",
   "metadata": {
    "id": "6jJZ7wbdArVc"
   },
   "source": [
    "<p><font size=\"5\" color='grey'> <b>\n",
    "Large Language Models und Transformer\n",
    "</b></font> </br></p>\n",
    "\n",
    "\n",
    "---"
   ]
  },
  {
   "cell_type": "code",
   "execution_count": null,
   "metadata": {
    "id": "QPamC0stfkk3"
   },
   "outputs": [],
   "source": [
    "#@title 🔧 Umgebung einrichten{ display-mode: \"form\" }\n!uv pip install --system -q git+https://github.com/ralf-42/GenAI.git#subdirectory=04_modul\nfrom genai_lib.utilities import check_environment, get_ipinfo, setup_api_keys, mprint, install_packages\nsetup_api_keys(['OPENAI_API_KEY', 'HF_TOKEN'], create_globals=False)\nprint()\ncheck_environment()\nprint()\nget_ipinfo()\n# Bei Bedarf: Trennen zwischen Installationsname () und Importname (für Python) beide Angaben in Klammern\n# install_packages([('markitdown[all]', 'markitdown'), 'langchain_chroma', ]"
   ]
  },
  {
   "cell_type": "code",
   "execution_count": null,
   "metadata": {
    "id": "JIszuH3spe3M"
   },
   "outputs": [],
   "source": [
    "#@title 🛠️ Installationen { display-mode: \"form\" }\n",
    "install_packages(['pypdf','pdfkit', 'markdown2', 'weasyprint'])"
   ]
  },
  {
   "cell_type": "markdown",
   "metadata": {
    "id": "dXyUNJDNOh5U"
   },
   "source": [
    "# 1 | Large Language Models\n",
    "---"
   ]
  },
  {
   "cell_type": "markdown",
   "metadata": {
    "id": "vwFflTpGObBC"
   },
   "source": [
    "LLMs funktionieren im Wesentlichen durch die *Vorhersage des wahrscheinlichsten nächsten Tokens* in einem gegebenen Text, basierend auf einer riesigen Menge an Trainingsdaten aus dem Internet. Dieser Prozess wird durch Milliarden bis Billionen von Parametern gesteuert, die während des Trainings optimiert werden. Ein entscheidender Aspekt bei vielen Modellen ist die Architektur von **Transformern**, die es LLMs erlaubt, den gesamten Text parallel zu verarbeiten, anstatt Token für Token, und dabei den Kontext durch einen Mechanismus namens **Self-Attention** zu berücksichtigen. Das Ergebnis ist ein System, das erstaunlich flüssige und fast immer kohärente Texte generieren kann, obwohl das genaue *Warum* hinter den Vorhersagen aufgrund der Komplexität und Größe des Modells schwer zu verstehen ist."
   ]
  },
  {
   "cell_type": "markdown",
   "metadata": {
    "id": "G0J30AzXgTfh"
   },
   "source": [
    "**Was bedeutet \"Transformer**\n",
    "\n",
    "**Einfach erklärt:** Transformer sind wie das \"Betriebssystem\" der meisten modernen KI-Sprachmodelle. Sie wurden 2017 entwickelt und haben die Art, wie Computer Text verstehen und erzeugen, revolutioniert.\n",
    "\n",
    "**Warum ist das wichtig?** Transformer-basierte Modelle haben drei große Vorteile:\n",
    "- **Parallelisierung:** Sie können viele Wörter gleichzeitig verarbeiten (nicht nacheinander)\n",
    "- **Attention-Mechanismus:** Sie erkennen wichtige Teile des Textes und können sich daruf \"fokussieren\"\n",
    "- **Skalierbarkeit:** Sie funktionieren sowohl bei kleinen als auch bei sehr großen Datenmengen"
   ]
  },
  {
   "cell_type": "markdown",
   "metadata": {
    "id": "IQpcGS-KrRvB"
   },
   "source": [
    "<p><font color='black' size=\"5\">\n",
    "Merkmale von LLMs\n",
    "</font></p>"
   ]
  },
  {
   "cell_type": "markdown",
   "metadata": {
    "id": "HKQmU_0vrYBR"
   },
   "source": [
    "\n",
    "<p><font color='blue' size=\"4\">\n",
    "Offene vs. geschlossene Modelle\n",
    "</font></p>\n",
    "\n",
    "**Offene Modelle** (Open Source, offenes System),  bedeuten, dass die trainierten Parameter eines Modells für die Öffentlichkeit zugänglich sind. Dadurch haben Wissenschaftler und Entwickler die Möglichkeit, die Mechanismen des Modells nachzuvollziehen, Forschungsarbeiten zu reproduzieren sowie Anpassungen oder Verbesserungen vorzunehmen.   \n",
    "**Geschlossene Modelle** (Closed Source, proprietäres System) hingegen sind Modelle, bei denen der Zugriff auf die Parameter eingeschränkt ist. Unternehmen setzen diese oft in kommerziellen Produkten oder Dienstleistungen ein, da die Veröffentlichung der Gewichte geschäftliche Interessen oder den Schutz der Nutzerdaten beeinträchtigen könnt\n"
   ]
  },
  {
   "cell_type": "markdown",
   "metadata": {
    "id": "CWh1v8R-rswx"
   },
   "source": [
    "\n",
    "<p><font color='blue' size=\"4\">\n",
    "Parametergewichte\n",
    "</font></p>\n",
    "\n",
    "Die Anzahl der Parametergewichte eines Modells gibt Aufschluss über dessen Kapazität und Komplexität. Sie wird typischerweise in Millionen (M), Milliarden (B) oder Billionen (T) angegeben. Eine höhere Parameteranzahl erhöht grundsätzlich die Fähigkeit des Modells, komplexe Zusammenhänge und feine Unterschiede in den Daten zu erkennen. Allerdings ist dies kein eindeutiger Indikator für die Leistungsfähigkeit in jeder Anwendung, sondern eher ein Hinweis auf das allgemeine Potenzial des Modells.  \n",
    "\n",
    "\n",
    "**Vorteile:**  \n",
    "* **Größere Lernfähigkeit:** Modelle mit mehr Parametern können feinere und differenziertere Muster in Daten erfassen, was ihre Präzision und Wirksamkeit bei verschiedenen Aufgaben steigern kann.  \n",
    "* **Bessere Anpassungsfähigkeit:** Umfangreichere Modelle haben oft eine stärkere Fähigkeit zur Generalisierung und können unter geeigneten Trainingsbedingungen auch auf neue, unbekannte Daten besser reagieren.  \n",
    "\n",
    "**Nachteile:**  \n",
    "* **Hoher Rechenaufwand:** Eine größere Anzahl an Parametern erfordert mehr Rechenleistung für Training und Inferenz, was leistungsfähige Hardware und längere Verarbeitungszeiten nötig macht.  \n",
    "* **Gefahr der Überanpassung:** Ohne angemessene Regularisierungstechniken besteht die Gefahr, dass das Modell sich zu stark an die Trainingsdaten anpasst und bei neuen, variierenden Datensätzen schlechter abschneidet.  \n",
    "* **Umweltbelastung:** Das Training umfangreicher Modelle verbraucht erheblich mehr Energie, was zu einem höheren CO₂-Ausstoß führt.\n"
   ]
  },
  {
   "cell_type": "markdown",
   "metadata": {
    "id": "vIGxe0GCrvHQ"
   },
   "source": [
    "\n",
    "<p><font color='blue' size=\"4\">\n",
    "Kontextfenstergröße\n",
    "</font></p>\n",
    "\n",
    "Die Kontextfenstergröße eines Modells gibt an, wie viele Token (Wörter oder Wortbestandteile) es bei der Generierung oder Vorhersage von Text gleichzeitig verarbeiten kann. Diese Eigenschaft ist aus mehreren Gründen essenziell:\n",
    "\n",
    "+ **Erweiterter Kontext**: Ein größeres Kontextfenster erlaubt es dem Modell, mehr Informationen zu berücksichtigen, was zu kohärenteren und inhaltlich präziseren Ergebnissen führt. Dies ist besonders vorteilhaft für Aufgaben, die lange Texte oder komplexe Zusammenhänge erfordern.\n",
    "+ **Erfassung von Abhängigkeiten**: Ein Modell mit größerem Kontextfenster kann weiter zurückliegende Zusammenhänge im Text besser erfassen, was seine Leistungsfähigkeit bei Aufgaben wie Textzusammenfassungen, Frage-Antwort-Systemen oder interaktiven Dialogen erheblich steigert.\n",
    "\n",
    "Ein fundiertes Verständnis dieser Faktoren hilft bei der Auswahl eines geeigneten Modells für spezifische Anwendungsfälle und ermöglicht eine gezielte Optimierung der Leistung.\n"
   ]
  },
  {
   "cell_type": "markdown",
   "metadata": {
    "id": "EbzDtUyurw-W"
   },
   "source": [
    "\n",
    "<p><font color='blue' size=\"4\">\n",
    "Token\n",
    "</font></p>\n",
    "\n",
    "In Large Language Models (LLMs) wie GPT (Generative Pre-trained Transformer) stellen Token die grundlegenden Einheiten des verarbeiteten Textes dar. Ein **Token** kann ein vollständiges Wort, ein Wortbestandteil oder ein einzelnes Zeichen sein. Wie genau ein Token definiert wird, hängt vom verwendeten Tokenizer ab, der während des Modelltrainings zum Einsatz kam. So könnte das Wort *Hausboot* entweder als einzelnes Token betrachtet oder in die Bestandteile *Haus* und *boot* zerlegt werden - abhängig von der jeweiligen Tokenisierungsstrategie.  \n",
    "\n",
    "[OpenAI Tokenizer](https://platform.openai.com/tokenizer)\n",
    "\n",
    "Die Nutzungskosten eines LLMs zur Textgenerierung werden in der Regel anhand der verarbeiteten Token berechnet. Dabei zählen sowohl die Token aus der Eingabe als auch diejenigen, die das Modell als Antwort generiert. Da die Verarbeitung jedes Tokens insbesondere bei sehr großen Modellen mit Milliarden von Parametern erhebliche Rechenressourcen erfordert, beeinflusst die Anzahl der Token direkt die Rechenkosten. Daher ist ein effizientes Management der Token-Nutzung essenziell, um Kosten zu optimieren.  \n",
    "\n"
   ]
  },
  {
   "cell_type": "markdown",
   "metadata": {
    "id": "aO6nyZl0rynF"
   },
   "source": [
    "\n",
    "<p><font color='blue' size=\"4\">\n",
    "Temperatur\n",
    "</font></p>\n",
    "\n",
    "Bei LLM wie GPT bezieht sich OpenAI mit dem Begriff **Temperatureinstellung** auf die Steuerung der **Zufälligkeit** oder **Kreativität** der generierten Antworten. Eine niedrigere Temperatur (z. B. 0,0) sorgt für **deterministische** und vorhersehbare Ergebnisse, da das Modell vorrangig die wahrscheinlichsten Antworten wählt. Eine höhere Temperatur (z. B. 1,0) hingegen führt zu einer größeren Varianz und kann **kreativere**, aber auch weniger vorhersehbare Antworten erzeugen. Der Wertebereich variiert je nach Anwendung oder Benutzeroberfläche, liegt jedoch typischerweise zwischen 0 und 1. Durch die Anpassung der Temperatur lässt sich das Modell gezielt steuern, um ein passendes Verhältnis zwischen Konsistenz und Originalität für unterschiedliche Aufgaben oder Nutzerpräferenzen zu erreichen.\n"
   ]
  },
  {
   "cell_type": "markdown",
   "metadata": {
    "id": "ExC3tumBDRd6"
   },
   "source": [
    "<p><font color='blue' size=\"4\">\n",
    "Große Sprachmodelle\n",
    "</font></p>\n",
    "\n",
    "Die folgende Tabelle gibt einen Überblickt für bekannte LLMs (Stand: 10.2025)"
   ]
  },
  {
   "cell_type": "markdown",
   "metadata": {
    "id": "9G5qie8mEFDP"
   },
   "source": [
    "| Name                 | Ersteller   | Open/Closed | Input-Token | Output-Token | Anzahl Parameter   |\n",
    "|----------------------|-------------|-------------|-------------|--------------|-------------------|\n",
    "| GPT-5                | OpenAI      | Closed      | 1M          | 32K          | Unbekannt         |\n",
    "| GPT-4o               | OpenAI      | Closed      | 128K        | 16K          | ~1.8T (geschätzt) |\n",
    "| o3                   | OpenAI      | Closed      | 200K        | 100K         | Unbekannt         |\n",
    "| o4-mini              | OpenAI      | Closed      | 200K        | 100K         | Unbekannt         |\n",
    "| Claude Sonnet 4.5    | Anthropic   | Closed      | 200K        | 8K           | Unbekannt         |\n",
    "| Claude Opus 4.1      | Anthropic   | Closed      | 200K        | 8K           | Unbekannt         |\n",
    "| Gemini 2.5 Pro       | Google      | Closed      | 1M          | 8K           | Unbekannt         |\n",
    "| Gemini 2.5 Flash     | Google      | Closed      | 1M          | 8K           | Unbekannt         |\n",
    "| Gemma 2 (27B)        | Google      | Open        | 8K          | 8K           | 27B               |\n",
    "| Grok 4               | xAI         | Closed      | 128K        | 32K          | ~2.4T (geschätzt) |\n",
    "| Grok 4 Fast          | xAI         | Closed      | 2M          | 32K          | Unbekannt         |\n",
    "| Llama 3.3 (70B)      | Meta        | Open        | 128K        | 8K           | 70B               |\n",
    "| Llama 3.1 (405B)     | Meta        | Open        | 128K        | 8K           | 405B              |\n",
    "| Mistral Large 2      | Mistral.AI  | Open        | 128K        | 8K           | 123B              |\n",
    "| Mixtral 8x22B        | Mistral.AI  | Open        | 65K         | 8K           | 141B (39B aktiv)  |\n",
    "| DeepSeek R1          | DeepSeek    | Open        | 128K        | 8K           | 671B (37B aktiv)  |\n",
    "| DeepSeek V3          | DeepSeek    | Open        | 128K        | 8K           | 671B (37B aktiv)  |\n",
    "| Qwen 2.5-Max         | Alibaba     | Open        | 32K         | 8K           | Unbekannt         |\n",
    "| Command R+           | Cohere      | Closed      | 128K        | 4K           | 104B              |\n",
    "| Phi-4                | Microsoft   | Open        | 16K         | 4K           | 14B               |\n",
    "| Nemotron-4 (340B)    | Nvidia      | Open        | 32K         | 4K           | 340B              |"
   ]
  },
  {
   "cell_type": "markdown",
   "metadata": {
    "id": "LiNHLzJxwYbT"
   },
   "source": [
    "**Im Kurs verwenden wir i.W.:**  \n",
    "- **gpt-4o-mini**: Standardmodell für die meisten Aufgaben.  \n",
    "- **gpt-4o**: Für detailliertere Antworten.  \n",
    "- **o3-mini**: Optimiert für logische Schlussfolgerungen.\n",
    "- **dall-e-3**: Standard-Modell für Bildgenerierung\n",
    "\n",
    "Es können alternativ auch die anderen Modelle wie **gpt-5** oder **gpt-5-mini** eingesetzt werden."
   ]
  },
  {
   "cell_type": "markdown",
   "metadata": {
    "id": "XuN8JPN_BeOR"
   },
   "source": [
    "[OpenAI Modelle](https://platform.openai.com/docs/models)"
   ]
  },
  {
   "cell_type": "markdown",
   "metadata": {
    "id": "pC9A-LaYhsta"
   },
   "source": [
    "# 2 | Foundation Models\n",
    "---"
   ]
  },
  {
   "cell_type": "markdown",
   "metadata": {
    "id": "rhiHq-tbpfRA"
   },
   "source": [
    "Foundation Models sind große KI-Modelle, die auf riesigen Mengen an Daten trainiert werden. Sie bilden eine breite Basis an Wissen und Fähigkeiten, auf der sich spezialisierte Anwendungen aufbauen lassen. Dazu gehören nicht nur große Sprachmodelle (Large Language Models, LLMs) wie GPT, sondern auch Modelle für Bilder, Audio und andere Datentypen. Foundation Models werden oft im sogenannten *self-supervised learning* trainiert: Sie lernen Muster, Strukturen und Zusammenhänge in Daten, ohne dass diese manuell beschriftet sein müssen.\n",
    "\n",
    "Ein großer Vorteil dieser Modelle ist ihre vielseitige Einsetzbarkeit: Nach dem Training können sie an unterschiedlichste Aufgaben angepasst werden, etwa für Textzusammenfassungen, Bilderkennung oder sogar multimodale Anwendungen, die Text und Bild kombinieren. Dadurch sind Foundation Models zu einem wichtigen Baustein in der aktuellen KI-Entwicklung geworden.\n",
    "\n",
    "Mehrere führende Technologieunternehmen und Forschungsorganisationen bieten Foundation Models an. Dazu gehören OpenAI mit GPT (Generative Pre-trained Transformer), Google mit BERT (Bidirectional Encoder Representations from Transformers) und Facebook (Meta) mit Modellen wie RoBERTa (Robustly Optimized BERT Pretraining Approach).\n",
    "\n",
    "Das Training eines Foundation Models ist extrem aufwendig: Es erfordert eine enorme Menge an Daten, die sorgfältig gesammelt, bereinigt und verarbeitet werden müssen. Außerdem sind dafür spezialisierte Hardwaresysteme und sehr viel Rechenleistung notwendig, was die Entwicklung teuer und komplex macht. Für Einzelpersonen oder (kleinere) Organisationen ist es daher oft sinnvoller, bestehende Foundation Models zu verwenden und sie gezielt für eigene Aufgaben zu optimieren (beispielsweise durch *Fine-Tuning*).\n",
    "\n",
    "In der praktischen Anwendungen geht es in der Regel darum, wie man vorhandene Foundation Models effektiv einsetzt, anpasst und für eigene Projekte nutzt. Denn ein vollständiges Modell selbst zu entwickeln, würde deutlich mehr Zeit und Ressourcen erfordern, als ein Kurs leisten kann.\n",
    "\n",
    "Trotz ihrer großen Möglichkeiten bergen Foundation Models auch Herausforderungen, zum Beispiel hinsichtlich Verzerrungen in den Trainingsdaten oder unvorhersehbaren Ergebnissen. Ein bewusster und verantwortungsvoller Umgang mit diesen Modellen ist deshalb besonders wichtig.\n"
   ]
  },
  {
   "cell_type": "markdown",
   "metadata": {
    "id": "Cyp02R3Nvz0C"
   },
   "source": [
    "![My Image](https://raw.githubusercontent.com/ralf-42/Image/main/FoundationModels-klein.png)"
   ]
  },
  {
   "cell_type": "markdown",
   "metadata": {
    "id": "7atawInd9okS"
   },
   "source": [
    "# 3 | Aufgaben Sprachverarbeitung\n",
    "---\n"
   ]
  },
  {
   "cell_type": "markdown",
   "metadata": {
    "id": "sfAaTidH99gy"
   },
   "source": [
    "Large Language Models (LLMs) wie GPT übernehmen eine Vielzahl von Aufgaben rund um die Verarbeitung natürlicher Sprache. Neben bekannten Anwendungsfeldern wie Textklassifizierung, Textzusammenfassung und Textgenerierung bieten sie auch Unterstützung bei Analyse, Transformation, Strukturierung und Wissensgewinnung aus Texten. Die folgende Übersicht zeigt typische Aufgabenbereiche im Überblick."
   ]
  },
  {
   "cell_type": "markdown",
   "metadata": {
    "id": "O3lXx1qa9r9S"
   },
   "source": [
    "| **Kategorie**                        | **Aufgabe**                      | **Beschreibung**                                                                     |\n",
    "| ------------------------------------ | -------------------------------- | ------------------------------------------------------------------------------------ |\n",
    "| 🧠 **Analyse & Klassifikation**      | **Textklassifizierung**          | Einordnung eines Textes in vordefinierte Klassen (z. B. Spam/kein Spam).             |\n",
    "|                                      | Sentimentanalyse                 | Einschätzung der Stimmung (positiv/negativ/neutral).                                 |\n",
    "|                                      | Themenklassifikation             | Zuordnung von Texten zu Themen oder Kategorien.                                      |\n",
    "|                                      | **Named Entity Recognition (NER)**   | Erkennung von Namen, Orten, Organisationen usw. im Text.                             |\n",
    "|                                      | Relationsextraktion              | Erkennen logischer oder semantischer Beziehungen zwischen Entitäten.                 |\n",
    "|                                      | Bias- oder Hate-Speech-Erkennung | Klassifikation diskriminierender oder voreingenommener Sprache.                      |\n",
    "| 📝 **Generierung & Transformation**  | **Textgenerierung**              | Erzeugen von Texten auf Basis von Prompts (z. B. Geschichten, Antworten, Code).      |\n",
    "|                                      | **Textzusammenfassung**          | Komprimierung eines Textes unter Erhalt der Kernaussage (extraktiv oder abstraktiv). |\n",
    "|                                      | Paraphrasierung                  | Umformulierung bei gleichbleibendem Sinn.                                            |\n",
    "|                                      | Stiltransfer                     | Umwandlung des Sprachstils (z. B. sachlich ↔ kreativ).                               |\n",
    "|                                      | Textvereinfachung                | Vereinfachung komplexer Formulierungen.                                              |\n",
    "|                                      | Sprachübersetzung                | Übersetzung zwischen Sprachen.                                                       |\n",
    "| 🧩 **Ergänzung & Vervollständigung** | Autovervollständigung            | Vorhersage des nächsten Wortes oder Satzes.                                          |\n",
    "|                                      | Lückentext-Ergänzung             | Einfügen sinnvoller Wörter/Sätze in Lücken.                                          |\n",
    "|                                      | **Story- oder Textfortsetzung**      | Kreative Weiterführung eines gegebenen Textes.                                       |\n",
    "| 📚 **Informationsgewinnung**         | Schlüsselbegriffextraktion       | Extraktion zentraler Begriffe aus einem Text.                                        |\n",
    "|                                      | Themenextraktion                 | Identifikation der zentralen Themen eines Textes.                                    |\n",
    "|                                      | Frage-Antwort (QA)               | Beantwortung von Fragen zu einem Text (extraktiv oder generativ).                    |\n",
    "|                                      | Faktenprüfung                    | Bewertung der Richtigkeit von Aussagen.                                              |\n",
    "|                                      | **Retrieval-Augmented Generation**   | Kombination von Textgenerierung mit Wissensabfragen aus externen Quellen.            |\n",
    "| 🛡️ **Sicherheit & Strukturierung**  | Plagiatserkennung                | Erkennung von Ähnlichkeiten mit bestehenden Texten.                                  |\n",
    "|                                      | Anonymisierung                   | Entfernen oder Maskieren sensibler Daten.                                            |\n",
    "|                                      | **Gliederungserstellung**            | Erstellung strukturierter Inhaltsverzeichnisse.                                      |\n",
    "|                                      | Formatumwandlung                 | Konvertierung von Texten in bestimmte Formate (z. B. E-Mail, Bericht, Code).         |\n"
   ]
  },
  {
   "cell_type": "markdown",
   "metadata": {
    "id": "aQqiPx-V3Kio"
   },
   "source": [
    "# 4 | Modellaufbau - mit Chat-History\n",
    "---\n"
   ]
  },
  {
   "cell_type": "markdown",
   "metadata": {
    "id": "tiFCe1fe3hEa"
   },
   "source": [
    "Im vorliegenden Code wird ein Chatbot-Modell schrittweise aufgebaut. Der Modellaufbau ist modular und kann als `Bauplan` für nachfolgende Konversationsmodelle verwendet werden.\n",
    "\n",
    "Diese strukturierte Aufteilung macht das Modell robust, wartbar und erweiterbar für verschiedene Anwendungsfälle im Bereich der Konversations-KI.\n",
    "\n"
   ]
  },
  {
   "cell_type": "code",
   "execution_count": null,
   "metadata": {
    "id": "9y7B2qfuB2Xs"
   },
   "outputs": [],
   "source": [
    "# Abschnitt 1: Importe\n",
    "from langchain_openai import ChatOpenAI\n",
    "from langchain_core.messages import HumanMessage, SystemMessage, AIMessage\n",
    "from langchain_core.prompts import ChatPromptTemplate, MessagesPlaceholder\n",
    "from langchain_core.output_parsers.string import StrOutputParser"
   ]
  },
  {
   "cell_type": "code",
   "execution_count": null,
   "metadata": {
    "id": "YJVTOv9TH2lT"
   },
   "outputs": [],
   "source": [
    "# Abschnitt 2: Konstanten definieren\n",
    "system_prompt = \"\"\"\n",
    "Du bist ein kompetenter KI-Assistent mit breitem Fachwissen.\n",
    "\n",
    "Deine Antworten sind:\n",
    "- Klar strukturiert und mit Markdown formatiert\n",
    "- Praxisorientiert und direkt umsetzbar\n",
    "- Basierend auf aktuellem Kenntnisstand\n",
    "- Mit passenden Beispielen versehen\n",
    "- In verständlicher Sprache formuliert\n",
    "\n",
    "Bei deiner Arbeit:\n",
    "- Analysierst du Fragen sorgfältig\n",
    "- Gibst präzise und relevante Antworten\n",
    "- Erkennst den Kontext der Anfrage\n",
    "- Bietest bei Bedarf weiterführende Informationen\n",
    "- Bleibst sachlich und neutral\n",
    "\n",
    "Formatiere alle Antworten in Markdown für optimale Lesbarkeit.\n",
    "\"\"\""
   ]
  },
  {
   "cell_type": "code",
   "execution_count": null,
   "metadata": {
    "id": "AkkALStvH4ul"
   },
   "outputs": [],
   "source": [
    "# Abschnitt 3: Chain-Komponenten initialisieren\n",
    "\n",
    "# Die Chat-Prompt definieren mit drei Variablen: system_prompt, history, user_input\n",
    "prompt = ChatPromptTemplate.from_messages([\n",
    "        (\"system\", \"{system_prompt}\"),\n",
    "        MessagesPlaceholder(variable_name=\"chat_history\"),\n",
    "        (\"human\", \"{user_input}\")\n",
    "])\n",
    "\n",
    "# LLM definieren\n",
    "model_name = \"gpt-4o-mini\"\n",
    "temperature = 0.3\n",
    "llm = ChatOpenAI(model=model_name, temperature=temperature)\n",
    "\n",
    "# OutputParser\n",
    "parser = StrOutputParser()\n",
    "\n",
    "# Die Chain definieren\n",
    "chain = prompt | llm | parser"
   ]
  },
  {
   "cell_type": "code",
   "execution_count": null,
   "metadata": {
    "id": "kzhjBJEsH9h1"
   },
   "outputs": [],
   "source": [
    "# Abschnitt 4: Funktionen definieren\n",
    "\n",
    "def interact_with_ai(system_prompt, chat_history, user_input):\n",
    "    \"\"\"Führt eine einzelne Interaktion mit der KI durch.\"\"\"\n",
    "\n",
    "    # Aufruf der Kette\n",
    "    parameter = {\n",
    "        'system_prompt': system_prompt,\n",
    "        'chat_history': chat_history,\n",
    "        'user_input': user_input\n",
    "    }\n",
    "    response = chain.invoke(parameter)\n",
    "\n",
    "    # Ausgabe der Ergebnisse\n",
    "    mprint(\"### 🧑‍🦱 Mensch:\")\n",
    "    mprint(user_input)\n",
    "\n",
    "    mprint(\"### 🤖 KI:\")\n",
    "    mprint(response)\n",
    "\n",
    "    # Memory-Management - Erweiterung der Historie\n",
    "    chat_history.extend([\n",
    "        HumanMessage(content=user_input),\n",
    "        AIMessage(content=response)\n",
    "    ])\n",
    "\n",
    "    return chat_history"
   ]
  },
  {
   "cell_type": "code",
   "execution_count": null,
   "metadata": {
    "id": "TGuKwTyVJ-wt"
   },
   "outputs": [],
   "source": [
    "# Abschnitt 5: Hauptprogramm\n",
    "\n",
    "# Historie wird initialisiert\n",
    "chat_history = [SystemMessage(content=system_prompt)]\n",
    "\n",
    "# Liste mit user_input\n",
    "user_input_list = [\n",
    "    \"Mein Name ist Ralf\",\n",
    "    \"Warum ist der Himmel blau?\",\n",
    "    \"Und warum ist er manchmal rot?\",\n",
    "    \"Wie ist mein Name?\"\n",
    "]\n",
    "\n",
    "# Chain-Aufruf in einer Schleife\n",
    "for user_input in user_input_list:\n",
    "    chat_history = interact_with_ai(system_prompt, chat_history, user_input)"
   ]
  },
  {
   "cell_type": "markdown",
   "metadata": {
    "id": "TWq5rQ4AeIU6"
   },
   "source": [
    "<p><font color='black' size=\"5\">\n",
    "Neue Konversation starten\n",
    "</font></p>"
   ]
  },
  {
   "cell_type": "code",
   "execution_count": null,
   "metadata": {
    "id": "bep9LTAvdiT2"
   },
   "outputs": [],
   "source": [
    "# Abschnitt 5: Hauptprogramm\n",
    "chat_history = [SystemMessage(content=system_prompt)]\n",
    "user_input = \"Erstelle eine Tabelle der fünf bevölkerungsreichsten Ländern mit Bevölkerung und BIP.\"\n",
    "chat_history = interact_with_ai(system_prompt, chat_history, user_input)"
   ]
  },
  {
   "cell_type": "markdown",
   "metadata": {
    "id": "J_6EHVIcBe0Q"
   },
   "source": [
    "# 5 | Textgenerierung\n",
    "---"
   ]
  },
  {
   "cell_type": "markdown",
   "metadata": {
    "id": "Q6qNoTVI7Jp_"
   },
   "source": [
    "Die Generierung von Text gehört zu den häufigsten Anwendungsfällen für **Large Language Models (LLMs)**. Anstatt eine interaktive Chatumgebung zu verwenden, erfolgt die Textgenerierung durch gezielte **Eingabeaufforderungen (Prompts)**, die an **OpenAI** gesendet werden. Das Modell verarbeitet diese Anfragen und liefert darauf basierend den generierten Text.  "
   ]
  },
  {
   "cell_type": "markdown",
   "metadata": {
    "id": "DB0IAW8vBJLV"
   },
   "source": [
    "<p><font color='black' size=\"5\">\n",
    "Muster zur Textgenerierung\n",
    "</font></p>\n",
    "\n",
    "Bei der grundlegenden Textgenerierung gibt es verschiedene **Prompt-Muster (Prompting-Methoden)**, die sich je nach Detailgrad der bereitgestellten Informationen unterscheiden. Diese Muster beeinflussen, wie das **Large Language Model (LLM)** den gewünschten Text erzeugt.  \n",
    "\n",
    "Im Folgenden werden verschiedene dieser Muster untersucht und analysiert, wie sie sich auf die Qualität und Struktur der generierten Inhalte auswirken.\n",
    "\n",
    "* Zero-Shot-Prompt\n",
    "* One-Shot-Prompt\n",
    "* Few-Shot-Prompt"
   ]
  },
  {
   "cell_type": "markdown",
   "metadata": {
    "id": "9GeVTcwLl4xi"
   },
   "source": [
    "<p><font color='black' size=\"5\">\n",
    "Zero-Shot Textgenerierung\n",
    "</font></p>\n",
    "\n",
    "Ein Zero-Shot-Prompt zur Texterstellung ist eine Technik, bei der ein Sprachmodell ohne vorherige Anpassung oder spezielles Training auf eine bestimmte Aufgabe direkt mit einer einzigen Eingabeaufforderung genutzt wird. Um diesen Ansatz erfolgreich anzuwenden, ist es entscheidend, einen präzisen und ausführlichen Prompt zu formulieren, der genau beschreibt, welche Art von Inhalt generiert werden soll. Dabei sollten Stil, Struktur und relevante Details oder Einschränkungen klar angegeben werden. Beispielsweise kann für eine geschäftliche E-Mail der gewünschte Tonfall (formell oder informell), die wesentlichen Inhalte (wie Termin, Thema, Teilnehmer) sowie eine Handlungsaufforderung spezifiziert werden. Da das Modell allein auf die im Prompt enthaltenen Informationen angewiesen ist, sollte das gewünschte Ergebnis möglichst eindeutig formuliert sein. Diese Methode ist flexibel einsetzbar und erlaubt die Erstellung vielfältiger Textarten, ohne dass eine vorherige Modellanpassung erforderlich ist.  \n",
    "\n",
    "Das folgende Beispiel demonstriert eine Zero-Shot-Eingabeaufforderung: Es werden verschiedene Anforderungen gestellt und Informationen zu einem Studierenden bereitgestellt, jedoch ohne eine explizite Vorlage für das Sprachmodell vorzugeben."
   ]
  },
  {
   "cell_type": "markdown",
   "metadata": {
    "id": "oiql4k41MOTC"
   },
   "source": [
    "**Es wird der bereits erstellte ChatBot verwendet und leicht angepasst.**"
   ]
  },
  {
   "cell_type": "code",
   "execution_count": null,
   "metadata": {
    "id": "pZzFJ6DmMrUT"
   },
   "outputs": [],
   "source": [
    "# Anpassung: Abschnitt 2: Konstanten definieren\n",
    "system_prompt = \"\"\"\n",
    "Du bist ein hilfreicher KI-Assistent, der bei der Erstellung von Empfehlungsschreiben hilft.\n",
    "\"\"\""
   ]
  },
  {
   "cell_type": "code",
   "execution_count": null,
   "metadata": {
    "id": "bGp3dfribNW1"
   },
   "outputs": [],
   "source": [
    "# Abschnitt 5: Hauptprogramm\n",
    "user_input = \"\"\"\n",
    "    Erstellen Sie ein positives Empfehlungsschreiben für Maria Weber, eine meiner Studierenden im Kurs ML 401 an der Technischen Universität München. Mein Name ist Dr. Julia Berger. Sie bewirbt sich für einen Master of Science in Data Science. Geben Sie mir nur den Haupttext des Schreibens, keine Kopf- oder Fußzeile.\n",
    "\n",
    "    Unten ist ihre Anfrage:\n",
    "\n",
    "    Sehr geehrte Frau Dr. Berger,\n",
    "\n",
    "    ich hoffe, es geht Ihnen gut! Ich bin Maria Weber (Matrikelnr.: 7890), eine Absolventin der TU München, die im Juni 2025 meinen Bachelor in Wirtschaftsmathematik abgeschlossen habe.\n",
    "\n",
    "    Im Wintersemester 2023/24 hatte ich das Privileg, Ihren Kurs ML 401: Grundlagen des maschinellen Lernens zu besuchen. Der Kurs war ein Wahlpflichtfach in meinem Bachelorprogramm. Die Inhalte haben mich sehr begeistert und ich habe mich durchgehend intensiv eingebracht, was sich in der Note 1,0 widerspiegelte.\n",
    "\n",
    "    Nach meinem Abschluss mit einer Gesamtnote von 1,1 – der besten Note meines Jahrgangs – arbeite ich als Data Analytics Consultant bei der Firma DataTech GmbH. Meine Hauptaufgabe liegt in der Entwicklung von KI-gestützten Analysetools für Geschäftsprozesse. Um meine Expertise im Bereich Data Science zu vertiefen, möchte ich berufsbegleitend einen Master in Data Science absolvieren. Ich schätze Ihre Forschungsarbeit sehr (ich verfolge regelmäßig Ihre Publikationen und habe sie auch in meinem Team vorgestellt) und Ihre Einschätzung wäre für meine Bewerbung sehr wertvoll.\n",
    "\n",
    "    Ich bewerbe mich für folgende Programme:\n",
    "    - ETH Zürich, Master of Science in Data Science\n",
    "    - TU Berlin, Master of Science in Data Engineering\n",
    "\n",
    "    Dürfte ich Sie um ein Empfehlungsschreiben für diese Bewerbungen bitten? Meinen Lebenslauf habe ich beigefügt und ich stelle Ihnen gerne weitere Informationen zur Verfügung.\n",
    "\n",
    "    Vielen Dank für die Berücksichtigung meiner Anfrage.\n",
    "\n",
    "    Mit freundlichen Grüßen\n",
    "    Maria Weber\n",
    "\n",
    "    GEWÜNSCHTES FORMAT:\n",
    "    - In Markdown formatiert\n",
    "    \"\"\""
   ]
  },
  {
   "cell_type": "code",
   "execution_count": null,
   "metadata": {
    "id": "CC7PfXB-iY6t"
   },
   "outputs": [],
   "source": [
    "chat_history = [SystemMessage(content=system_prompt)]\n",
    "chat_history = interact_with_ai(system_prompt, chat_history, user_input)"
   ]
  },
  {
   "cell_type": "markdown",
   "metadata": {
    "id": "XhpXOo-xOair"
   },
   "source": [
    "<p><font color='black' size=\"5\">\n",
    "One-Shot Textgenerierung\n",
    "</font></p>\n",
    "\n",
    "Ein One-Shot-Prompt zur Textgenerierung ist eine Methode, bei der ein Sprachmodell mit einer einzigen, detaillierten Eingabe angewiesen wird, auf deren Basis es einen zusammenhängenden Text erstellt. Um diese Technik wirkungsvoll einzusetzen, sollte der Prompt klar und präzise formuliert sein und alle relevanten Informationen sowie den gewünschten Kontext enthalten. Dabei ist es ratsam, Stil, Ton und spezifische inhaltliche Aspekte genau zu definieren.  \n",
    "\n",
    "Möchte man beispielsweise eine atmosphärische Beschreibung einer Küstenstadt generieren lassen, sollten wesentliche Merkmale wie Tageszeit, Stimmung und bestimmte visuelle oder emotionale Eindrücke explizit benannt werden. Eine solche detaillierte Vorgabe erleichtert es dem Modell, die Anforderungen zu erfassen und passgenaue Inhalte zu erstellen.  \n",
    "\n",
    "Nachdem der Prompt formuliert wurde, kann er direkt in das Textgenerierungstool eingegeben werden. Falls das Ergebnis nicht vollständig den Erwartungen entspricht, lässt sich der Prompt gezielt anpassen, um die Qualität und Relevanz der Ausgabe weiter zu optimieren."
   ]
  },
  {
   "cell_type": "code",
   "execution_count": null,
   "metadata": {
    "id": "5-thhsZp-VdA"
   },
   "outputs": [],
   "source": [
    "# Abschnitt 5: Hauptprogramm\n",
    "user_input = \"\"\"\n",
    "Basierend auf diesem Beispiel, erstelle ein neues akademisches Empfehlungsschreiben.\n",
    "Behalte den professionellen Ton bei, aber passe die Details an:\n",
    "\n",
    "BEISPIEL:\n",
    "\"Ich freue mich sehr, Maria Weber für den Master of Science in Data Science zu empfehlen. Als ihre Dozentin im Kurs ML 401: Grundlagen des maschinellen Lernens an der TU München konnte ich ihre außergewöhnlichen akademischen Fähigkeiten beobachten. Frau Weber schloss den anspruchsvollen Kurs mit der Note 1,0 ab und demonstrierte dabei ein tiefgreifendes Verständnis für maschinelles Lernen und dessen praktische Anwendungen.\n",
    "\n",
    "Besonders beeindruckend war ihre Fähigkeit, komplexe Konzepte nicht nur zu verstehen, sondern auch auf reale Problemstellungen anzuwenden. In ihrer Position als Data Analytics Consultant bei DataTech GmbH setzt sie diese Fähigkeiten erfolgreich in der Entwicklung KI-gestützter Analysetools ein.\n",
    "\n",
    "Mit ihrem Bachelorabschluss in Wirtschaftsmathematik (Note 1,1) als Jahrgangsbeste hat Frau Weber bereits bewiesen, dass sie höchsten akademischen Anforderungen gerecht wird. Ihre analytischen Fähigkeiten, gepaart mit ihrer Lernbereitschaft und ihrem Engagement, machen sie zu einer idealen Kandidatin für ein weiterführendes Studium im Bereich Data Science.\n",
    "\n",
    "Aufgrund ihrer bisherigen Leistungen und ihres Potenzials empfehle ich Frau Weber nachdrücklich für den Master of Science in Data Science. Sie wird zweifellos einen wertvollen Beitrag zum Programm leisten.\"\n",
    "\n",
    "ANWEISUNGEN:\n",
    "1. Erstelle ein neues Empfehlungsschreiben mit ähnlicher Struktur\n",
    "2. Ändere:\n",
    "- Namen\n",
    "- Studienfach\n",
    "- Universitäten\n",
    "- Kurse\n",
    "- Noten\n",
    "- aktuelle Berufstätigkeit\n",
    "3. Behalte bei:\n",
    "- Vier-Absatz-Struktur\n",
    "- Professionellen Ton\n",
    "- Spezifische Beispiele für Leistungen\n",
    "- Klare Empfehlung am Ende\n",
    "\n",
    "GEWÜNSCHTES FORMAT:\n",
    "- Nur Haupttext\n",
    "- Keine Anrede/Grußformel\n",
    "- In Markdown formatiert\n",
    "\"\"\""
   ]
  },
  {
   "cell_type": "code",
   "execution_count": null,
   "metadata": {
    "id": "rNt0eebfipM4"
   },
   "outputs": [],
   "source": [
    "chat_history = [SystemMessage(content=system_prompt)]\n",
    "chat_history = interact_with_ai(system_prompt, chat_history, user_input)"
   ]
  },
  {
   "cell_type": "markdown",
   "metadata": {
    "id": "oFDE3DRgHvq1"
   },
   "source": [
    "<p><font color='black' size=\"5\">\n",
    "Synthetische Daten generieren\n",
    "</font></p>\n",
    "\n",
    "LLMs (Large Language Models) eignen sich zur Erzeugung synthetischer Daten, was besonders nützlich für Testszenarien ist, die realistische Informationen oder eine breite demografische Vielfalt erfordern. Diese Modelle können beispielsweise detaillierte Biografien für verschiedene Berufsgruppen generieren, wodurch realitätsnahe Daten für Simulationen, die Entwicklung von Testalgorithmen oder das Training anderer KI-Systeme bereitgestellt werden.  \n",
    "\n",
    "Ein möglicher Anwendungsfall wäre die Erstellung synthetischer Biografien für Berufsgruppen wie Softwareentwickler, Kinderkrankenschwestern, Finanzanalysten, Naturwissenschaftslehrer an Universitäten oder Marketingmanager. Jede dieser Biografien könnte individuelle Karrierewege, Qualifikationen und berufliche Erfahrungen umfassen, um vielseitige und praxisnahe Tests zu ermöglichen. Auf diese Weise tragen synthetische Daten zur Verbesserung der Systemleistung bei, ohne auf echte personenbezogene Informationen zurückzugreifen."
   ]
  },
  {
   "cell_type": "code",
   "execution_count": null,
   "metadata": {
    "id": "bvd8lAgsR12B"
   },
   "outputs": [],
   "source": [
    "# Anpassung: Abschnitt 2: Konstanten definieren\n",
    "system_prompt = \"\"\"\n",
    "Du bist ein Assistent, der synthetische Daten für eine Person in dem von Ihnen angegebenen Berufsfeld generiert. Erstelle eine kurze Biografie der Person, die nicht länger als 5 Sätze ist. Erwähne die Berufsbezeichnung nicht ausdrücklich.\n",
    "\"\"\""
   ]
  },
  {
   "cell_type": "code",
   "execution_count": null,
   "metadata": {
    "id": "DdAuyo1AR6ei"
   },
   "outputs": [],
   "source": [
    "# Abschnitt 5: Hauptprogramm\n",
    "user_input = \"Softwareentwickler\"\n",
    "\n",
    "chat_history = [SystemMessage(content=system_prompt)]\n",
    "chat_history = interact_with_ai(system_prompt, chat_history, user_input)"
   ]
  },
  {
   "cell_type": "markdown",
   "metadata": {
    "id": "qjLdt7kMOP-Q"
   },
   "source": [
    "Nun wird eine Liste mit mehreren zufällig generierten Biografien erstellt."
   ]
  },
  {
   "cell_type": "code",
   "execution_count": null,
   "metadata": {
    "id": "U25feB-bIHSY"
   },
   "outputs": [],
   "source": [
    "personas = [\n",
    "\"Luftballon-Verkäufer\",\n",
    "\"Löwen-Krankenschwester\",\n",
    "\"Talkmaster\",\n",
    "\"Hochschullehrer Wirtschaftswissenschaften\",\n",
    "\"Zirkus-Zauberer\"\n",
    "]"
   ]
  },
  {
   "cell_type": "code",
   "execution_count": null,
   "metadata": {
    "id": "kh4UDM16Jxq7"
   },
   "outputs": [],
   "source": [
    "from tqdm import tqdm\n",
    "\n",
    "# Verwenden Sie tqdm, um den Fortschrittsbalken anzuzeigen\n",
    "chat_history = [SystemMessage(content=system_prompt)]\n",
    "\n",
    "for i in tqdm(range(5), desc=\"Generating Careers\"):\n",
    "    user_input = personas[i]\n",
    "    chat_history = interact_with_ai(system_prompt, chat_history, user_input)"
   ]
  },
  {
   "cell_type": "markdown",
   "metadata": {
    "id": "TgfPV_aXBuv9"
   },
   "source": [
    "# 6 | Textklassifizierung\n",
    "---"
   ]
  },
  {
   "cell_type": "markdown",
   "metadata": {
    "id": "XB3SnNhx7eWv"
   },
   "source": [
    "Große Sprachmodelle (LLMs) haben die Textklassifizierung grundlegend verändert, indem sie einen flexibleren und effizienteren Ansatz als herkömmliche maschinelle Lernmethoden bieten. Während traditionelle Verfahren umfangreiche, manuell annotierte Datensätze benötigten, um Modelle zu trainieren, bieten LLMs eine zeitsparende Alternative.  \n",
    "\n",
    "Durch die **Few-Shot Klassifizierung**, die mit beschriftete Beispiele funktioniert, können LLMs Texte allein auf Basis weniger natürlichsprachlichen Beispiele kategorisieren. Diese Fähigkeit beruht auf dem umfassenden Wissen, das die Modelle während ihres Trainings mit großen Textkorpora erworben haben.  \n",
    "\n",
    "Dieser Ansatz reduziert den Aufwand für die Einrichtung einer Textklassifizierung erheblich und ermöglicht eine schnelle Anpassung an neue Anforderungen. Dadurch eignen sich LLMs für verschiedene Anwendungsfälle, darunter **Stimmungsanalyse, Themenkategorisierung, Spam-Erkennung und Inhaltsmoderation**.  \n",
    "\n",
    "Im folgenden Code werden SMS-Texte analysiert. Anschließend erfolgt deren Klassifizierung mithilfe eines LLMs."
   ]
  },
  {
   "cell_type": "markdown",
   "metadata": {
    "id": "8cdf6QNZrC02"
   },
   "source": [
    "Im folgenden Programm erfolgt eine Klassifizierung der SMS-Texte.\n"
   ]
  },
  {
   "cell_type": "code",
   "execution_count": null,
   "metadata": {
    "id": "U-5JUYXRYvrJ"
   },
   "outputs": [],
   "source": [
    "# Importe\n",
    "from pandas import DataFrame"
   ]
  },
  {
   "cell_type": "code",
   "execution_count": null,
   "metadata": {
    "id": "wkQBnUM8VrJx"
   },
   "outputs": [],
   "source": [
    "# Konstanten definieren\n",
    "system_prompt = \"\"\"\n",
    "Du bist ein Experte für die Klassifikation von SMS-Nachrichten.\n",
    "\n",
    "Klassifiziere SMS-Nachrichten als:\n",
    "- spam: Werbung, Gewinnspiele, kostenpflichtige Dienste, unerwünschte Nachrichten\n",
    "- ham: Normale Kommunikation, persönliche Nachrichten\n",
    "- sonstiges: Wenn keine klare Zuordnung möglich ist\n",
    "\n",
    "Wichtig: Antworte NUR mit einem Wort: spam, ham oder sonstiges\n",
    "\n",
    "Beachte die Beispiele für die Klassifikation:\n",
    "- spam: Werbung, Gewinnspiele, kostenpflichtige Dienste\n",
    "- ham: Normale Kommunikation, persönliche Nachrichten\n",
    "\"\"\"\n",
    "\n",
    "# Beispiel-SMS für das Training\n",
    "train_sms = [\n",
    "            {\n",
    "                \"sms\": \"Free entry in 2 a wkly comp to win FA Cup final tkts 21st May 2005. Text FA to 87121 to receive entry question(std txt rate)T&C's apply 08452810075over18's\",\n",
    "                \"classification\": \"spam\"\n",
    "            },\n",
    "            {\n",
    "                \"sms\": \"FreeMsg Hey there darling it's been 3 week's now and no word back! I'd like some fun you up for it still? Tb ok! XxX std chgs to send, £1.50 to rcv\",\n",
    "                \"classification\": \"spam\"\n",
    "            },\n",
    "            {\n",
    "                \"sms\": \"WINNER!! As a valued network customer you have been selected to receive a £900 prize reward! To claim call 09061701461. Claim code KL341. Valid 12 hours only.\",\n",
    "                \"classification\": \"spam\"\n",
    "            },\n",
    "            {\n",
    "                \"sms\": \"Go until jurong point, crazy.. Available only in bugis n great world la e buffet... Cine there got amore wat...\",\n",
    "                \"classification\": \"ham\"\n",
    "            },\n",
    "            {\n",
    "                \"sms\": \"Ok lar... Joking wif u oni...\",\n",
    "                \"classification\": \"ham\"\n",
    "            },\n",
    "            {\n",
    "                \"sms\": \"U dun say so early hor... U c already then say...\",\n",
    "                \"classification\": \"ham\"\n",
    "            },\n",
    "            {\n",
    "                \"sms\": \"Hey, what time is the meeting tomorrow?\",\n",
    "                \"classification\": \"ham\"\n",
    "            },\n",
    "            {\n",
    "                \"sms\": \"I'll be home in 10 minutes\",\n",
    "                \"classification\": \"ham\"\n",
    "            },\n",
    "            {\n",
    "                \"sms\": \"Call me when you get this message\",\n",
    "                \"classification\": \"ham\"\n",
    "            },\n",
    "            {\n",
    "                \"sms\": \"FREE! Claim your prize now! Click: bit.ly/prize123\",\n",
    "                \"classification\": \"spam\"\n",
    "            }\n",
    "]\n",
    "\n",
    "test_sms = [\n",
    "    \"WINNER!! As a valued customer you have won £1000 prize!\",\n",
    "    \"Hey, what time is the meeting tomorrow?\",\n",
    "    \"Free entry! Win an iPhone now! Click here:\",\n",
    "    \"I'll be home in 10 minutes\"\n",
    "]"
   ]
  },
  {
   "cell_type": "code",
   "execution_count": null,
   "metadata": {
    "id": "_JArFRW8VtUg"
   },
   "outputs": [],
   "source": [
    "# Chat-Komponenten initialisieren\n",
    "prompt = ChatPromptTemplate.from_messages([\n",
    "    (\"system\", \"{system_prompt}\"),\n",
    "    MessagesPlaceholder(variable_name=\"chat_history\"),\n",
    "    (\"human\", \"{user_input}\")\n",
    "])"
   ]
  },
  {
   "cell_type": "code",
   "execution_count": null,
   "metadata": {
    "id": "z2R1nRyypUmI"
   },
   "outputs": [],
   "source": [
    "# Modell definieren\n",
    "model_name = \"gpt-4o-mini\"\n",
    "temperature = 0.0\n",
    "\n",
    "llm = ChatOpenAI(\n",
    "    model=model_name,\n",
    "    temperature=temperature,\n",
    "    max_tokens=5,           # Begrenzt Antwortlänge stark\n",
    "    top_p=0.1,              # Fokussiert auf wahrscheinlichste Tokens\n",
    "    presence_penalty=0.5    # Verhindert Wiederholungen\n",
    ")"
   ]
  },
  {
   "cell_type": "code",
   "execution_count": null,
   "metadata": {
    "id": "-b3S7X7WdFeu"
   },
   "outputs": [],
   "source": [
    "# Parser erstellen\n",
    "parser = StrOutputParser()"
   ]
  },
  {
   "cell_type": "code",
   "execution_count": null,
   "metadata": {
    "id": "MFTXYMU4dHIW"
   },
   "outputs": [],
   "source": [
    "# Verkettung\n",
    "chain = prompt | llm | parser"
   ]
  },
  {
   "cell_type": "code",
   "execution_count": null,
   "metadata": {
    "id": "lMYQoXwAVxDm"
   },
   "outputs": [],
   "source": [
    "def create_training_examples(train_sms):\n",
    "    \"\"\" Erstellt Trainingsbeispiele aus den Beispiel-SMS \"\"\"\n",
    "    examples = []\n",
    "    for label, messages in train_sms:\n",
    "        for msg in messages:\n",
    "            examples.append(f\"{label}\\t{msg}\")\n",
    "    return \"\\n\".join(examples)\n",
    "\n",
    "def classify(system_prompt, chat_history, train_sms, test_sms):\n",
    "    \"\"\" Klassifiziert eine einzelne SMS-Nachricht \"\"\"\n",
    "    # Erstelle Prompt mit Trainingsbeispielen\n",
    "    full_prompt = f\"\"\"\n",
    "    Klassifiziere die folgende SMS basierend auf diesen Beispielen:\n",
    "\n",
    "    {create_training_examples(train_sms)}\n",
    "\n",
    "    Gebe als Antwort NUR \"spam\" oder \"ham\" zurück.\n",
    "    Wenn keine Entscheidung möglich ist dann \"sonstiges\".\n",
    "    Gebe keine Begründung.\n",
    "    Verwende keine Spiegelstriche.\n",
    "\n",
    "    Hier ist die SMS:\n",
    "    {test_sms}\n",
    "    \"\"\"\n",
    "    parameter = {}\n",
    "    parameter['system_prompt'] = system_prompt\n",
    "    parameter['chat_history'] = chat_history\n",
    "    parameter['user_input'] = full_prompt\n",
    "    response = chain.invoke(parameter)\n",
    "\n",
    "    return response.strip()"
   ]
  },
  {
   "cell_type": "code",
   "execution_count": null,
   "metadata": {
    "id": "GFZP9R3oV2af"
   },
   "outputs": [],
   "source": [
    "# Hauptprogramm\n",
    "chat_history = [SystemMessage(content=system_prompt)]\n",
    "\n",
    "mprint(\"## ✨ Klassifiziere Test-SMS:\")\n",
    "mprint(\"---\")\n",
    "\n",
    "# SMS-Klassifizierung\n",
    "for i, sms in enumerate(test_sms, 1):\n",
    "    response = classify(system_prompt, chat_history, train_sms, sms)\n",
    "    mprint(f\"**Test SMS** #{i}:\")\n",
    "    mprint(sms)\n",
    "    mprint(f\"**Klassifizierung:** {response}\")\n",
    "    print()"
   ]
  },
  {
   "cell_type": "markdown",
   "metadata": {
    "id": "ibm452B-uURM"
   },
   "source": [
    "<p><font color='black' size=\"5\">\n",
    "Namen klassifizieren\n",
    "</font></p>\n",
    "\n",
    "Die Analyse von Wörtern in Texten stellt für künstliche Intelligenz eine interessante Herausforderung dar, besonders bei der Zero-Shot Klassifizierung ohne Trainingsdaten. Hierbei muss das Modell spontan entscheiden, ob ein Wort ein Name oder ein reguläres Wort ist. Im folgenden Text soll getestet werden, ob eine generative KI in der Lage ist, Wörter korrekt in die Kategorien \"Name\" oder \"Nicht-Name\" einzuordnen, ohne zuvor mit ähnlichen Beispielen trainiert worden zu sein. Die zu analysierenden Wörter enthalten sowohl gewöhnliche Begriffe als auch verschiedene Arten von Namen wie Vornamen, Nachnamen oder Firmennamen. Die zentrale Frage lautet: Kann das Modell durch sein grundlegendes Sprachverständnis diese Unterscheidung treffen?"
   ]
  },
  {
   "cell_type": "markdown",
   "metadata": {
    "id": "taGW_e6xvKJM"
   },
   "source": [
    "Nun wird ein Large Language Model (LLM) definiert, das den Text analysiert."
   ]
  },
  {
   "cell_type": "markdown",
   "metadata": {
    "id": "4r8S8zI0ua8U"
   },
   "source": [
    "Letztendlich wird eine einzelne Eingabeaufforderung genutzt, um diese Namen zu identifizieren und zu kategorisieren."
   ]
  },
  {
   "cell_type": "code",
   "execution_count": null,
   "metadata": {
    "id": "BGe0n8gyXL19"
   },
   "outputs": [],
   "source": [
    "# Konstanten definieren\n",
    "system_prompt = \"\"\"\n",
    "Du bist ein präziser Namensextraktor.\n",
    "\n",
    "**Aufgabe:** Extrahiere ausschließlich die Namen aus dem gegebenen Text.\n",
    "\n",
    "**Was zu extrahieren ist:**\n",
    "- Personennamen (Vor- und Nachnamen)\n",
    "- Unternehmensnamen\n",
    "- Produktnamen\n",
    "\n",
    "**Ausgabeformat:**\n",
    "- Ein Name pro Zeile\n",
    "- Keine Nummerierung\n",
    "- Keine Aufzählungszeichen\n",
    "- Keine zusätzlichen Wörter oder Erklärungen\n",
    "- Keine Duplikate\n",
    "\n",
    "**Wichtig:**\n",
    "- Gib NUR die extrahierten Namen aus\n",
    "- Formuliere den Originaltext NICHT um\n",
    "- Füge KEINE weiteren Informationen hinzu\n",
    "\n",
    "**Beispiel:**\n",
    "Input: \"Peter Müller arbeitet bei Apple und entwickelt das iPhone.\"\n",
    "Output:\n",
    "Peter Müller\n",
    "Apple\n",
    "iPhone\n",
    "\"\"\"\n",
    "\n",
    "user_input = \"\"\"\n",
    "Anna und Sarah sind seit dem Studium befreundet. Nach ihrem Abschluss hatten sie ein Vorstellungsgespräch bei Frau Weber für eine Stelle bei der Technovision GmbH, deren Hauptprodukt Futurtech heißt und von der Programmiererin Maria Schmidt entwickelt wurde. Nach dem erfolgreichen Gespräch trafen sie sich mit ihren Freunden Rafael und Aida zum Feiern. An ihrem ersten Arbeitstag lernten sie drei weitere Mitarbeiter kennen: Richard, Lisa und Pia. Später kam noch Matthias Müller zum Team dazu.\n",
    "\"\"\""
   ]
  },
  {
   "cell_type": "code",
   "execution_count": null,
   "metadata": {
    "id": "SIy1p5cogJZc"
   },
   "outputs": [],
   "source": [
    "# Modell definieren\n",
    "model_name = \"gpt-4o-mini\"\n",
    "temperature = 0.0\n",
    "\n",
    "llm = ChatOpenAI(model=model_name, temperature=temperature,max_tokens=100,)\n",
    "\n",
    "# Verkettung\n",
    "chain = prompt | llm | parser"
   ]
  },
  {
   "cell_type": "code",
   "execution_count": null,
   "metadata": {
    "id": "uCnJFJNNXzVE"
   },
   "outputs": [],
   "source": [
    "# Hauptprogramm\n",
    "chat_history = [SystemMessage(content=system_prompt)]\n",
    "\n",
    "# Namen extrahieren und anzeigen\n",
    "parameter = {}\n",
    "parameter['system_prompt'] = system_prompt\n",
    "parameter['chat_history'] = chat_history\n",
    "parameter['user_input'] = user_input\n",
    "response = chain.invoke(parameter)\n",
    "\n",
    "# Ausgabe\n",
    "mprint(\"## 📛 Gefundene Namen:\")\n",
    "mprint(\"---\")\n",
    "print(response)"
   ]
  },
  {
   "cell_type": "markdown",
   "metadata": {
    "id": "HODQfLqHBnUI"
   },
   "source": [
    "# 7 | Textzusammenfassung\n",
    "---"
   ]
  },
  {
   "cell_type": "markdown",
   "metadata": {
    "id": "l-LRWCEb7X-5"
   },
   "source": [
    "Große Sprachmodelle (LLMs) wie GPT-x fassen Texte zusammen, indem sie zentrale Inhalte extrahieren und kompakt wiedergeben. Sie erfassen den Kontext sowie semantische Strukturen und erstellen eine prägnante Version, die die Hauptaussagen erhält. Durch ihre Fähigkeit, verschiedene Textarten zu analysieren – von Fachartikeln bis hin zu narrativen Texten - liefern sie verständliche und relevante Zusammenfassungen. Ihre Flexibilität in Bezug auf Länge und inhaltliche Schwerpunkte macht sie zu einem effizienten Werkzeug für die schnelle Informationsverarbeitung."
   ]
  },
  {
   "cell_type": "markdown",
   "metadata": {
    "id": "l6nozFN3ZmH6"
   },
   "source": [
    "<p><font color='black' size=\"5\">\n",
    "Einzelnes PDF zusammenfassen\n",
    "</font></p>\n",
    "\n",
    "Zunächst wird die Zusammenfassung einer einzelnen PDF-Datei betrachtet. LangChang nutzt spezielle Dokumentlader, um verschiedene Dateiformate wie PDFs zu verarbeiten. Für unterschiedliche Datentypen stehen spezifische Lader zur Verfügung. Im folgenden Code wird eine PDF-Datei geladen und mithilfe einer allgemeinen Systemaufforderung analysiert und zusammengefasst."
   ]
  },
  {
   "cell_type": "markdown",
   "metadata": {
    "id": "OLUWbW7NRp4m"
   },
   "source": [
    "Zunächst wird das PDF-Dokument *Attention Is All You Need* über den **„PyPDFLoader“** von der angegebenen URL (**https://arxiv.org/pdf/1706.03762**) geladen. Anschliessend wird der Text an das LLM übergeben. Schließlich erfolgt die Ausgabe des zusammengefassten Inhalts im **Markdown-Format**, um die ursprüngliche Formatierung beizubehalten."
   ]
  },
  {
   "cell_type": "code",
   "execution_count": null,
   "metadata": {
    "id": "2D7E3xrPL_kv"
   },
   "outputs": [],
   "source": [
    "# Importe LangChain\n",
    "from langchain_openai import ChatOpenAI\n",
    "from langchain_core.messages import HumanMessage, SystemMessage, AIMessage\n",
    "from langchain_core.prompts import ChatPromptTemplate, MessagesPlaceholder\n",
    "from langchain_core.output_parsers.string import StrOutputParser\n",
    "\n",
    "# Importe für Dokument-Verarbeitung\n",
    "from langchain_community.document_loaders import PyPDFLoader, TextLoader\n",
    "from langchain_text_splitters import CharacterTextSplitter\n",
    "from langchain_core.documents import Document"
   ]
  },
  {
   "cell_type": "code",
   "execution_count": null,
   "metadata": {
    "id": "S5mnj65YMOEU"
   },
   "outputs": [],
   "source": [
    "# Chat-Komponenten initialisieren\n",
    "\n",
    "# Chat-Prompt-Template erstellen\n",
    "prompt = ChatPromptTemplate.from_messages([\n",
    "    (\"system\", \"Du bist ein hilfreicher Assistent, der präzise Zusammenfassungen erstellt.\"),\n",
    "    (\"human\", \"\"\"Schreibe eine kurze Zusammenfassung der präsentierten Informationen.\n",
    "    Schreibe die Zusammenfassung auf Deutsch.\n",
    "\n",
    "{user_input}\n",
    "\n",
    "ZUSAMMENFASSUNG:\"\"\")\n",
    "])\n",
    "\n",
    "# Modell definieren\n",
    "model_name = \"gpt-4o-mini\"\n",
    "temperature = 0.0\n",
    "llm = ChatOpenAI(model=model_name, temperature=temperature)\n",
    "\n",
    "# Parser erstellen\n",
    "parser = StrOutputParser()\n",
    "\n",
    "# Verkettung (Chain) erstellen\n",
    "chain = prompt | llm | parser"
   ]
  },
  {
   "cell_type": "code",
   "execution_count": null,
   "metadata": {
    "id": "JRXU3YJoMRSS"
   },
   "outputs": [],
   "source": [
    "# Funktionen definieren\n",
    "def load_document(url: str):\n",
    "    \"\"\"Lädt ein PDF-Dokument von einer URL und splittet es in Chunks\"\"\"\n",
    "    loader = PyPDFLoader(url)\n",
    "    return loader.load_and_split()"
   ]
  },
  {
   "cell_type": "code",
   "execution_count": null,
   "metadata": {
    "id": "reYM_dPCMeLa"
   },
   "outputs": [],
   "source": [
    "# Hauptprogramm\n",
    "url = \"https://arxiv.org/pdf/1706.03762\"\n",
    "\n",
    "# Dokument laden\n",
    "docs = load_document(url)\n",
    "\n",
    "# Alle Chunks zu einem Text zusammenfügen\n",
    "text = \" \".join([doc.page_content for doc in docs])\n",
    "\n",
    "# Zusammenfassung generieren\n",
    "response = chain.invoke({\"user_input\": text})\n",
    "\n",
    "# Ausgabe\n",
    "mprint(\"## ✨ Zusammenfassung:\")\n",
    "mprint(\"---\")\n",
    "mprint(response)"
   ]
  },
  {
   "cell_type": "markdown",
   "metadata": {
    "id": "D3MVbKWNsLL3"
   },
   "source": [
    "<p><font color='black' size=\"5\">\n",
    "Mehrere PDFs zusammenfassen\n",
    "</font></p>\n",
    "\n",
    "Diese vier wissenschaftlichen Arbeiten haben wesentliche Fortschritte im Bereich der generativen KI und der Verarbeitung natürlicher Sprache (NLP) ermöglicht.  \n",
    "\n",
    "1. **\"Attention Is All You Need\" (Vaswani et al., 2017)** führte die **Transformer-Architektur** ein, die sich als grundlegendes Modell für moderne NLP-Systeme etabliert hat. Der Verzicht auf rekurrente Strukturen und die Einführung des Selbstaufmerksamkeitsmechanismus ermöglichten effizientere und leistungsfähigere Modelle wie GPT und BERT.  \n",
    "\n",
    "2. **\"BERT: Pre-training of Deep Bidirectional Transformers for Language Understanding\" (Devlin et al., 2018)** revolutionierte die Kontextverarbeitung in NLP-Modellen durch **bidirektionales Training**, das es ermöglichte, sowohl vorhergehende als auch nachfolgende Wörter gleichzeitig zu analysieren. Dadurch erzielte BERT erhebliche Verbesserungen bei zahlreichen NLP-Aufgaben.  \n",
    "\n",
    "3. **\"Language Models are Few-Shot Learners\" (Brown et al., 2020)** untersuchte das Potenzial **großskalierter Transformer-Modelle** am Beispiel von GPT-3. Die Studie zeigte, dass die Leistung solcher Modelle durch Skalierung verbessert wird und sie auch ohne aufgabenspezifisches Training effektive Ergebnisse liefern können.  \n",
    "\n",
    "4. **\"Exploring the Limits of Transfer Learning with a Unified Text-to-Text Transformer\" (Raffel et al., 2019)** präsentierte **T5 (Text-to-Text Transfer Transformer)**, ein Modell, das alle NLP-Aufgaben in ein einheitliches Text-zu-Text-Format überführt. Dadurch wurde das Transferlernen zwischen verschiedenen Aufgaben vereinfacht.  \n",
    "\n",
    "Diese Arbeiten bilden zusammen die Grundlage für viele moderne NLP-Modelle und deren Anwendungen in generativer KI."
   ]
  },
  {
   "cell_type": "code",
   "execution_count": null,
   "metadata": {
    "id": "hq4d3S0Xo5Nv"
   },
   "outputs": [],
   "source": [
    "# Hauptprogramm\n",
    "urls = [\n",
    "    \"https://arxiv.org/pdf/1706.03762\",\n",
    "    \"https://arxiv.org/pdf/1810.04805\",\n",
    "    \"https://arxiv.org/pdf/2005.14165\",\n",
    "    \"https://arxiv.org/pdf/1910.10683\"\n",
    "]\n",
    "\n",
    "# Liste für Sammlung der Summaries initialisieren\n",
    "summaries = []\n",
    "\n",
    "for url in urls:\n",
    "    # Dokumente laden und als String formatieren\n",
    "    print(f\"Verarbeite Artikel: {url}\")\n",
    "    docs = load_document(url)\n",
    "    text = \" \".join([doc.page_content for doc in docs])\n",
    "\n",
    "    # LLM aufrufen und Zusammenfassung erstellen\n",
    "    response = chain.invoke({\"user_input\": text})\n",
    "\n",
    "    # Zusammenfassungen sammeln\n",
    "    summaries.append(response)\n",
    "\n",
    "    # Zusammenfassung ausgeben\n",
    "    mprint(\"## ✨ Zusammenfassung:\")\n",
    "    mprint(\"---\")\n",
    "    mprint(response)\n",
    "    print()"
   ]
  },
  {
   "cell_type": "markdown",
   "metadata": {
    "id": "QE79kzVUTZ15"
   },
   "source": [
    "Nachdem die einzelnen Artikel zusammengefasst wurden, folgt die Erstellung einer übergreifenden Übersicht durch die Kombination dieser Zusammenfassungen. Hierfür werden die Texte zunächst zu einer langen Zeichenfolge zusammengeführt.  \n",
    "\n",
    "Das Endergebnis wird im **Markdown-Format** ausgegeben, um eine klare Struktur und Lesbarkeit zu gewährleisten. Auf diese Weise entsteht eine prägnante, aber inhaltlich umfassende Synthese der Originalartikel."
   ]
  },
  {
   "cell_type": "code",
   "execution_count": null,
   "metadata": {
    "id": "_cUtG7B_WZpb"
   },
   "outputs": [],
   "source": [
    "# Gesamtzusammenfassung erstellen\n",
    "gesamt_text = \" \".join(summaries)\n",
    "response = chain.invoke({\"user_input\": gesamt_text})\n",
    "\n",
    "mprint(\"## ✨ Gesamt-Zusammenfassung:\")\n",
    "mprint(\"---\")\n",
    "mprint(response)"
   ]
  },
  {
   "cell_type": "markdown",
   "metadata": {
    "id": "x1Wb0diiB1yO"
   },
   "source": [
    "# 8 | LLM schreibt ein Buch\n",
    "---"
   ]
  },
  {
   "cell_type": "markdown",
   "metadata": {
    "id": "VPzcHtnM7k-f"
   },
   "source": [
    "**Dieser** Abschnitt zeigt, wie ein Large Language Model (LLM) beim Schreiben eines Buches genutzt werden kann. Da ein Buch eine komplexe, langfristige Aufgabe darstellt, erfolgt der Prozess schrittweise.  \n",
    "\n",
    "Zunächst wird ein **Thema** gewählt, auf dessen Basis das LLM einen Titel und eine kurze **Zusammenfassung** erstellt. Diese Zusammenfassung dient als inhaltlicher Leitfaden. Anschließend wird ein **Inhaltsverzeichnis** generiert, das die Kapitel und Abschnitte strukturiert.  \n",
    "\n",
    "Jedes **Kapitel** wird in separaten Sitzungen mit dem LLM ausgearbeitet, wobei die zuvor erstellte Gliederung zur Orientierung dient. Dieser iterative Ansatz gewährleistet Konsistenz und ermöglicht eine detaillierte Ausarbeitung.  \n",
    "\n",
    "Durch eine methodische Vorgehensweise verwandelt sich eine anfängliche Idee in ein gut strukturiertes Buch. Für kreative Ergebnisse wird ein Sprachmodell mit einer Temperatur von 0,7 verwendet."
   ]
  },
  {
   "cell_type": "code",
   "execution_count": null,
   "metadata": {
    "id": "_Vn1VtpB4xB7"
   },
   "outputs": [],
   "source": [
    "# Die Zeile installiert das Programm wkhtmltopdf, das HTML in PDF umwandelt.\n",
    "# Alle Ausgaben und Fehler werden dabei unterdrückt.\n",
    "!sudo apt-get install -qq -y wkhtmltopdf > /dev/null 2>&1"
   ]
  },
  {
   "cell_type": "code",
   "execution_count": null,
   "metadata": {
    "id": "o0SHZTYMbvZW"
   },
   "outputs": [],
   "source": [
    "# Importe LangChain\n",
    "from langchain_openai import ChatOpenAI\n",
    "from langchain_core.messages import HumanMessage, SystemMessage, AIMessage\n",
    "from langchain_core.prompts import ChatPromptTemplate, MessagesPlaceholder\n",
    "from langchain_core.output_parsers.string import StrOutputParser\n",
    "\n",
    "# Importe Text-Aufbereitung\n",
    "import markdown\n",
    "import pdfkit\n",
    "import markdown2\n",
    "from weasyprint import HTML, CSS"
   ]
  },
  {
   "cell_type": "code",
   "execution_count": null,
   "metadata": {
    "id": "G1dJuKbIYQLv"
   },
   "outputs": [],
   "source": [
    "# Konstanten definieren\n",
    "system_prompt = \"\"\"\n",
    "Du bist ein kreativer Autor und Schriftsteller.\n",
    "\n",
    "Deine Texte sind:\n",
    "- Fesselnd und gut strukturiert\n",
    "- Reich an Details und Beschreibungen\n",
    "- Konsistent im Stil und der Erzählweise\n",
    "- Mit klarer Handlung und Charakterentwicklung\n",
    "- In ansprechendem Deutsch verfasst\n",
    "\n",
    "Bei deinem Schreiben:\n",
    "- Entwickelst du überzeugende Charaktere\n",
    "- Erschaffst atmosphärische Szenen\n",
    "- Behältst den roten Faden bei\n",
    "- Verwendest kreative Sprachbilder\n",
    "- Achtest auf Spannung und Dynamik\n",
    "- Schreibe im Stil von Douglas Adams\n",
    "\n",
    "Halte dich streng an die Anweisungen im user-prompt.\n",
    "\"\"\""
   ]
  },
  {
   "cell_type": "code",
   "execution_count": null,
   "metadata": {
    "id": "KabM_QhQolc_"
   },
   "outputs": [],
   "source": [
    "# EINFACHES ChatPromptTemplate ohne Historie\n",
    "prompt = ChatPromptTemplate.from_messages([\n",
    "    (\"system\", \"{system_prompt}\"),\n",
    "    (\"human\", \"{user_input}\")\n",
    "])"
   ]
  },
  {
   "cell_type": "code",
   "execution_count": null,
   "metadata": {
    "id": "aSLjURBzYTbN"
   },
   "outputs": [],
   "source": [
    "# Chat-Komponenten initialisieren\n",
    "model_name = \"gpt-4\"\n",
    "temperature = 1.0\n",
    "\n",
    "llm = ChatOpenAI(model=model_name, temperature=temperature)"
   ]
  },
  {
   "cell_type": "code",
   "execution_count": null,
   "metadata": {
    "id": "tZf2ItfkfP2C"
   },
   "outputs": [],
   "source": [
    "# Output Parser\n",
    "parser = StrOutputParser()"
   ]
  },
  {
   "cell_type": "code",
   "execution_count": null,
   "metadata": {
    "id": "nwSidzgAfVsS"
   },
   "outputs": [],
   "source": [
    "# Chain-Erstellung\n",
    "chain = prompt | llm | parser"
   ]
  },
  {
   "cell_type": "markdown",
   "metadata": {
    "id": "k5D_R3w8B1yj"
   },
   "source": [
    "Einfache Hilfsfunktionen werden implementiert, um das LLM mit einer benutzerdefinierten Systemaufforderung zu befragen. Diese Aufforderung informiert das Modell darüber, dass es beim Schreiben eines Buches assistiert."
   ]
  },
  {
   "cell_type": "markdown",
   "metadata": {
    "id": "FOWb0XT7RlYg"
   },
   "source": [
    "\n",
    "<p><font color='black' size=\"5\">\n",
    "Titel, Synopse, Inhaltsverzeichnis\n",
    "</font></p>\n",
    "\n",
    "Für dieses Buch kann der Benutzer das Thema über die Variable `SUBJECT` festlegen. Anschließend wird das LLM angewiesen, einen zufälligen Titel basierend auf diesem Thema zu generieren. Dabei wird darauf geachtet, dass die Eingabeaufforderung präzise formuliert ist, um zu vermeiden, dass das LLM zusätzliche Einleitungen wie „Hier ist ein zufälliger Titel“ hinzufügt."
   ]
  },
  {
   "cell_type": "markdown",
   "metadata": {
    "id": "FdqpXU2lwwg2"
   },
   "source": [
    "<p><font color='black' size=\"5\">\n",
    "Titel\n",
    "</font></p>"
   ]
  },
  {
   "cell_type": "code",
   "execution_count": null,
   "metadata": {
    "id": "99gaAOUQl6yf"
   },
   "outputs": [],
   "source": [
    "num_chapters = 6                        # Anzahl der Kapitel\n",
    "subject = \"Sci-Fi Fantasy Thriller\"     # Genre/Themenbereich\n",
    "user_input = f\"\"\"\n",
    "Erstelle einen zufälligen Titel für ein Buch zum Thema {subject}. Gebe nur den Titel als Antwort zurück.\n",
    "\"\"\""
   ]
  },
  {
   "cell_type": "code",
   "execution_count": null,
   "metadata": {
    "id": "YYclUgtFwGka"
   },
   "outputs": [],
   "source": [
    "parameter = {}\n",
    "parameter['system_prompt'] = system_prompt\n",
    "parameter['user_input'] = user_input\n",
    "response_titel = chain.invoke(parameter)\n",
    "\n",
    "mprint(\"## ✨ Titel:\")\n",
    "mprint(\"---\")\n",
    "mprint(response_titel)"
   ]
  },
  {
   "cell_type": "markdown",
   "metadata": {
    "id": "yqW_R2qaw8dG"
   },
   "source": [
    "<p><font color='black' size=\"5\">\n",
    "Synopsis\n",
    "</font></p>"
   ]
  },
  {
   "cell_type": "markdown",
   "metadata": {
    "id": "fXyOF_oYtMlR"
   },
   "source": [
    "Nachdem der Titel festgelegt wurde, kann nun eine zufällige Zusammenfassung des Buches generiert werden. Diese gibt eine erste inhaltliche Orientierung und dient als Grundlage für die weitere Strukturierung."
   ]
  },
  {
   "cell_type": "code",
   "execution_count": null,
   "metadata": {
    "id": "0T1RtoW4ucFP"
   },
   "outputs": [],
   "source": [
    "user_input = f\"\"\"\n",
    "Gebe mir eine Inhaltsangabe für ein Buch \"{response_titel}\" zum Thema \"{subject}\"\n",
    "Gebe nur die Inhaltsangabe zurück, keinen zusätzlichen Text.\n",
    "\"\"\""
   ]
  },
  {
   "cell_type": "code",
   "execution_count": null,
   "metadata": {
    "id": "S34GrfxewNM5"
   },
   "outputs": [],
   "source": [
    "parameter = {}\n",
    "parameter['system_prompt'] = system_prompt\n",
    "parameter['user_input'] = user_input\n",
    "response_synopsis = chain.invoke(parameter)\n",
    "\n",
    "mprint(\"## ✨ Synopsis:\")\n",
    "mprint(\"---\")\n",
    "mprint(response_synopsis)"
   ]
  },
  {
   "cell_type": "markdown",
   "metadata": {
    "id": "8OcaatblxBHu"
   },
   "source": [
    "<p><font color='black' size=\"5\">\n",
    "Inhaltsverzeichnis\n",
    "</font></p>"
   ]
  },
  {
   "cell_type": "markdown",
   "metadata": {
    "id": "U6ju-lJEttjw"
   },
   "source": [
    "Nun wird das Inhaltsverzeichnis erstellt, wobei alle zuvor generierten Informationen berücksichtigt werden. Ein spezifisches Format wird vorgegeben, um eine klare Struktur zu gewährleisten. Obwohl die Kapitelnummern leicht ableitbar wären, werden sie explizit angefordert, da das LLM sie ohnehin bereitstellen möchte. Der Ansatz erleichtert eine konsistente Struktur und ermöglicht es, die Nummerierung später gezielt zu entfernen, falls erforderlich."
   ]
  },
  {
   "cell_type": "code",
   "execution_count": null,
   "metadata": {
    "id": "1kOgwrhjvPKH"
   },
   "outputs": [],
   "source": [
    "user_input = f\"\"\"\n",
    "Gebe mir ein Inhaltsverzeichnis für ein Buch mit dem Titel \"{response_titel}\"\n",
    "für ein Buch zum Thema {subject}. Die Buchzusammenfassung lautet \"{response_synopsis}\".\n",
    "Gebe das Inhaltsverzeichnis als Liste von Kapitelüberschriften zurück.\n",
    "Erstelle nicht mehr als {num_chapters} Kapitel.\n",
    "Trenne Kapitelnummer und Kapitelüberschrift mit einem Pipe-Zeichen '|'.\n",
    "Gebe nur die Kapitelnamen zurück, keinen zusätzlichen Text.\n",
    "\"\"\""
   ]
  },
  {
   "cell_type": "code",
   "execution_count": null,
   "metadata": {
    "id": "qEx8z_D-wf22"
   },
   "outputs": [],
   "source": [
    "parameter = {}\n",
    "parameter['system_prompt'] = system_prompt\n",
    "parameter['user_input'] = user_input\n",
    "response_toc = chain.invoke(parameter)\n",
    "\n",
    "mprint(\"## ✨ Inhaltsverzeichnis:\")\n",
    "mprint(\"---\")\n",
    "mprint(response_toc)"
   ]
  },
  {
   "cell_type": "markdown",
   "metadata": {
    "id": "vMXLYGi_RxNp"
   },
   "source": [
    "\n",
    "<p><font color='black' size=\"5\">\n",
    "Erstellen der Kapitel des Buches\n",
    "</font></p>\n",
    "\n",
    "\n",
    "Nun wird eine Funktion erstellt, die den Text eines Kapitels generiert. Damit das LLM über ausreichend Kontext verfügt, werden die Zusammenfassung, das Inhaltsverzeichnis und die entsprechende Kapitelnummer übergeben."
   ]
  },
  {
   "cell_type": "code",
   "execution_count": null,
   "metadata": {
    "id": "O4OQUIubzHS7"
   },
   "outputs": [],
   "source": [
    "# Aufbereitung Inhaltsverzeichnis, Titel & initialisieren String für Buchinhalt\n",
    "titel_liste = [zeile for zeile in response_toc.strip().split('\\n')]\n",
    "response_titel = response_titel.replace('\"', '')\n",
    "book_content = f\"# {response_titel} \\n ---\\n\\n\""
   ]
  },
  {
   "cell_type": "code",
   "execution_count": null,
   "metadata": {
    "id": "S_78_a7cxV9t"
   },
   "outputs": [],
   "source": [
    "# NEUES ChatPromptTemplate für die iterative Erstellung der Kapitel\n",
    "book_prompt = ChatPromptTemplate.from_messages([\n",
    "    (\"system\", system_prompt),\n",
    "    (\"user\", \"\"\"\n",
    "Schreibe Kapitel mit dem Titel {chapter_title} für ein Buch\n",
    "mit dem Titel {title} zum Thema {subject}.\n",
    "Die Buchzusammenfassung lautet: {synopsis}\n",
    "Das Inhaltsverzeichnis lautet: {toc}\n",
    "\n",
    "Gebe nur den Kapiteltext zurück, keine Kapitelüberschrift, keinen Kapiteltitel,\n",
    "keine Kapitelnummer, keinen zusätzlichen Text.\n",
    "\"\"\")\n",
    "])"
   ]
  },
  {
   "cell_type": "code",
   "execution_count": null,
   "metadata": {
    "id": "untQaaWMytM-"
   },
   "outputs": [],
   "source": [
    "# Iteration über alle Kapitel mit automatischer Nummerierung\n",
    "mprint(\"### Kapitel erstellen\")\n",
    "mprint(\"---\")\n",
    "\n",
    "for chapter_titel in titel_liste:\n",
    "\n",
    "    # Formatierung des Prompts mit aktuellen Werten anstelle f-String oben\n",
    "    user_input = book_prompt.format_messages(\n",
    "        chapter_title=chapter_titel,\n",
    "        title=response_titel,\n",
    "        subject=subject,\n",
    "        synopsis=response_synopsis,\n",
    "        toc=response_toc\n",
    "    )\n",
    "\n",
    "    # Generierung des Kapitelinhalts\n",
    "    parameter = {}\n",
    "    parameter['system_prompt'] = system_prompt\n",
    "    parameter['user_input'] = user_input\n",
    "    response_content = chain.invoke(parameter)\n",
    "\n",
    "    # Hinzufügen des Kapitels zum Buchinhalt\n",
    "    book_content += f\"\\n## {chapter_titel}\\n{response_content}\\n\"\n",
    "    mprint(f\"✓ {chapter_titel}\")\n",
    "\n",
    "mprint(\"\\n---\")\n",
    "mprint(f\"### ✨ Buch '{response_titel}' erfolgreich erstellt!\")"
   ]
  },
  {
   "cell_type": "markdown",
   "metadata": {
    "id": "PX15vegM6cX-"
   },
   "source": [
    "<p><font color='black' size=\"5\">\n",
    "PDF-Datei erstellen\n",
    "</font></p>"
   ]
  },
  {
   "cell_type": "code",
   "execution_count": null,
   "metadata": {
    "id": "EHKoEj0K7Ev7"
   },
   "outputs": [],
   "source": [
    "# FontTools-Logging auf WARNING setzen (unterdrückt DEBUG und INFO)\n",
    "import logging\n",
    "logging.getLogger('fontTools').setLevel(logging.WARNING)\n",
    "logging.getLogger('fontTools.subset').setLevel(logging.WARNING)\n",
    "logging.getLogger('fontTools.ttLib').setLevel(logging.WARNING)"
   ]
  },
  {
   "cell_type": "code",
   "execution_count": null,
   "metadata": {
    "id": "ZehM5Fjc65y_"
   },
   "outputs": [],
   "source": [
    "# Markdown → HTML → PDF\n",
    "html = f\"\"\"\n",
    "<!DOCTYPE html>\n",
    "<html>\n",
    "<head>\n",
    "    <meta charset=\"utf-8\">\n",
    "    <style>\n",
    "        @page {{\n",
    "            size: A4;\n",
    "            margin: 25mm 20mm 30mm 20mm;\n",
    "\n",
    "            @bottom-center {{\n",
    "                content: \"Seite \" counter(page) \" von \" counter(pages);\n",
    "                font-size: 10pt;\n",
    "                font-family: DejaVu Sans, sans-serif;\n",
    "            }}\n",
    "        }}\n",
    "        body {{\n",
    "            font-family: \"DejaVu Sans\", sans-serif;\n",
    "            font-size: 12pt;\n",
    "        }}\n",
    "    </style>\n",
    "</head>\n",
    "<body>\n",
    "{markdown2.markdown(book_content)}\n",
    "</body>\n",
    "</html>\n",
    "\"\"\"\n",
    "\n",
    "# PDF erzeugen\n",
    "HTML(string=html).write_pdf(\"my_book.pdf\")"
   ]
  },
  {
   "cell_type": "markdown",
   "metadata": {
    "id": "NTsMT8sYYh6C"
   },
   "source": [
    "Das generierte Buch steht nun zum Download bereit."
   ]
  },
  {
   "cell_type": "code",
   "execution_count": null,
   "metadata": {
    "id": "pqcpXCsABZZo"
   },
   "outputs": [],
   "source": [
    "from google.colab import files\n",
    "files.download(\"my_book.pdf\")"
   ]
  },
  {
   "cell_type": "markdown",
   "metadata": {
    "id": "ikTJEPGqN9IH"
   },
   "source": [
    "# A | Aufgabe\n",
    "---"
   ]
  },
  {
   "cell_type": "markdown",
   "metadata": {
    "id": "eGjopsS35P_r"
   },
   "source": [
    "Die Aufgabestellungen unten bieten Anregungen, Sie können aber auch gerne eine andere Herausforderung angehen."
   ]
  },
  {
   "cell_type": "markdown",
   "metadata": {
    "id": "lzlpv_R4OHPR"
   },
   "source": [
    "\n",
    "<p><font color='black' size=\"5\">\n",
    "Sentiment-Analyse von Produktbewertungen mit LLM Zero-Shot-Klassifizierung\n",
    "</font></p>\n",
    "\n",
    "**Aufgabenstellung**\n",
    "Entwickeln Sie ein Python-Programm, das mithilfe eines Large Language Models (LLM) Produktbewertungen in die Kategorien \"Positiv\", \"Neutral\" oder \"Negativ\" einordnet und zusätzlich die betroffenen Produktaspekte (Qualität, Preis, Lieferung, Service) identifiziert.\n",
    "\n",
    "**Lernziele**\n",
    "Nach Abschluss dieser Übung können Sie:\n",
    "- Zero-Shot-Klassifizierung für mehrere Kategorien implementieren\n",
    "- Aspekt-basierte Sentiment-Analyse durchführen\n",
    "- Komplexe Prompts für Mehrfachklassifizierung erstellen\n",
    "- Strukturierte Ausgaben aus LLM-Antworten generieren\n",
    "\n",
    "**Aufgabendetails**\n",
    "\n",
    "```python\n",
    "# Beispieldaten\n",
    "reviews = [\n",
    "    \"Die Qualität des Produkts ist hervorragend, allerdings finde ich den Preis zu hoch.\",\n",
    "    \"Schnelle Lieferung, guter Service, faire Preise - besser geht es nicht!\",\n",
    "    \"Nach zwei Wochen ging das Gerät kaputt. Der Kundenservice war bei der Reklamation leider keine Hilfe.\",\n",
    "    \"Durchschnittliche Qualität, erfüllt seinen Zweck. Lieferung dauerte etwas länger als angegeben.\"\n",
    "]\n",
    "```"
   ]
  },
  {
   "cell_type": "markdown",
   "metadata": {
    "id": "5gffAlWTOwXS"
   },
   "source": [
    "**Beispiel-Prompt**\n",
    "```\n",
    "Analysiere die folgende Produktbewertung hinsichtlich:\n",
    "1. Gesamtsentiment (Positiv/Neutral/Negativ)\n",
    "2. Erwähnte Produktaspekte (Qualität/Preis/Lieferung/Service)\n",
    "3. Sentiment pro Aspekt\n",
    "\n",
    "Bewertung: {review}\n",
    "\n",
    "Antworte im Format:\n",
    "Gesamtsentiment: [Kategorie]\n",
    "Identifizierte Aspekte:\n",
    "- [Aspekt]: [Sentiment]\n",
    "Begründung: [Analyse]\n",
    "```"
   ]
  }
 ],
 "metadata": {
  "colab": {
   "collapsed_sections": [
    "dXyUNJDNOh5U",
    "pC9A-LaYhsta",
    "7atawInd9okS",
    "aQqiPx-V3Kio",
    "J_6EHVIcBe0Q",
    "TgfPV_aXBuv9",
    "HODQfLqHBnUI",
    "x1Wb0diiB1yO",
    "ikTJEPGqN9IH"
   ],
   "provenance": [],
   "toc_visible": true
  },
  "kernelspec": {
   "display_name": "Python 3",
   "name": "python3"
  },
  "language_info": {
   "name": "python"
  }
 },
 "nbformat": 4,
 "nbformat_minor": 0
}