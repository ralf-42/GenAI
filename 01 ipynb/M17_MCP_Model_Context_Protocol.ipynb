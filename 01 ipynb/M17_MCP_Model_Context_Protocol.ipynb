{
 "cells": [
  {
   "cell_type": "markdown",
   "metadata": {
    "id": "Ih2CTVBnArVZ"
   },
   "source": [
    "![My Image](https://raw.githubusercontent.com/ralf-42/Image/main/genai-banner-2.jpg)"
   ],
   "id": "Ih2CTVBnArVZ"
  },
  {
   "cell_type": "markdown",
   "metadata": {
    "id": "6jJZ7wbdArVc"
   },
   "source": [
    "<p><font size=\"5\" color='grey'> <b>\n",
    "MCP - Model Context Protocol\n",
    "</b></font> </br></p>\n",
    "\n",
    "\n",
    "---"
   ],
   "id": "6jJZ7wbdArVc"
  },
  {
   "cell_type": "code",
   "execution_count": null,
   "id": "1635db0c",
   "metadata": {
    "id": "1635db0c"
   },
   "outputs": [],
   "source": [
    "#@title 🔧 Umgebung einrichten{ display-mode: \"form\" }\n",
    "!uv pip install --system -q git+https://github.com/ralf-42/Python_Modules\n",
    "from genai_lib.utilities import check_environment, get_ipinfo, setup_api_keys, mprint, install_packages\n",
    "setup_api_keys(['OPENAI_API_KEY', 'HF_TOKEN'], create_globals=False)\n",
    "print()\n",
    "check_environment()\n",
    "print()\n",
    "get_ipinfo()"
   ]
  },
  {
   "cell_type": "markdown",
   "id": "9690c530",
   "metadata": {
    "lines_to_next_cell": 0,
    "id": "9690c530"
   },
   "source": [
    "# 1 | Intro\n",
    "---"
   ]
  },
  {
   "cell_type": "markdown",
   "source": [
    "<p><font color='black' size=\"5\">\n",
    "Was ist MCP?\n",
    "</font></p>\n",
    "\n",
    "\n",
    "\n",
    "Ein Protokoll ist ein Regelwerk, das bestimmt, wie zwei Systeme miteinander kommunizieren. Protokolle regeln die Datenübertragung in Computernetzwerken, bei der Internetkommunikation und zwischen Softwaresystemen.\n",
    "\n",
    "**Zum Beispiel:**\n",
    "\n",
    "+ HTTP (Hypertext Transfer Protocol): Ermöglicht Websites die Kommunikation mit Browsern.\n",
    "+ TCP/IP (Transmission Control Protocol/Internetprotokoll): Definiert, wie Datenpakete im Internet geroutet werden.\n",
    "+ JSON-RPC (Aufrufen von Remoteprozeduren): Ein Protokoll, das den Datenaustausch im JSON-Format ermöglicht.    \n",
    "\n",
    "Das **Model Context Protocol (MCP)** ist ein offenes Protokoll, das es großen Sprachmodellen (LLMs) ermöglicht, sich auf standardisierte Weise in externe Datenquellen und Tools zu integrieren. Dieses von Anthropic entwickelte Protokoll macht es KI-Modellen leicht, nahtlos mit einer Vielzahl von Tools und Datenquellen zusammenzuarbeiten.\n",
    "\n",
    "Es soll die Interaktion von KI-Modellen, insbesondere Large Language Models (LLMs) und autonomen Agenten, mit externen Datenquellen und Tools zu **standardisieren und zu vereinfachen**. Ziel ist es, einen **einheitlichen Rahmen** zu schaffen, der es KI-Agenten ermöglicht, auf strukturierte Daten aus verschiedenen Quellen wie Datenbanken, APIs, Cloud-Speicher und Unternehmensanwendungen auf standardisierte Weise zuzugreifen, diese zu verarbeiten und darauf zu reagieren, **ohne dass für jede Quelle spezifische API-Integrationen erforderlich sind**.\n",
    "\n",
    "**Wichtige Ressourcen:**\n",
    "\n",
    "[Anthropic MCP](https://www.anthropic.com/news/model-context-protocol)\n",
    "\n",
    "[OpenAI MCP](https://openai.github.io/openai-agents-python/mcp/)\n",
    "\n",
    "[MCPServer](https://github.com/modelcontextprotocol/servers)\n",
    "\n"
   ],
   "metadata": {
    "id": "t7OvrCuL2paV"
   },
   "id": "t7OvrCuL2paV"
  },
  {
   "cell_type": "markdown",
   "source": [
    "<p><font color='black' size=\"5\">\n",
    "Warum wurde MCP entwickelt?\n",
    "</font></p>\n",
    "\n",
    "\n",
    "Die Notwendigkeit von MCP ergibt sich aus den **Ineffizienzen und Herausforderungen** aktueller KI-API-Interaktionen. Derzeit ist der Aufbau von KI-Agenten, die Daten aus verschiedenen Quellen abrufen, **fragmentiert, repetitiv und schwer zu skalieren**. Jedes Tool spricht seine eigene Sprache und erfordert **individuelle Integrationen**. MCP zielt darauf ab, diese Komplexität zu reduzieren und den **Entwicklungsaufwand zu minimieren**.\n",
    "\n"
   ],
   "metadata": {
    "id": "KQvx-0cH27HC"
   },
   "id": "KQvx-0cH27HC"
  },
  {
   "cell_type": "markdown",
   "source": [
    "\n",
    "<p><font color='black' size=\"5\">\n",
    "MCP-Architektur\n",
    "</font></p>"
   ],
   "metadata": {
    "id": "lY97eezl28tt"
   },
   "id": "lY97eezl28tt"
  },
  {
   "cell_type": "markdown",
   "source": [
    "[MCP Architektur](https://editor.p5js.org/ralf.bendig.rb/full/zyklSMVB_)\n",
    "\n"
   ],
   "metadata": {
    "id": "g4qPZx7o4fnm"
   },
   "id": "g4qPZx7o4fnm"
  },
  {
   "cell_type": "markdown",
   "source": [
    "<img src=\"https://raw.githubusercontent.com/ralf-42/Image/main/mcp_architektur.png\" class=\"logo\" width=\"700\"/>\n",
    "\n",
    "\n"
   ],
   "metadata": {
    "id": "SskrtBoRKFZ1"
   },
   "id": "SskrtBoRKFZ1"
  },
  {
   "cell_type": "markdown",
   "source": [
    "\n",
    "\n",
    "MCP verwendet eine Client-Server-Architektur mit drei Hauptkomponenten:\n",
    "\n",
    "**1. MCP-Client (AI-Assistent)**\n",
    "- Sendet Anfragen an MCP-Server\n",
    "- Verarbeitet erhaltene Daten\n",
    "- Integriert externe Informationen in Antworten\n",
    "\n",
    "**2. MCP-Server (Connector)**\n",
    "- Stellt Schnittstelle zu externen Systemen bereit\n",
    "- Implementiert Sicherheitsrichtlinien\n",
    "- Transformiert Daten zwischen verschiedenen Formaten\n",
    "\n",
    "**3. Externe Ressourcen**\n",
    "- Datenbanken, APIs, Dateisysteme\n",
    "- Berechnungstools und Analysesoftware\n",
    "- Cloud-Services und lokale Anwendungen\n",
    "\n",
    "**Kommunikationsfluss:**\n",
    "```\n",
    "AI-Assistent → MCP-Client → MCP-Server → Externe Ressource\n",
    "                    ↓            ↓            ↓\n",
    "    Antwort    ←  JSON/HTTP  ←  Daten-API  ←  Raw Data\n",
    "```\n",
    "\n"
   ],
   "metadata": {
    "id": "VkzHx9wM5WeQ"
   },
   "id": "VkzHx9wM5WeQ"
  },
  {
   "cell_type": "markdown",
   "source": [
    "\n",
    "<p><font color='black' size=\"5\">\n",
    "Praktische Implementierung\n",
    "</font></p>\n",
    "\n",
    "Die Implementierung von MCP erfolgt schrittweise:"
   ],
   "metadata": {
    "id": "sZzTBHMO2-fL"
   },
   "id": "sZzTBHMO2-fL"
  },
  {
   "cell_type": "markdown",
   "id": "7661ebfb",
   "metadata": {
    "lines_to_next_cell": 0,
    "id": "7661ebfb"
   },
   "source": [
    "**1. Server-Konfiguration**\n",
    "- Definition der verfügbaren Ressourcen\n",
    "- Sicherheitsrichtlinien festlegen\n",
    "- Authentifizierung konfigurieren\n",
    "\n",
    "**2. Client-Integration**\n",
    "- Verbindung zum MCP-Server herstellen\n",
    "- Verfügbare Tools und Datenquellen erkunden\n",
    "- Anfragen formulieren und Antworten verarbeiten\n",
    "\n",
    "**3. Testing und Deployment**\n",
    "- Funktionalitätstests durchführen\n",
    "- Performance optimieren\n",
    "- Produktionsumgebung einrichten\n",
    "\n"
   ]
  },
  {
   "cell_type": "markdown",
   "source": [
    "\n",
    "<p><font color='black' size=\"5\">\n",
    "MCP vs. andere Ansätze\n",
    "</font></p>\n",
    "\n",
    "**MCP vs. Function Calling - Der entscheidende Unterschied:**\n",
    "\n",
    "Der Hauptunterschied liegt in der **Architektur und Standardisierung**:\n",
    "\n",
    "**Function Calling (z.B. OpenAI):**"
   ],
   "metadata": {
    "id": "K5yMRwGx3LaR"
   },
   "id": "K5yMRwGx3LaR"
  },
  {
   "cell_type": "markdown",
   "source": [
    "```Python\n",
    "# Direkte Integration im AI-System\n",
    "tools = [\n",
    "    {\n",
    "        \"type\": \"function\",\n",
    "        \"function\": {\n",
    "            \"name\": \"read_file\",\n",
    "            \"description\": \"Reads a file\",\n",
    "            \"parameters\": {\"type\": \"object\", \"properties\": {...}}\n",
    "        }\n",
    "    }\n",
    "]\n",
    "response = openai.chat.completions.create(model=\"gpt-4\", tools=tools)\n",
    "```"
   ],
   "metadata": {
    "id": "a591a6cb"
   },
   "id": "a591a6cb"
  },
  {
   "cell_type": "markdown",
   "metadata": {
    "lines_to_next_cell": 0,
    "id": "SWyFYE_Qpk-V"
   },
   "source": [
    "**MCP (Model Context Protocol):**"
   ],
   "id": "SWyFYE_Qpk-V"
  },
  {
   "cell_type": "markdown",
   "source": [
    "```Python\n",
    "# Standardisierte Server-Client-Architektur\n",
    "request = {\n",
    "    \"jsonrpc\": \"2.0\",\n",
    "    \"method\": \"tools/call\",\n",
    "    \"params\": {\"name\": \"read_file\", \"arguments\": {...}}\n",
    "}\n",
    "response = await handle_mcp_request(request)\n",
    "```"
   ],
   "metadata": {
    "id": "T_qmBlyGpmz4"
   },
   "id": "T_qmBlyGpmz4"
  },
  {
   "cell_type": "markdown",
   "id": "b3cdc3f1",
   "metadata": {
    "id": "b3cdc3f1"
   },
   "source": [
    "**Detaillierter Vergleich:**\n",
    "\n",
    "| Aspekt | MCP | Function Calling | RAG | Custom APIs |\n",
    "|--------|-----|------------------|-----|-------------|\n",
    "| **Architektur** | Client-Server | Direkt integriert | Pipeline-basiert | Individuell |\n",
    "| **Standardisierung** | ✅ Offenes Protokoll | ❌ Modell-spezifisch | ❌ Framework-abhängig | ❌ Individuell |\n",
    "| **Wiederverwendbarkeit** | ✅ Server für alle AIs | ❌ Pro AI-System | ⚠️ Begrenzt | ❓ Variabel |\n",
    "| **Setup-Aufwand** | 🟡 Moderat | 🟢 Niedrig | 🟡 Moderat | 🔴 Hoch |\n",
    "| **Enterprise-Ready** | ✅ Vollständig | ⚠️ Begrenzt | 🟡 Teilweise | ❓ Variabel |\n",
    "| **Sicherheit** | ✅ Integrierte Kontrollen | ⚠️ Basic | ⚠️ Dokumenten-basiert | ❓ Variabel |\n",
    "| **Bidirektional** | ✅ Lesen & Schreiben | ✅ Ja | ❌ Nur Lesen | ✅ Ja |\n",
    "| **Echtzeit** | ✅ Live-Daten | ✅ Ja | ❌ Statische Docs | ✅ Ja |\n",
    "| **Skalierung** | ✅ Einfach | 🔴 Schwierig | 🟡 Moderat | ❓ Variabel |\n",
    "\n",
    "**Praktische Entscheidungshilfe:**\n",
    "\n",
    "**Function Calling verwenden für:**\n",
    "- ✅ Prototyping und schnelle Tests\n",
    "- ✅ Einfache, direkte Tool-Integration\n",
    "- ✅ Ein AI-System mit wenigen Tools\n",
    "- ✅ Schneller Entwicklungsstart\n",
    "\n",
    "**MCP verwenden für:**\n",
    "- ✅ Enterprise-Anwendungen\n",
    "- ✅ Mehrere AI-Systeme mit geteilten Tools\n",
    "- ✅ Sicherheitskritische Umgebungen\n",
    "- ✅ Langfristige, skalierbare Architekturen\n",
    "- ✅ Cross-Platform-Kompatibilität\n",
    "\n",
    "**Fazit:** Function Calling ist der einfachere Einstieg, MCP ist die zukunftssichere Enterprise-Lösung."
   ]
  },
  {
   "cell_type": "markdown",
   "source": [
    "# 2 | MCP-Server erstellen\n",
    "---"
   ],
   "metadata": {
    "id": "JnG3Otku3cAb"
   },
   "id": "JnG3Otku3cAb"
  },
  {
   "cell_type": "markdown",
   "source": [
    "\n",
    "\n",
    "Ein MCP-Server stellt die Verbindung zwischen AI-Assistenten und externen Ressourcen her. Wir erstellen einen funktionalen Server, der Datei-Operationen und Systemdaten bereitstellt.\n",
    "\n",
    "Der funktionale Ansatz verwendet separate Funktionen statt Klassen und bietet mehr Flexibilität bei der Komposition von Server-Funktionalitäten.\n",
    "\n"
   ],
   "metadata": {
    "id": "0jQlboPJ5gOP"
   },
   "id": "0jQlboPJ5gOP"
  },
  {
   "cell_type": "markdown",
   "source": [
    "<p><font color='black' size=\"5\">\n",
    "📂 Funktionaler Datei-Server\n",
    "</font></p>\n"
   ],
   "metadata": {
    "id": "K5tW6atQ3eC4"
   },
   "id": "K5tW6atQ3eC4"
  },
  {
   "cell_type": "code",
   "execution_count": null,
   "id": "055beed3",
   "metadata": {
    "id": "055beed3"
   },
   "outputs": [],
   "source": "#@title 📦 MCP-Modul importieren { display-mode: \"form\" }\n\n# Importiere das MCP-Modul\nfrom mcp_modul import (\n    # Server-Funktionen\n    handle_mcp_request,\n    get_server_info,\n    register_new_tool,\n    \n    # Client-Funktionen\n    setup_full_connection,\n    call_server_tool,\n    get_available_tools,\n    get_client_status,\n    \n    # Assistant-Funktionen\n    setup_assistant_mcp_connection,\n    process_user_query,\n    get_assistant_status,\n    \n    # Modul-Info\n    get_module_info\n)\n\n# Modul-Info anzeigen\nmprint(\"### ✅ MCP-Modul erfolgreich importiert\")\nmprint(\"---\")\n\nmodule_info = get_module_info()\nprint(f\"📦 Modul: {module_info['name']} v{module_info['version']}\")\nprint(f\"📝 {module_info['description']}\")\nprint(f\"\\n🔧 Komponenten:\")\nprint(f\"   📡 Server: {module_info['components']['server']['config']['name']}\")\nprint(f\"   💻 Client: {module_info['components']['client']['config']['name']}\")\nprint(f\"   🤖 Assistant: {module_info['components']['assistant']['config']['name']}\")\nprint(f\"\\n🛠️ Verfügbare Tools: {', '.join(module_info['components']['server']['tools'])}\")\nprint(f\"\\n💡 Alle Funktionen sind nun verfügbar - bereit zum Testen!\")"
  },
  {
   "cell_type": "markdown",
   "id": "bc3ec0cc",
   "metadata": {
    "id": "bc3ec0cc"
   },
   "source": [
    "\n",
    "<p><font color='black' size=\"5\">\n",
    "🔧 Server-Testing\n",
    "</font></p>"
   ]
  },
  {
   "cell_type": "code",
   "execution_count": null,
   "id": "4a09182d",
   "metadata": {
    "id": "4a09182d"
   },
   "outputs": [],
   "source": "# Test des MCP-Servers (vereinfacht mit Modul)\nasync def test_mcp_server():\n    \"\"\"Testet die grundlegenden Server-Funktionen\"\"\"\n\n    mprint(\"### 🧪 Teste MCP-Server...\\n\")\n    mprint(\"---\")\n\n    # 1. Server-Info\n    print(\"1️⃣ Server-Informationen:\")\n    info = get_server_info()\n    print(f\"   Name: {info['name']}\")\n    print(f\"   Version: {info['version']}\")\n    print(f\"   Tools: {', '.join(info['available_tools'])}\")\n    print()\n\n    # 2. Tools auflisten\n    tools_request = {\n        \"jsonrpc\": \"2.0\",\n        \"id\": \"tools-1\",\n        \"method\": \"tools/list\"\n    }\n\n    response = await handle_mcp_request(tools_request)\n    print(\"2️⃣ Tool-Liste:\")\n    for tool in response['result']['tools']:\n        print(f\"   • {tool['name']}: {tool['description']}\")\n    print()\n\n    # 3. Systeminformationen abrufen\n    sysinfo_request = {\n        \"jsonrpc\": \"2.0\",\n        \"id\": \"call-1\",\n        \"method\": \"tools/call\",\n        \"params\": {\n            \"name\": \"get_system_info\",\n            \"arguments\": {}\n        }\n    }\n\n    response = await handle_mcp_request(sysinfo_request)\n    import json\n    result = json.loads(response[\"result\"][\"content\"][0][\"text\"])\n    print(\"3️⃣ Systeminformationen:\")\n    print(f\"   System: {result['system']}\")\n    print(f\"   Python: {result['python_version']}\")\n    print()\n\n    print(\"✅ Server-Tests erfolgreich!\")\n\n# Tests ausführen\nawait test_mcp_server()"
  },
  {
   "cell_type": "markdown",
   "id": "7f183861",
   "metadata": {
    "id": "7f183861"
   },
   "source": [
    "# 3 | MCP-Client erstellen\n",
    "---"
   ]
  },
  {
   "cell_type": "markdown",
   "source": [
    "Ein funktionaler MCP-Client verbindet sich mit MCP-Servern und ermöglicht es AI-Assistenten, externe Tools zu nutzen. Der funktionale Ansatz bietet mehr Flexibilität bei der Client-Komposition.\n",
    "\n"
   ],
   "metadata": {
    "id": "sUyyGao13n0F"
   },
   "id": "sUyyGao13n0F"
  },
  {
   "cell_type": "markdown",
   "source": [
    "\n",
    "<p><font color='black' size=\"5\">\n",
    "MCP-Client Implementation\n",
    "</font></p>"
   ],
   "metadata": {
    "id": "0-OEz6zF3p4k"
   },
   "id": "0-OEz6zF3p4k"
  },
  {
   "cell_type": "code",
   "execution_count": null,
   "id": "41a95785",
   "metadata": {
    "id": "41a95785"
   },
   "outputs": [],
   "source": "#@title 🔗 Client-Server-Verbindung herstellen { display-mode: \"form\" }\n\n# Vollständige Verbindung mit dem Modul herstellen\nprint(\"🔗 Stelle Verbindung zum MCP-Server her...\")\n\nawait setup_full_connection(\"file-server\", handle_mcp_request)\n\n# Client-Status anzeigen\nmprint(\"### ✅ Client-Server-Verbindung hergestellt\")\nmprint(\"---\")\n\nstatus = get_client_status()\nprint(f\"📊 Client-Status:\")\nprint(f\"   Verbundene Server: {', '.join(status['connected_servers'])}\")\nprint(f\"   Verfügbare Tools: {status['total_tools']}\")\nprint()\n\nprint(f\"🛠️ Tools pro Server:\")\nfor server, count in status['tools_by_server'].items():\n    print(f\"   • {server}: {count} Tools\")\n\nprint(f\"\\n💡 Client ist bereit für Tool-Aufrufe!\")"
  },
  {
   "cell_type": "markdown",
   "id": "b7fbabc0",
   "metadata": {
    "id": "b7fbabc0"
   },
   "source": [
    "\n",
    "<p><font color='black' size=\"5\">\n",
    "Client-Server Integration\n",
    "</font></p>"
   ]
  },
  {
   "cell_type": "code",
   "execution_count": null,
   "id": "2aa3ce77",
   "metadata": {
    "id": "2aa3ce77"
   },
   "outputs": [],
   "source": "# Client-Server Integration testen (vereinfacht mit Modul)\nasync def test_client_server():\n    \"\"\"Testet die Client-Server-Integration\"\"\"\n\n    mprint(\"### 🔗 Teste Client-Server-Integration...\\n\")\n\n    # 1. Verfügbare Tools anzeigen\n    print(\"1️⃣ Verfügbare Tools:\")\n    tools = get_available_tools()\n    for server, tool_list in tools.items():\n        print(f\"   {server}: {', '.join(tool_list)}\")\n    print()\n\n    # 2. Systeminformationen abrufen\n    print(\"2️⃣ Systeminformationen abrufen:\")\n    sys_response = await call_server_tool(\"file-server\", \"get_system_info\", {})\n    \n    if \"result\" in sys_response:\n        import json\n        result = json.loads(sys_response[\"result\"][\"content\"][0][\"text\"])\n        print(f\"   System: {result['system']}\")\n        print(f\"   Python: {result['python_version']}\")\n        print(f\"   Verzeichnis: {result['current_directory']}\")\n    print()\n\n    # 3. Test-Datei erstellen\n    print(\"3️⃣ Test-Datei erstellen:\")\n    test_content = \"Hello from MCP Module!\\nDies ist ein Test.\"\n    \n    await call_server_tool(\n        \"file-server\",\n        \"write_file\",\n        {\"filepath\": \"mcp_module_test.txt\", \"content\": test_content}\n    )\n    print()\n\n    # 4. Datei lesen\n    print(\"4️⃣ Test-Datei lesen:\")\n    read_response = await call_server_tool(\n        \"file-server\",\n        \"read_file\",\n        {\"filepath\": \"mcp_module_test.txt\"}\n    )\n\n    if \"result\" in read_response:\n        result = json.loads(read_response[\"result\"][\"content\"][0][\"text\"])\n        if result.get(\"success\"):\n            print(f\"   ✅ Gelesen: {result['size']} Zeichen\")\n            print(f\"   📄 Inhalt: {result['content'][:50]}...\")\n    print()\n\n    print(\"✅ Client-Server-Integration erfolgreich!\")\n\n# Tests ausführen\nawait test_client_server()"
  },
  {
   "cell_type": "markdown",
   "id": "4fd6c382",
   "metadata": {
    "id": "4fd6c382"
   },
   "source": [
    "# 4 | AI-Assistant mit MCP\n",
    "---"
   ]
  },
  {
   "cell_type": "markdown",
   "source": [
    "Jetzt erstellen wir einen AI-Assistenten mit funktionalem Ansatz, der MCP verwendet, um externe Tools in seine Antworten zu integrieren. Der funktionale Ansatz bietet mehr Flexibilität bei der Komposition von Assistant-Funktionalitäten.\n",
    "\n"
   ],
   "metadata": {
    "id": "FrHTygiz30h7"
   },
   "id": "FrHTygiz30h7"
  },
  {
   "cell_type": "markdown",
   "source": [
    "\n",
    "<p><font color='black' size=\"5\">\n",
    "MCP-Enhanced AI Assistant\n",
    "</font></p>"
   ],
   "metadata": {
    "id": "YBKYsRXM32JM"
   },
   "id": "YBKYsRXM32JM"
  },
  {
   "cell_type": "code",
   "execution_count": null,
   "id": "4d1b1de9",
   "metadata": {
    "id": "4d1b1de9"
   },
   "outputs": [],
   "source": "#@title 🤖 AI-Assistant einrichten { display-mode: \"form\" }\n\n# Assistant mit MCP-Server verbinden\nsetup_assistant_mcp_connection(\"file-server\")\n\n# Assistant-Status anzeigen\nmprint(\"### ✅ AI-Assistant mit MCP verbunden\")\nmprint(\"---\")\n\nstatus = get_assistant_status()\nprint(f\"🤖 Assistant-Konfiguration:\")\nprint(f\"   Name: {status['config']['name']}\")\nprint(f\"   Modell: {status['config']['openai_model']}\")\nprint(f\"   MCP aktiviert: {status['mcp_enabled']}\")\nprint(f\"   Verbundener Server: {status['connected_server']}\")\nprint()\n\nprint(f\"🛠️ Verfügbare Tools:\")\nfor server, tool_list in status['available_tools'].items():\n    for tool in tool_list:\n        print(f\"   • {tool}\")\n\nprint(f\"\\n💡 Assistant ist bereit für Anfragen!\")"
  },
  {
   "cell_type": "markdown",
   "id": "9005bd46",
   "metadata": {
    "id": "9005bd46"
   },
   "source": [
    "\n",
    "<p><font color='black' size=\"5\">\n",
    "AI-Assistant in Aktion\n",
    "</font></p>"
   ]
  },
  {
   "cell_type": "code",
   "execution_count": null,
   "id": "c3792d9b",
   "metadata": {
    "id": "c3792d9b"
   },
   "outputs": [],
   "source": "# AI-Assistant Demo (vereinfacht mit Modul)\nasync def demo_mcp_assistant():\n    \"\"\"Demonstriert den MCP-Enhanced Assistant\"\"\"\n\n    mprint(\"## 🎬 Demo: MCP-Enhanced AI Assistant\\n\")\n\n    # Demo-Anfragen\n    demo_queries = [\n        \"Was für ein System läuft hier?\",\n        \"Erstelle eine Datei 'demo.txt' mit dem Inhalt 'Hello MCP!'\",\n        \"Lies die Datei 'demo.txt'\",\n    ]\n\n    for i, query in enumerate(demo_queries, 1):\n        mprint(f\"#### Query {i}/{len(demo_queries)}: {query}\")\n\n        # Mit MCP\n        print(\"\\n📊 MIT MCP:\")\n        print(\"-\" * 40)\n        mcp_response = await process_user_query(query, use_mcp=True)\n        print(f\"\\n🤖 {mcp_response}\")\n        print()\n\n        # Kurze Pause\n        await asyncio.sleep(1)\n\n    print(f\"\\n{'='*60}\")\n    print(\"🎯 Demo abgeschlossen!\")\n    print(\"\\n💡 Vorteile:\")\n    print(\"   ✅ Zugriff auf echte System- und Datei-Daten\")\n    print(\"   ✅ Funktionaler Ansatz für bessere Wartbarkeit\")\n    print(\"   ✅ Production-ready durch Modul-Import\")\n\n# Demo starten\nawait demo_mcp_assistant()"
  },
  {
   "cell_type": "markdown",
   "id": "3c7122de",
   "metadata": {
    "lines_to_next_cell": 0,
    "id": "3c7122de"
   },
   "source": [
    "# 5 | MCP in der Praxis\n",
    "---"
   ]
  },
  {
   "cell_type": "markdown",
   "source": [
    "\n",
    "<p><font color='black' size=\"5\">\n",
    "Anwendungsfälle\n",
    "</font></p>"
   ],
   "metadata": {
    "id": "GjDs9ckd40iY"
   },
   "id": "GjDs9ckd40iY"
  },
  {
   "cell_type": "markdown",
   "source": [
    "\n",
    "\n",
    "MCP bietet in Unternehmensumgebungen erhebliche Vorteile, besonders wenn funktional implementiert:\n",
    "\n",
    "**1. Datenbank-Integration**\n",
    "- Direkter Zugriff auf Unternehmens-Datenbanken\n",
    "- Echtzeit-Berichte und Analytics\n",
    "- Automatisierte Datenextraktion\n",
    "\n",
    "**2. ERP-System-Anbindung**\n",
    "- Zugriff auf SAP, Oracle, Microsoft Dynamics\n",
    "- Automatisierte Bestellprozesse\n",
    "- Inventory-Management\n",
    "\n",
    "**3. Cloud-Service-Integration**\n",
    "- AWS, Azure, Google Cloud APIs\n",
    "- Automatisierte Ressourcenverwaltung\n",
    "- Monitoring und Alerting\n",
    "\n",
    "**4. Sicherheits-Tools**\n",
    "- SIEM-System-Integration\n",
    "- Automatisierte Incident Response\n",
    "- Compliance-Reporting\n",
    "\n",
    "**5. Collaboration-Tools**\n",
    "- Slack, Teams, Jira Integration\n",
    "- Automatisierte Projekt-Updates\n",
    "- Team-Koordination\n",
    "\n",
    "**Vorteile des funktionalen Ansatzes:**\n",
    "- **Bessere Testbarkeit**: Einzelne Funktionen können isoliert getestet werden\n",
    "- **Flexiblere Komposition**: Tools können dynamisch kombiniert werden\n",
    "- **Einfachere Wartung**: Klare Trennung von Concerns\n",
    "- **Bessere Performance**: Keine Overhead durch Objekt-Instantiierung\n",
    "\n"
   ],
   "metadata": {
    "id": "VVMvvSTI42_J"
   },
   "id": "VVMvvSTI42_J"
  },
  {
   "cell_type": "markdown",
   "source": [
    "<p><font color='black' size=\"5\">\n",
    "Sicherheitsaspekte\n",
    "</font></p>"
   ],
   "metadata": {
    "id": "gIu72Jat441w"
   },
   "id": "gIu72Jat441w"
  },
  {
   "cell_type": "markdown",
   "source": [
    "\n",
    "\n",
    "MCP implementiert verschiedene Sicherheitsmechanismen, die im funktionalen Ansatz besonders gut strukturiert werden können:\n",
    "\n",
    "**Authentifizierung & Autorisierung:**\n",
    "- API-Key-basierte Authentifizierung\n",
    "- OAuth 2.0 / OIDC-Integration\n",
    "- Rollenbasierte Zugriffskontrolle (RBAC)\n",
    "\n",
    "**Datenschutz:**\n",
    "- Verschlüsselung in Transit (TLS)\n",
    "- Verschlüsselung at Rest\n",
    "- Daten-Anonymisierung\n",
    "\n",
    "**Audit & Compliance:**\n",
    "- Vollständige Audit-Logs\n",
    "- GDPR/CCPA-Compliance\n",
    "- SOC 2-Zertifizierung\n",
    "\n",
    "**Netzwerk-Sicherheit:**\n",
    "- VPN/Private Endpoints\n",
    "- IP-Whitelisting\n",
    "- Rate Limiting\n"
   ],
   "metadata": {
    "id": "liCtQqbb45zm"
   },
   "id": "liCtQqbb45zm"
  },
  {
   "cell_type": "markdown",
   "id": "3fdc14f4",
   "metadata": {
    "lines_to_next_cell": 0,
    "id": "3fdc14f4"
   },
   "source": [
    "\n",
    "<p><font color='black' size=\"5\">\n",
    "Zukunft von MCP\n",
    "</font></p>"
   ]
  },
  {
   "cell_type": "markdown",
   "source": [
    "**Entwicklungstrends:**\n",
    "\n",
    "**1. Erweiterte Tool-Kategorien**\n",
    "- Computer Vision APIs\n",
    "- IoT-Device Integration\n",
    "- Blockchain/Smart Contract Tools\n",
    "- Robotics Control Systems\n",
    "\n",
    "**2. Funktionale AI-Native Features**"
   ],
   "metadata": {
    "id": "bMLUCSwO4-pL"
   },
   "id": "bMLUCSwO4-pL"
  },
  {
   "cell_type": "code",
   "execution_count": null,
   "id": "044982bf",
   "metadata": {
    "id": "044982bf"
   },
   "outputs": [],
   "source": [
    "# Automatische Tool-Discovery\n",
    "async def discover_tools_automatically(domain: str):\n",
    "    \"\"\"Automatische Tool-Entdeckung basierend auf Domain\"\"\"\n",
    "    pass\n",
    "\n",
    "# Intelligente Parameter-Vorhersage\n",
    "def predict_tool_parameters(tool_name: str, context: dict):\n",
    "    \"\"\"Vorhersage von Tool-Parametern basierend auf Kontext\"\"\"\n",
    "    pass\n",
    "\n",
    "# Self-Healing Connections\n",
    "async def self_heal_connection(server_name: str):\n",
    "    \"\"\"Automatische Wiederherstellung von Verbindungen\"\"\"\n",
    "    pass"
   ]
  },
  {
   "cell_type": "markdown",
   "id": "63bce522",
   "metadata": {
    "id": "63bce522"
   },
   "source": [
    "**3. Cross-Platform Standardisierung**\n",
    "- OpenAPI/JSON Schema Integration\n",
    "- GraphQL-basierte Schemas\n",
    "- Universelle Authentication\n",
    "- Multi-Cloud Orchestration\n",
    "\n",
    "**4. Enterprise-Integration**\n",
    "- Native SAP/Oracle Connectors\n",
    "- Compliance-by-Design\n",
    "- Zero-Trust Security Models\n",
    "- Hybrid Cloud Architectures\n",
    "\n",
    "**Ausblick:**\n",
    "MCP entwickelt sich zu einem universellen Standard für AI-System-Integration. Der funktionale Ansatz bietet dabei besondere Vorteile:\n",
    "\n",
    "- **Bessere Komposierbarkeit**: Funktionen können flexibel kombiniert werden\n",
    "- **Einfachere Tests**: Isolierte Funktionen sind leichter zu testen\n",
    "- **Klarere Architektur**: Funktionale Programmierung fördert saubere Designs\n",
    "- **Bessere Performance**: Weniger Overhead durch Objekt-Management\n",
    "\n",
    "In den nächsten Jahren erwarten wir:\n",
    "\n",
    "- **Standardisierung** durch W3C oder ähnliche Organisationen\n",
    "- **Native Support** in allen großen AI-Plattformen\n",
    "- **Enterprise-Grade** Sicherheit und Compliance\n",
    "- **Ökosystem** von vordefinierten funktionalen Connectoren\n",
    "- **No-Code/Low-Code** MCP-Integration Tools\n",
    "- **Funktionale Komposition** als Standard-Architektur\n",
    "\n",
    "MCP wird die Art und Weise revolutionieren, wie AI-Systeme mit der realen Welt interagieren, und der funktionale Ansatz wird dabei eine Schlüsselrolle spielen.\n",
    "\n"
   ]
  },
  {
   "cell_type": "markdown",
   "source": [
    "# 6 | Aufgabe\n",
    "---"
   ],
   "metadata": {
    "id": "_GaK1yT95HUN"
   },
   "id": "_GaK1yT95HUN"
  },
  {
   "cell_type": "markdown",
   "source": [
    "Erweitere den funktionalen MCP-Server um eine neue Tool-Kategorie deiner Wahl:\n",
    "\n",
    "**Option A: Mathematik-Tools**\n",
    "- `calculate`: Führt mathematische Berechnungen durch\n",
    "- `solve_equation`: Löst einfache Gleichungen\n",
    "- `statistics`: Berechnet Statistiken für Datenlisten\n",
    "\n",
    "**Option B: Web-Tools**\n",
    "- `fetch_url`: Lädt Webseiten-Inhalte\n",
    "- `parse_json`: Parst JSON-Daten\n",
    "- `validate_email`: Validiert E-Mail-Adressen\n",
    "\n",
    "**Option C: Datenbank-Tools**\n",
    "- `create_table`: Erstellt SQLite-Tabellen\n",
    "- `insert_data`: Fügt Daten in Tabellen ein\n",
    "- `query_data`: Führt SQL-Abfragen aus\n",
    "\n",
    "**Schritte:**\n",
    "1. Erweitere die `tools_registry` um 2-3 neue Tools\n",
    "2. Implementiere die Tool-Funktionen als separate async functions\n",
    "3. Füge die Funktionen zum `tool_functions` Dictionary hinzu\n",
    "4. Erweitere den `handle_tool_call` um die neuen Tools\n",
    "5. Teste die neuen Tools mit dem funktionalen Client\n",
    "6. Integriere sie in den funktionalen AI-Assistenten\n",
    "7. Führe eine Demo-Sitzung durch"
   ],
   "metadata": {
    "id": "J03kodAD5JyG"
   },
   "id": "J03kodAD5JyG"
  },
  {
   "cell_type": "code",
   "execution_count": null,
   "id": "7285d066",
   "metadata": {
    "id": "7285d066"
   },
   "outputs": [],
   "source": "# Hier ist Platz für deine Lösung!\n\n# Mit dem mcp_modul kannst du jetzt einfach neue Tools hinzufügen:\n\n# 1. Tool-Funktion implementieren\nasync def my_custom_tool(param1: str) -> dict:\n    \"\"\"Mein eigenes Tool\"\"\"\n    try:\n        result = f\"Verarbeite: {param1}\"\n        return {\n            \"success\": True,\n            \"result\": result\n        }\n    except Exception as e:\n        return {\n            \"success\": False,\n            \"error\": str(e)\n        }\n\n# 2. Tool registrieren\nfrom mcp_modul import register_new_tool\n\nsuccess = register_new_tool(\n    name=\"my_custom_tool\",\n    description=\"Mein eigenes Tool\",\n    parameters={\n        \"type\": \"object\",\n        \"properties\": {\n            \"param1\": {\"type\": \"string\"}\n        },\n        \"required\": [\"param1\"]\n    },\n    function=my_custom_tool\n)\n\nif success:\n    print(\"✅ Tool erfolgreich registriert!\")\n    print(\"🔧 Nutze es mit: await call_server_tool('file-server', 'my_custom_tool', {'param1': 'test'})\")\nelse:\n    print(\"❌ Tool-Registrierung fehlgeschlagen\")\n\n# 3. Tool testen\n# await call_server_tool(\"file-server\", \"my_custom_tool\", {\"param1\": \"Hallo MCP!\"})\n\nprint(\"\\n💡 Tipp: Schaue in mcp_modul_README.md für weitere Beispiele!\")\nprint(\"📚 Dokumentation: Alle Funktionen sind ausführlich dokumentiert\")"
  }
 ],
 "metadata": {
  "jupytext": {
   "cell_metadata_filter": "-all",
   "main_language": "python",
   "notebook_metadata_filter": "-all",
   "text_representation": {
    "extension": ".md",
    "format_name": "markdown"
   }
  },
  "colab": {
   "provenance": [],
   "toc_visible": true,
   "collapsed_sections": [
    "9690c530",
    "JnG3Otku3cAb",
    "7f183861",
    "4fd6c382",
    "3c7122de",
    "_GaK1yT95HUN"
   ]
  },
  "language_info": {
   "name": "python"
  },
  "kernelspec": {
   "name": "python3",
   "display_name": "Python 3"
  }
 },
 "nbformat": 4,
 "nbformat_minor": 5
}